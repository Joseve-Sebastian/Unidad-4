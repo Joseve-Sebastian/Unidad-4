{
  "nbformat": 4,
  "nbformat_minor": 0,
  "metadata": {
    "colab": {
      "provenance": [],
      "collapsed_sections": [
        "qvu5-BGj81N5",
        "NRFLw0C7OOwT",
        "ZSXBva6nO67K",
        "cz-dqJ3WO04w",
        "mvBCcJoSsWDm",
        "lFBvqzFhssLl",
        "IPvgPqqotc1D",
        "mU6PGTd6tvg6",
        "jOPFknUtuuMO",
        "fTeOHdCbu2e2",
        "g3Sw-7JI9SYo",
        "sXcN52xywzLX",
        "42w3Sbi25-YG",
        "LHzBGG8TQsfs",
        "ssi1CWIyQy0o",
        "6s5fdsap6LTH",
        "EfLnOah76anW",
        "NjhO52767hVp",
        "BLz_XGdR_9kv",
        "dwttZHcD8XrQ",
        "xm5QenXuHvP1",
        "ANI1W83r_0Zh",
        "Y4ReNVNeH5wd",
        "TYKv2pHLFKTU",
        "QNLiL3YdUPq0",
        "jr3JJg83Vj2k",
        "z4abo4NCAa9g",
        "WN6lLM_kWb61",
        "j2jjt32BWjLO",
        "p2jbl5sJWwN0",
        "g4wqrMqSX9uh",
        "kk0z7cknayEr",
        "y4hHCk1PcLnI",
        "LoHhLnF2dTvV",
        "flpeRG0yAry5",
        "0nMhGhuDEkab",
        "Lao3OJHRAu6T",
        "P_6Tl1pTDPbY",
        "_2XZT_NgDcpg",
        "XKSr5IhoD4S0",
        "LNnJtHiXhluO"
      ]
    },
    "kernelspec": {
      "name": "python3",
      "display_name": "Python 3"
    },
    "language_info": {
      "name": "python"
    }
  },
  "cells": [
    {
      "cell_type": "markdown",
      "source": [
        "https://colab.research.google.com/drive/1uvScS2BM3YDOySInbzuL6UsH9zLCAlDR?usp=sharing"
      ],
      "metadata": {
        "id": "F8Dupsn-rMsz"
      }
    },
    {
      "cell_type": "markdown",
      "source": [
        "# Problemario de bloqueo"
      ],
      "metadata": {
        "id": "cJhbGAsr8wlE"
      }
    },
    {
      "cell_type": "markdown",
      "source": [
        "##Problema 1:\n",
        "Se hace un estudio sobre la efectividad de tres marcas de atomizador para matar moscas. Para ello, cada producto se aplica a un grupo de 100 moscas, y se cuenta el número de moscas muertas expresado en porcentajes. Se hicieron seis réplicas, pero en días diferentes; por ello, se sospecha que puede haber algún efecto importante debido a esta fuente de variación. Los datos obtenidos se muestran a continuación:\n",
        "\n",
        "| Marca de atomizador | Réplica 1 | Réplica 2 | Réplica 3 | Réplica 4 | Réplica 5 | Réplica 6 |\n",
        "|----------------------|-----------|-----------|-----------|-----------|-----------|-----------|\n",
        "| 1                   | 72        | 65        | 67        | 75        | 62        | 73        |\n",
        "| 2                   | 55        | 59        | 68        | 70        | 53        | 50        |\n",
        "| 3                   | 64        | 74        | 61        | 58        | 51        | 69        |\n",
        "\n",
        "**Preguntas:**<br>\n",
        "a) Suponiendo un DBCA, formule las hipótesis adecuadas y el modelo estadístico.  \n",
        "b) ¿Existe diferencia entre la efectividad promedio de los atomizadores?  \n",
        "c) ¿Hay algún atomizador mejor? Argumente su respuesta.  \n",
        "d) ¿Hay diferencias significativas en los resultados de diferentes días en que se realizó el experimento? Argumente su respuesta.  \n",
        "e) Verifique los supuestos de normalidad y de igual varianza entre las marcas.\n"
      ],
      "metadata": {
        "id": "qvu5-BGj81N5"
      }
    },
    {
      "cell_type": "markdown",
      "source": [
        "### a) Suponiendo un DBCA, formule las hipótesis adecuadas y el modelo estadístico."
      ],
      "metadata": {
        "id": "NRFLw0C7OOwT"
      }
    },
    {
      "cell_type": "markdown",
      "source": [
        "#### Hipotesis"
      ],
      "metadata": {
        "id": "ZSXBva6nO67K"
      }
    },
    {
      "cell_type": "markdown",
      "source": [
        "\n",
        "Se analizará si la marca del atomizador influye significativamente en la efectividad observada, además, dado que los experimentos se llevaron a cabo en días distintos, se investigará si los resultados varían significativamente entre días, lo que podría indicar un efecto adicional debido a las condiciones específicas de cada réplica."
      ],
      "metadata": {
        "id": "7DMfBIW-ORtR"
      }
    },
    {
      "cell_type": "markdown",
      "source": [
        "#### modelo estadístico."
      ],
      "metadata": {
        "id": "cz-dqJ3WO04w"
      }
    },
    {
      "cell_type": "code",
      "source": [
        "#Joseve Sebastian Lopez Martinez\n",
        "import pandas as pd\n",
        "from io import StringIO\n",
        "\n",
        "# Datos proporcionados en formato CSV (estructurados correctamente)\n",
        "data = \"\"\"\n",
        "marca,replica,valor\n",
        "1,1,72\n",
        "1,2,65\n",
        "1,3,67\n",
        "1,4,75\n",
        "1,5,62\n",
        "1,6,73\n",
        "2,1,55\n",
        "2,2,59\n",
        "2,3,68\n",
        "2,4,70\n",
        "2,5,53\n",
        "2,6,50\n",
        "3,1,64\n",
        "3,2,74\n",
        "3,3,61\n",
        "3,4,58\n",
        "3,5,51\n",
        "3,6,69\n",
        "\"\"\"\n",
        "\n",
        "# Convertimos los datos en un DataFrame\n",
        "df = pd.read_csv(StringIO(data))\n",
        "\n",
        "# Mostramos el DataFrame\n",
        "df"
      ],
      "metadata": {
        "id": "jdOlegzr9RzP",
        "colab": {
          "base_uri": "https://localhost:8080/",
          "height": 0
        },
        "outputId": "ed0882b5-48f3-4763-e944-1ec333fa4dc3"
      },
      "execution_count": 92,
      "outputs": [
        {
          "output_type": "execute_result",
          "data": {
            "text/plain": [
              "    marca  replica  valor\n",
              "0       1        1     72\n",
              "1       1        2     65\n",
              "2       1        3     67\n",
              "3       1        4     75\n",
              "4       1        5     62\n",
              "5       1        6     73\n",
              "6       2        1     55\n",
              "7       2        2     59\n",
              "8       2        3     68\n",
              "9       2        4     70\n",
              "10      2        5     53\n",
              "11      2        6     50\n",
              "12      3        1     64\n",
              "13      3        2     74\n",
              "14      3        3     61\n",
              "15      3        4     58\n",
              "16      3        5     51\n",
              "17      3        6     69"
            ],
            "text/html": [
              "\n",
              "  <div id=\"df-b120c910-63ce-4898-9235-b1cc200a4715\" class=\"colab-df-container\">\n",
              "    <div>\n",
              "<style scoped>\n",
              "    .dataframe tbody tr th:only-of-type {\n",
              "        vertical-align: middle;\n",
              "    }\n",
              "\n",
              "    .dataframe tbody tr th {\n",
              "        vertical-align: top;\n",
              "    }\n",
              "\n",
              "    .dataframe thead th {\n",
              "        text-align: right;\n",
              "    }\n",
              "</style>\n",
              "<table border=\"1\" class=\"dataframe\">\n",
              "  <thead>\n",
              "    <tr style=\"text-align: right;\">\n",
              "      <th></th>\n",
              "      <th>marca</th>\n",
              "      <th>replica</th>\n",
              "      <th>valor</th>\n",
              "    </tr>\n",
              "  </thead>\n",
              "  <tbody>\n",
              "    <tr>\n",
              "      <th>0</th>\n",
              "      <td>1</td>\n",
              "      <td>1</td>\n",
              "      <td>72</td>\n",
              "    </tr>\n",
              "    <tr>\n",
              "      <th>1</th>\n",
              "      <td>1</td>\n",
              "      <td>2</td>\n",
              "      <td>65</td>\n",
              "    </tr>\n",
              "    <tr>\n",
              "      <th>2</th>\n",
              "      <td>1</td>\n",
              "      <td>3</td>\n",
              "      <td>67</td>\n",
              "    </tr>\n",
              "    <tr>\n",
              "      <th>3</th>\n",
              "      <td>1</td>\n",
              "      <td>4</td>\n",
              "      <td>75</td>\n",
              "    </tr>\n",
              "    <tr>\n",
              "      <th>4</th>\n",
              "      <td>1</td>\n",
              "      <td>5</td>\n",
              "      <td>62</td>\n",
              "    </tr>\n",
              "    <tr>\n",
              "      <th>5</th>\n",
              "      <td>1</td>\n",
              "      <td>6</td>\n",
              "      <td>73</td>\n",
              "    </tr>\n",
              "    <tr>\n",
              "      <th>6</th>\n",
              "      <td>2</td>\n",
              "      <td>1</td>\n",
              "      <td>55</td>\n",
              "    </tr>\n",
              "    <tr>\n",
              "      <th>7</th>\n",
              "      <td>2</td>\n",
              "      <td>2</td>\n",
              "      <td>59</td>\n",
              "    </tr>\n",
              "    <tr>\n",
              "      <th>8</th>\n",
              "      <td>2</td>\n",
              "      <td>3</td>\n",
              "      <td>68</td>\n",
              "    </tr>\n",
              "    <tr>\n",
              "      <th>9</th>\n",
              "      <td>2</td>\n",
              "      <td>4</td>\n",
              "      <td>70</td>\n",
              "    </tr>\n",
              "    <tr>\n",
              "      <th>10</th>\n",
              "      <td>2</td>\n",
              "      <td>5</td>\n",
              "      <td>53</td>\n",
              "    </tr>\n",
              "    <tr>\n",
              "      <th>11</th>\n",
              "      <td>2</td>\n",
              "      <td>6</td>\n",
              "      <td>50</td>\n",
              "    </tr>\n",
              "    <tr>\n",
              "      <th>12</th>\n",
              "      <td>3</td>\n",
              "      <td>1</td>\n",
              "      <td>64</td>\n",
              "    </tr>\n",
              "    <tr>\n",
              "      <th>13</th>\n",
              "      <td>3</td>\n",
              "      <td>2</td>\n",
              "      <td>74</td>\n",
              "    </tr>\n",
              "    <tr>\n",
              "      <th>14</th>\n",
              "      <td>3</td>\n",
              "      <td>3</td>\n",
              "      <td>61</td>\n",
              "    </tr>\n",
              "    <tr>\n",
              "      <th>15</th>\n",
              "      <td>3</td>\n",
              "      <td>4</td>\n",
              "      <td>58</td>\n",
              "    </tr>\n",
              "    <tr>\n",
              "      <th>16</th>\n",
              "      <td>3</td>\n",
              "      <td>5</td>\n",
              "      <td>51</td>\n",
              "    </tr>\n",
              "    <tr>\n",
              "      <th>17</th>\n",
              "      <td>3</td>\n",
              "      <td>6</td>\n",
              "      <td>69</td>\n",
              "    </tr>\n",
              "  </tbody>\n",
              "</table>\n",
              "</div>\n",
              "    <div class=\"colab-df-buttons\">\n",
              "\n",
              "  <div class=\"colab-df-container\">\n",
              "    <button class=\"colab-df-convert\" onclick=\"convertToInteractive('df-b120c910-63ce-4898-9235-b1cc200a4715')\"\n",
              "            title=\"Convert this dataframe to an interactive table.\"\n",
              "            style=\"display:none;\">\n",
              "\n",
              "  <svg xmlns=\"http://www.w3.org/2000/svg\" height=\"24px\" viewBox=\"0 -960 960 960\">\n",
              "    <path d=\"M120-120v-720h720v720H120Zm60-500h600v-160H180v160Zm220 220h160v-160H400v160Zm0 220h160v-160H400v160ZM180-400h160v-160H180v160Zm440 0h160v-160H620v160ZM180-180h160v-160H180v160Zm440 0h160v-160H620v160Z\"/>\n",
              "  </svg>\n",
              "    </button>\n",
              "\n",
              "  <style>\n",
              "    .colab-df-container {\n",
              "      display:flex;\n",
              "      gap: 12px;\n",
              "    }\n",
              "\n",
              "    .colab-df-convert {\n",
              "      background-color: #E8F0FE;\n",
              "      border: none;\n",
              "      border-radius: 50%;\n",
              "      cursor: pointer;\n",
              "      display: none;\n",
              "      fill: #1967D2;\n",
              "      height: 32px;\n",
              "      padding: 0 0 0 0;\n",
              "      width: 32px;\n",
              "    }\n",
              "\n",
              "    .colab-df-convert:hover {\n",
              "      background-color: #E2EBFA;\n",
              "      box-shadow: 0px 1px 2px rgba(60, 64, 67, 0.3), 0px 1px 3px 1px rgba(60, 64, 67, 0.15);\n",
              "      fill: #174EA6;\n",
              "    }\n",
              "\n",
              "    .colab-df-buttons div {\n",
              "      margin-bottom: 4px;\n",
              "    }\n",
              "\n",
              "    [theme=dark] .colab-df-convert {\n",
              "      background-color: #3B4455;\n",
              "      fill: #D2E3FC;\n",
              "    }\n",
              "\n",
              "    [theme=dark] .colab-df-convert:hover {\n",
              "      background-color: #434B5C;\n",
              "      box-shadow: 0px 1px 3px 1px rgba(0, 0, 0, 0.15);\n",
              "      filter: drop-shadow(0px 1px 2px rgba(0, 0, 0, 0.3));\n",
              "      fill: #FFFFFF;\n",
              "    }\n",
              "  </style>\n",
              "\n",
              "    <script>\n",
              "      const buttonEl =\n",
              "        document.querySelector('#df-b120c910-63ce-4898-9235-b1cc200a4715 button.colab-df-convert');\n",
              "      buttonEl.style.display =\n",
              "        google.colab.kernel.accessAllowed ? 'block' : 'none';\n",
              "\n",
              "      async function convertToInteractive(key) {\n",
              "        const element = document.querySelector('#df-b120c910-63ce-4898-9235-b1cc200a4715');\n",
              "        const dataTable =\n",
              "          await google.colab.kernel.invokeFunction('convertToInteractive',\n",
              "                                                    [key], {});\n",
              "        if (!dataTable) return;\n",
              "\n",
              "        const docLinkHtml = 'Like what you see? Visit the ' +\n",
              "          '<a target=\"_blank\" href=https://colab.research.google.com/notebooks/data_table.ipynb>data table notebook</a>'\n",
              "          + ' to learn more about interactive tables.';\n",
              "        element.innerHTML = '';\n",
              "        dataTable['output_type'] = 'display_data';\n",
              "        await google.colab.output.renderOutput(dataTable, element);\n",
              "        const docLink = document.createElement('div');\n",
              "        docLink.innerHTML = docLinkHtml;\n",
              "        element.appendChild(docLink);\n",
              "      }\n",
              "    </script>\n",
              "  </div>\n",
              "\n",
              "\n",
              "<div id=\"df-4d30f55c-2d66-46b8-9b07-e78683894fe9\">\n",
              "  <button class=\"colab-df-quickchart\" onclick=\"quickchart('df-4d30f55c-2d66-46b8-9b07-e78683894fe9')\"\n",
              "            title=\"Suggest charts\"\n",
              "            style=\"display:none;\">\n",
              "\n",
              "<svg xmlns=\"http://www.w3.org/2000/svg\" height=\"24px\"viewBox=\"0 0 24 24\"\n",
              "     width=\"24px\">\n",
              "    <g>\n",
              "        <path d=\"M19 3H5c-1.1 0-2 .9-2 2v14c0 1.1.9 2 2 2h14c1.1 0 2-.9 2-2V5c0-1.1-.9-2-2-2zM9 17H7v-7h2v7zm4 0h-2V7h2v10zm4 0h-2v-4h2v4z\"/>\n",
              "    </g>\n",
              "</svg>\n",
              "  </button>\n",
              "\n",
              "<style>\n",
              "  .colab-df-quickchart {\n",
              "      --bg-color: #E8F0FE;\n",
              "      --fill-color: #1967D2;\n",
              "      --hover-bg-color: #E2EBFA;\n",
              "      --hover-fill-color: #174EA6;\n",
              "      --disabled-fill-color: #AAA;\n",
              "      --disabled-bg-color: #DDD;\n",
              "  }\n",
              "\n",
              "  [theme=dark] .colab-df-quickchart {\n",
              "      --bg-color: #3B4455;\n",
              "      --fill-color: #D2E3FC;\n",
              "      --hover-bg-color: #434B5C;\n",
              "      --hover-fill-color: #FFFFFF;\n",
              "      --disabled-bg-color: #3B4455;\n",
              "      --disabled-fill-color: #666;\n",
              "  }\n",
              "\n",
              "  .colab-df-quickchart {\n",
              "    background-color: var(--bg-color);\n",
              "    border: none;\n",
              "    border-radius: 50%;\n",
              "    cursor: pointer;\n",
              "    display: none;\n",
              "    fill: var(--fill-color);\n",
              "    height: 32px;\n",
              "    padding: 0;\n",
              "    width: 32px;\n",
              "  }\n",
              "\n",
              "  .colab-df-quickchart:hover {\n",
              "    background-color: var(--hover-bg-color);\n",
              "    box-shadow: 0 1px 2px rgba(60, 64, 67, 0.3), 0 1px 3px 1px rgba(60, 64, 67, 0.15);\n",
              "    fill: var(--button-hover-fill-color);\n",
              "  }\n",
              "\n",
              "  .colab-df-quickchart-complete:disabled,\n",
              "  .colab-df-quickchart-complete:disabled:hover {\n",
              "    background-color: var(--disabled-bg-color);\n",
              "    fill: var(--disabled-fill-color);\n",
              "    box-shadow: none;\n",
              "  }\n",
              "\n",
              "  .colab-df-spinner {\n",
              "    border: 2px solid var(--fill-color);\n",
              "    border-color: transparent;\n",
              "    border-bottom-color: var(--fill-color);\n",
              "    animation:\n",
              "      spin 1s steps(1) infinite;\n",
              "  }\n",
              "\n",
              "  @keyframes spin {\n",
              "    0% {\n",
              "      border-color: transparent;\n",
              "      border-bottom-color: var(--fill-color);\n",
              "      border-left-color: var(--fill-color);\n",
              "    }\n",
              "    20% {\n",
              "      border-color: transparent;\n",
              "      border-left-color: var(--fill-color);\n",
              "      border-top-color: var(--fill-color);\n",
              "    }\n",
              "    30% {\n",
              "      border-color: transparent;\n",
              "      border-left-color: var(--fill-color);\n",
              "      border-top-color: var(--fill-color);\n",
              "      border-right-color: var(--fill-color);\n",
              "    }\n",
              "    40% {\n",
              "      border-color: transparent;\n",
              "      border-right-color: var(--fill-color);\n",
              "      border-top-color: var(--fill-color);\n",
              "    }\n",
              "    60% {\n",
              "      border-color: transparent;\n",
              "      border-right-color: var(--fill-color);\n",
              "    }\n",
              "    80% {\n",
              "      border-color: transparent;\n",
              "      border-right-color: var(--fill-color);\n",
              "      border-bottom-color: var(--fill-color);\n",
              "    }\n",
              "    90% {\n",
              "      border-color: transparent;\n",
              "      border-bottom-color: var(--fill-color);\n",
              "    }\n",
              "  }\n",
              "</style>\n",
              "\n",
              "  <script>\n",
              "    async function quickchart(key) {\n",
              "      const quickchartButtonEl =\n",
              "        document.querySelector('#' + key + ' button');\n",
              "      quickchartButtonEl.disabled = true;  // To prevent multiple clicks.\n",
              "      quickchartButtonEl.classList.add('colab-df-spinner');\n",
              "      try {\n",
              "        const charts = await google.colab.kernel.invokeFunction(\n",
              "            'suggestCharts', [key], {});\n",
              "      } catch (error) {\n",
              "        console.error('Error during call to suggestCharts:', error);\n",
              "      }\n",
              "      quickchartButtonEl.classList.remove('colab-df-spinner');\n",
              "      quickchartButtonEl.classList.add('colab-df-quickchart-complete');\n",
              "    }\n",
              "    (() => {\n",
              "      let quickchartButtonEl =\n",
              "        document.querySelector('#df-4d30f55c-2d66-46b8-9b07-e78683894fe9 button');\n",
              "      quickchartButtonEl.style.display =\n",
              "        google.colab.kernel.accessAllowed ? 'block' : 'none';\n",
              "    })();\n",
              "  </script>\n",
              "</div>\n",
              "\n",
              "  <div id=\"id_5b7b827f-d123-426b-a719-5b1c8b675bd2\">\n",
              "    <style>\n",
              "      .colab-df-generate {\n",
              "        background-color: #E8F0FE;\n",
              "        border: none;\n",
              "        border-radius: 50%;\n",
              "        cursor: pointer;\n",
              "        display: none;\n",
              "        fill: #1967D2;\n",
              "        height: 32px;\n",
              "        padding: 0 0 0 0;\n",
              "        width: 32px;\n",
              "      }\n",
              "\n",
              "      .colab-df-generate:hover {\n",
              "        background-color: #E2EBFA;\n",
              "        box-shadow: 0px 1px 2px rgba(60, 64, 67, 0.3), 0px 1px 3px 1px rgba(60, 64, 67, 0.15);\n",
              "        fill: #174EA6;\n",
              "      }\n",
              "\n",
              "      [theme=dark] .colab-df-generate {\n",
              "        background-color: #3B4455;\n",
              "        fill: #D2E3FC;\n",
              "      }\n",
              "\n",
              "      [theme=dark] .colab-df-generate:hover {\n",
              "        background-color: #434B5C;\n",
              "        box-shadow: 0px 1px 3px 1px rgba(0, 0, 0, 0.15);\n",
              "        filter: drop-shadow(0px 1px 2px rgba(0, 0, 0, 0.3));\n",
              "        fill: #FFFFFF;\n",
              "      }\n",
              "    </style>\n",
              "    <button class=\"colab-df-generate\" onclick=\"generateWithVariable('df')\"\n",
              "            title=\"Generate code using this dataframe.\"\n",
              "            style=\"display:none;\">\n",
              "\n",
              "  <svg xmlns=\"http://www.w3.org/2000/svg\" height=\"24px\"viewBox=\"0 0 24 24\"\n",
              "       width=\"24px\">\n",
              "    <path d=\"M7,19H8.4L18.45,9,17,7.55,7,17.6ZM5,21V16.75L18.45,3.32a2,2,0,0,1,2.83,0l1.4,1.43a1.91,1.91,0,0,1,.58,1.4,1.91,1.91,0,0,1-.58,1.4L9.25,21ZM18.45,9,17,7.55Zm-12,3A5.31,5.31,0,0,0,4.9,8.1,5.31,5.31,0,0,0,1,6.5,5.31,5.31,0,0,0,4.9,4.9,5.31,5.31,0,0,0,6.5,1,5.31,5.31,0,0,0,8.1,4.9,5.31,5.31,0,0,0,12,6.5,5.46,5.46,0,0,0,6.5,12Z\"/>\n",
              "  </svg>\n",
              "    </button>\n",
              "    <script>\n",
              "      (() => {\n",
              "      const buttonEl =\n",
              "        document.querySelector('#id_5b7b827f-d123-426b-a719-5b1c8b675bd2 button.colab-df-generate');\n",
              "      buttonEl.style.display =\n",
              "        google.colab.kernel.accessAllowed ? 'block' : 'none';\n",
              "\n",
              "      buttonEl.onclick = () => {\n",
              "        google.colab.notebook.generateWithVariable('df');\n",
              "      }\n",
              "      })();\n",
              "    </script>\n",
              "  </div>\n",
              "\n",
              "    </div>\n",
              "  </div>\n"
            ],
            "application/vnd.google.colaboratory.intrinsic+json": {
              "type": "dataframe",
              "variable_name": "df",
              "summary": "{\n  \"name\": \"df\",\n  \"rows\": 18,\n  \"fields\": [\n    {\n      \"column\": \"marca\",\n      \"properties\": {\n        \"dtype\": \"number\",\n        \"std\": 0,\n        \"min\": 1,\n        \"max\": 3,\n        \"num_unique_values\": 3,\n        \"samples\": [\n          1,\n          2,\n          3\n        ],\n        \"semantic_type\": \"\",\n        \"description\": \"\"\n      }\n    },\n    {\n      \"column\": \"replica\",\n      \"properties\": {\n        \"dtype\": \"number\",\n        \"std\": 1,\n        \"min\": 1,\n        \"max\": 6,\n        \"num_unique_values\": 6,\n        \"samples\": [\n          1,\n          2,\n          6\n        ],\n        \"semantic_type\": \"\",\n        \"description\": \"\"\n      }\n    },\n    {\n      \"column\": \"valor\",\n      \"properties\": {\n        \"dtype\": \"number\",\n        \"std\": 8,\n        \"min\": 50,\n        \"max\": 75,\n        \"num_unique_values\": 18,\n        \"samples\": [\n          72,\n          65,\n          68\n        ],\n        \"semantic_type\": \"\",\n        \"description\": \"\"\n      }\n    }\n  ]\n}"
            }
          },
          "metadata": {},
          "execution_count": 92
        }
      ]
    },
    {
      "cell_type": "code",
      "source": [
        "#Joseve Sebastian Lopez Martinez\n",
        "from statsmodels.formula.api import ols\n",
        "import statsmodels.api as sm\n",
        "\n",
        "nivel_de_significancia = 0.05\n",
        "\n",
        "bloques = 'replica'    # La variable que no me interesa comparar\n",
        "interes = 'marca'      # La variable que me interesa comparar\n",
        "respuesta = 'valor'     # La medición que me permite hacer la comparación\n",
        "\n",
        "# NO MODIFICAR de esta línea hacia abajo\n",
        "# Realizar el modelo ANOVA de dos vías\n",
        "modelo = ols(f'{respuesta} ~ C({interes}) + C({bloques})', data=df).fit()\n",
        "tabla_anova = sm.stats.anova_lm(modelo, typ=2)\n",
        "\n",
        "# Mostrar resultados\n",
        "print(\"Resultados del ANOVA:\")\n",
        "print(tabla_anova)\n",
        "\n",
        "# Interpretar resultados\n",
        "if tabla_anova[\"PR(>F)\"][f\"C({interes})\"] < nivel_de_significancia:\n",
        "    print(\"\\nConclusión: Hay diferencias significativas entre los tratamientos.\")\n",
        "else:\n",
        "    print(\"\\nConclusión: No hay diferencias significativas entre los tratamientos.\")\n",
        "\n",
        "if tabla_anova[\"PR(>F)\"][f\"C({bloques})\"] < nivel_de_significancia:\n",
        "    print(\"Conclusión: Hay diferencias significativas entre los bloques.\")\n",
        "else:\n",
        "    print(\"Conclusión: No hay diferencias significativas entre los bloques.\")"
      ],
      "metadata": {
        "colab": {
          "base_uri": "https://localhost:8080/"
        },
        "id": "-3I4k3WXtOF2",
        "outputId": "3d394c0d-c5b0-421c-9c85-8ea5d83f81f4"
      },
      "execution_count": 93,
      "outputs": [
        {
          "output_type": "stream",
          "name": "stdout",
          "text": [
            "Resultados del ANOVA:\n",
            "                sum_sq    df         F    PR(>F)\n",
            "C(marca)    296.333333   2.0  2.880752  0.102804\n",
            "C(replica)  281.333333   5.0  1.093973  0.420718\n",
            "Residual    514.333333  10.0       NaN       NaN\n",
            "\n",
            "Conclusión: No hay diferencias significativas entre los tratamientos.\n",
            "Conclusión: No hay diferencias significativas entre los bloques.\n"
          ]
        }
      ]
    },
    {
      "cell_type": "markdown",
      "source": [
        "### b) ¿Existe diferencia entre la efectividad promedio de los atomizadores?"
      ],
      "metadata": {
        "id": "mvBCcJoSsWDm"
      }
    },
    {
      "cell_type": "markdown",
      "source": [
        "No existe una diferencia significativa"
      ],
      "metadata": {
        "id": "iw4CIHkfsgDg"
      }
    },
    {
      "cell_type": "markdown",
      "source": [
        "### c) ¿Hay algún atomizador mejor? Argumente su respuesta."
      ],
      "metadata": {
        "id": "lFBvqzFhssLl"
      }
    },
    {
      "cell_type": "markdown",
      "source": [
        "No, debido a que no hay una diferencia significativa entre las marcas no puede haber un atomizador mejor"
      ],
      "metadata": {
        "id": "FRHX1gO9svVN"
      }
    },
    {
      "cell_type": "markdown",
      "source": [
        "### d) ¿Hay diferencias significativas en los resultados de diferentes días en que se realizó el experimento? Argumente su respuesta."
      ],
      "metadata": {
        "id": "IPvgPqqotc1D"
      }
    },
    {
      "cell_type": "markdown",
      "source": [
        "Dado que no se encontró una diferencia significativa, podemos inferir que los cambios entre los días no tuvieron un impacto importante en los porcentajes de efectividad observados.\n",
        "\n",
        "Esto sugiere que las condiciones específicas de cada día no influyeron de manera sustancial en los resultados."
      ],
      "metadata": {
        "id": "dNfQH1OctfhC"
      }
    },
    {
      "cell_type": "markdown",
      "source": [
        "### e) Verifique los supuestos de normalidad y de igual varianza entre las marcas."
      ],
      "metadata": {
        "id": "mU6PGTd6tvg6"
      }
    },
    {
      "cell_type": "markdown",
      "source": [
        "#### supuesto de normalidad: test de Shapiro"
      ],
      "metadata": {
        "id": "jOPFknUtuuMO"
      }
    },
    {
      "cell_type": "code",
      "source": [
        "#Joseve Sebastian Lopez Martinez\n",
        "df['marca'].unique()"
      ],
      "metadata": {
        "colab": {
          "base_uri": "https://localhost:8080/"
        },
        "id": "k5FtoE0mt2bh",
        "outputId": "5732ea95-1531-46ee-cbfa-9f8a96964730"
      },
      "execution_count": 94,
      "outputs": [
        {
          "output_type": "execute_result",
          "data": {
            "text/plain": [
              "array([1, 2, 3])"
            ]
          },
          "metadata": {},
          "execution_count": 94
        }
      ]
    },
    {
      "cell_type": "code",
      "source": [
        "from scipy.stats import shapiro\n",
        "#Joseve Sebastian Lopez Martinez\n",
        "nivel_de_significancia = 0.05\n",
        "\n",
        "# Función para realizar la prueba de Shapiro-Wilk y mostrar interpretación\n",
        "# NO MODIFICAR\n",
        "def prueba_shapiro(datos, nombre_grupo, nivel_de_significancia):\n",
        "    stat, p = shapiro(datos)\n",
        "    print(f\"\\nPrueba de Shapiro-Wilk para {nombre_grupo}:\")\n",
        "    print(f\"Estadístico: {stat:.4f}\")\n",
        "    print(f\"Valor p: {p:.4f}\")\n",
        "    if p > nivel_de_significancia:\n",
        "        print(\"Interpretación: Los datos tienen una distribución normal.\")\n",
        "    else:\n",
        "        print(\"Interpretación: Los datos no tienen una distribución normal.\")\n",
        "\n",
        "# Aplicar la prueba a cada grupo (parte modificable)\n",
        "prueba_shapiro(df[df['marca'] == 1]['valor'], \"Grupo A\", nivel_de_significancia)\n",
        "prueba_shapiro(df[df['marca'] == 2]['valor'], \"Grupo B\", nivel_de_significancia)\n",
        "prueba_shapiro(df[df['marca'] == 3]['valor'], \"Grupo C\", nivel_de_significancia)\n"
      ],
      "metadata": {
        "colab": {
          "base_uri": "https://localhost:8080/"
        },
        "id": "sHoDLkoduHwo",
        "outputId": "e49852ce-bdd1-4a69-db7f-316530ddee54"
      },
      "execution_count": 95,
      "outputs": [
        {
          "output_type": "stream",
          "name": "stdout",
          "text": [
            "\n",
            "Prueba de Shapiro-Wilk para Grupo A:\n",
            "Estadístico: 0.9385\n",
            "Valor p: 0.6471\n",
            "Interpretación: Los datos tienen una distribución normal.\n",
            "\n",
            "Prueba de Shapiro-Wilk para Grupo B:\n",
            "Estadístico: 0.9066\n",
            "Valor p: 0.4145\n",
            "Interpretación: Los datos tienen una distribución normal.\n",
            "\n",
            "Prueba de Shapiro-Wilk para Grupo C:\n",
            "Estadístico: 0.9947\n",
            "Valor p: 0.9975\n",
            "Interpretación: Los datos tienen una distribución normal.\n"
          ]
        }
      ]
    },
    {
      "cell_type": "markdown",
      "source": [
        "#### supuesto homoscedasticidad: test de Barlett"
      ],
      "metadata": {
        "id": "fTeOHdCbu2e2"
      }
    },
    {
      "cell_type": "code",
      "source": [
        "from scipy.stats import bartlett\n",
        "#Joseve Sebastian Lopez Martinez\n",
        "nivel_de_significancia = 0.05\n",
        "\n",
        "# Aplicar la prueba de Bartlett\n",
        "stat, p_value = bartlett(\n",
        "    df[df['marca'] == 1]['valor'],\n",
        "    df[df['marca'] == 2]['valor'],\n",
        "    df[df['marca'] == 3]['valor'],\n",
        ")\n",
        "\n",
        "# Resultados\n",
        "print(\"Estadístico de Bartlett:\", stat)\n",
        "print(\"Valor p:\", p_value)\n",
        "\n",
        "# Interpretación\n",
        "if p_value < nivel_de_significancia:\n",
        "    print(\"Rechazamos la hipótesis nula: Las varianzas no son iguales.\")\n",
        "else:\n",
        "    print(\"No podemos rechazar la hipótesis nula: Las varianzas son iguales.\")"
      ],
      "metadata": {
        "colab": {
          "base_uri": "https://localhost:8080/"
        },
        "id": "886TKc42u67P",
        "outputId": "1ca2a528-2087-4cef-b47e-83b7d5b71f29"
      },
      "execution_count": 96,
      "outputs": [
        {
          "output_type": "stream",
          "name": "stdout",
          "text": [
            "Estadístico de Bartlett: 1.1889279049230643\n",
            "Valor p: 0.5518583088826501\n",
            "No podemos rechazar la hipótesis nula: Las varianzas son iguales.\n"
          ]
        }
      ]
    },
    {
      "cell_type": "markdown",
      "source": [
        "##Problema 2:\n",
        "En una empresa lechera se tienen varios silos para almacenar leche (cisternas de 60 000 L). Un aspecto crítico para que se conserve la leche es la temperatura de almacenamiento. Se sospecha que en algunos silos hay problemas, por ello, durante cinco días se decide registrar la temperatura a cierta hora crítica. Obviamente la temperatura de un día a otro es una fuente de variabilidad que podría impactar la variabilidad total.\n",
        "\n",
        "| Silo | Lunes | Martes | Miércoles | Jueves | Viernes |\n",
        "|------|-------|--------|-----------|--------|---------|\n",
        "| A    | 4.0   | 4.0    | 5.0       | 0.5    | 3.0     |\n",
        "| B    | 5.0   | 6.0    | 2.0       | 4.0    | 4.0     |\n",
        "| C    | 4.5   | 4.0    | 3.5       | 2.0    | 3.0     |\n",
        "| D    | 2.5   | 4.0    | 6.5       | 4.5    | 4.0     |\n",
        "| E    | 4.0   | 4.0    | 3.5       | 2.0    | 4.0     |\n",
        "\n",
        "**Preguntas:**<br>\n",
        "a) En este problema, ¿cuál es el factor de tratamiento y cuál el factor de bloque?  \n",
        "b) Suponga un DBCA, formule las hipótesis adecuadas y el modelo estadístico.  \n",
        "c) ¿Hay diferencia entre los silos?  \n",
        "d) ¿La temperatura de un día a otro es diferente?  \n",
        "e) Revise residuos, ¿hay algún problema evidente?\n"
      ],
      "metadata": {
        "id": "g3Sw-7JI9SYo"
      }
    },
    {
      "cell_type": "markdown",
      "source": [
        "### a) En este problema, ¿cuál es el factor de tratamiento y cuál el factor de bloque?"
      ],
      "metadata": {
        "id": "sXcN52xywzLX"
      }
    },
    {
      "cell_type": "markdown",
      "source": [
        "\n",
        "<h2><b>factor de tratamiento:</b></h2>\n",
        "\n",
        "* <h4>silo</h4>\n",
        "\n",
        "<h2><b>factor de bloque</b></h2>\n",
        "\n",
        "* <h4>dias</h4>"
      ],
      "metadata": {
        "id": "GOXj07nJw4Vp"
      }
    },
    {
      "cell_type": "code",
      "execution_count": 97,
      "metadata": {
        "id": "sgtZbW3V-fNi",
        "colab": {
          "base_uri": "https://localhost:8080/",
          "height": 0
        },
        "outputId": "ed132724-d3c9-40b5-ab14-c41f1a26eadb"
      },
      "outputs": [
        {
          "output_type": "execute_result",
          "data": {
            "text/plain": [
              "   Silo       Días  Temperatura\n",
              "0     A      Lunes          4.0\n",
              "1     A     Martes          4.0\n",
              "2     A  Miércoles          5.0\n",
              "3     A     Jueves          0.5\n",
              "4     A    Viernes          3.0\n",
              "5     B      Lunes          5.0\n",
              "6     B     Martes          6.0\n",
              "7     B  Miércoles          2.0\n",
              "8     B     Jueves          4.0\n",
              "9     B    Viernes          4.0\n",
              "10    C      Lunes          4.5\n",
              "11    C     Martes          4.0\n",
              "12    C  Miércoles          3.5\n",
              "13    C     Jueves          2.0\n",
              "14    C    Viernes          3.0\n",
              "15    D      Lunes          2.5\n",
              "16    D     Martes          4.0\n",
              "17    D  Miércoles          6.5\n",
              "18    D     Jueves          4.5\n",
              "19    D    Viernes          4.0\n",
              "20    E      Lunes          4.0\n",
              "21    E     Martes          4.0\n",
              "22    E  Miércoles          3.5\n",
              "23    E     Jueves          2.0\n",
              "24    E    Viernes          4.0"
            ],
            "text/html": [
              "\n",
              "  <div id=\"df-bb95a8c8-db9a-4f71-afdd-9ece38956dcf\" class=\"colab-df-container\">\n",
              "    <div>\n",
              "<style scoped>\n",
              "    .dataframe tbody tr th:only-of-type {\n",
              "        vertical-align: middle;\n",
              "    }\n",
              "\n",
              "    .dataframe tbody tr th {\n",
              "        vertical-align: top;\n",
              "    }\n",
              "\n",
              "    .dataframe thead th {\n",
              "        text-align: right;\n",
              "    }\n",
              "</style>\n",
              "<table border=\"1\" class=\"dataframe\">\n",
              "  <thead>\n",
              "    <tr style=\"text-align: right;\">\n",
              "      <th></th>\n",
              "      <th>Silo</th>\n",
              "      <th>Días</th>\n",
              "      <th>Temperatura</th>\n",
              "    </tr>\n",
              "  </thead>\n",
              "  <tbody>\n",
              "    <tr>\n",
              "      <th>0</th>\n",
              "      <td>A</td>\n",
              "      <td>Lunes</td>\n",
              "      <td>4.0</td>\n",
              "    </tr>\n",
              "    <tr>\n",
              "      <th>1</th>\n",
              "      <td>A</td>\n",
              "      <td>Martes</td>\n",
              "      <td>4.0</td>\n",
              "    </tr>\n",
              "    <tr>\n",
              "      <th>2</th>\n",
              "      <td>A</td>\n",
              "      <td>Miércoles</td>\n",
              "      <td>5.0</td>\n",
              "    </tr>\n",
              "    <tr>\n",
              "      <th>3</th>\n",
              "      <td>A</td>\n",
              "      <td>Jueves</td>\n",
              "      <td>0.5</td>\n",
              "    </tr>\n",
              "    <tr>\n",
              "      <th>4</th>\n",
              "      <td>A</td>\n",
              "      <td>Viernes</td>\n",
              "      <td>3.0</td>\n",
              "    </tr>\n",
              "    <tr>\n",
              "      <th>5</th>\n",
              "      <td>B</td>\n",
              "      <td>Lunes</td>\n",
              "      <td>5.0</td>\n",
              "    </tr>\n",
              "    <tr>\n",
              "      <th>6</th>\n",
              "      <td>B</td>\n",
              "      <td>Martes</td>\n",
              "      <td>6.0</td>\n",
              "    </tr>\n",
              "    <tr>\n",
              "      <th>7</th>\n",
              "      <td>B</td>\n",
              "      <td>Miércoles</td>\n",
              "      <td>2.0</td>\n",
              "    </tr>\n",
              "    <tr>\n",
              "      <th>8</th>\n",
              "      <td>B</td>\n",
              "      <td>Jueves</td>\n",
              "      <td>4.0</td>\n",
              "    </tr>\n",
              "    <tr>\n",
              "      <th>9</th>\n",
              "      <td>B</td>\n",
              "      <td>Viernes</td>\n",
              "      <td>4.0</td>\n",
              "    </tr>\n",
              "    <tr>\n",
              "      <th>10</th>\n",
              "      <td>C</td>\n",
              "      <td>Lunes</td>\n",
              "      <td>4.5</td>\n",
              "    </tr>\n",
              "    <tr>\n",
              "      <th>11</th>\n",
              "      <td>C</td>\n",
              "      <td>Martes</td>\n",
              "      <td>4.0</td>\n",
              "    </tr>\n",
              "    <tr>\n",
              "      <th>12</th>\n",
              "      <td>C</td>\n",
              "      <td>Miércoles</td>\n",
              "      <td>3.5</td>\n",
              "    </tr>\n",
              "    <tr>\n",
              "      <th>13</th>\n",
              "      <td>C</td>\n",
              "      <td>Jueves</td>\n",
              "      <td>2.0</td>\n",
              "    </tr>\n",
              "    <tr>\n",
              "      <th>14</th>\n",
              "      <td>C</td>\n",
              "      <td>Viernes</td>\n",
              "      <td>3.0</td>\n",
              "    </tr>\n",
              "    <tr>\n",
              "      <th>15</th>\n",
              "      <td>D</td>\n",
              "      <td>Lunes</td>\n",
              "      <td>2.5</td>\n",
              "    </tr>\n",
              "    <tr>\n",
              "      <th>16</th>\n",
              "      <td>D</td>\n",
              "      <td>Martes</td>\n",
              "      <td>4.0</td>\n",
              "    </tr>\n",
              "    <tr>\n",
              "      <th>17</th>\n",
              "      <td>D</td>\n",
              "      <td>Miércoles</td>\n",
              "      <td>6.5</td>\n",
              "    </tr>\n",
              "    <tr>\n",
              "      <th>18</th>\n",
              "      <td>D</td>\n",
              "      <td>Jueves</td>\n",
              "      <td>4.5</td>\n",
              "    </tr>\n",
              "    <tr>\n",
              "      <th>19</th>\n",
              "      <td>D</td>\n",
              "      <td>Viernes</td>\n",
              "      <td>4.0</td>\n",
              "    </tr>\n",
              "    <tr>\n",
              "      <th>20</th>\n",
              "      <td>E</td>\n",
              "      <td>Lunes</td>\n",
              "      <td>4.0</td>\n",
              "    </tr>\n",
              "    <tr>\n",
              "      <th>21</th>\n",
              "      <td>E</td>\n",
              "      <td>Martes</td>\n",
              "      <td>4.0</td>\n",
              "    </tr>\n",
              "    <tr>\n",
              "      <th>22</th>\n",
              "      <td>E</td>\n",
              "      <td>Miércoles</td>\n",
              "      <td>3.5</td>\n",
              "    </tr>\n",
              "    <tr>\n",
              "      <th>23</th>\n",
              "      <td>E</td>\n",
              "      <td>Jueves</td>\n",
              "      <td>2.0</td>\n",
              "    </tr>\n",
              "    <tr>\n",
              "      <th>24</th>\n",
              "      <td>E</td>\n",
              "      <td>Viernes</td>\n",
              "      <td>4.0</td>\n",
              "    </tr>\n",
              "  </tbody>\n",
              "</table>\n",
              "</div>\n",
              "    <div class=\"colab-df-buttons\">\n",
              "\n",
              "  <div class=\"colab-df-container\">\n",
              "    <button class=\"colab-df-convert\" onclick=\"convertToInteractive('df-bb95a8c8-db9a-4f71-afdd-9ece38956dcf')\"\n",
              "            title=\"Convert this dataframe to an interactive table.\"\n",
              "            style=\"display:none;\">\n",
              "\n",
              "  <svg xmlns=\"http://www.w3.org/2000/svg\" height=\"24px\" viewBox=\"0 -960 960 960\">\n",
              "    <path d=\"M120-120v-720h720v720H120Zm60-500h600v-160H180v160Zm220 220h160v-160H400v160Zm0 220h160v-160H400v160ZM180-400h160v-160H180v160Zm440 0h160v-160H620v160ZM180-180h160v-160H180v160Zm440 0h160v-160H620v160Z\"/>\n",
              "  </svg>\n",
              "    </button>\n",
              "\n",
              "  <style>\n",
              "    .colab-df-container {\n",
              "      display:flex;\n",
              "      gap: 12px;\n",
              "    }\n",
              "\n",
              "    .colab-df-convert {\n",
              "      background-color: #E8F0FE;\n",
              "      border: none;\n",
              "      border-radius: 50%;\n",
              "      cursor: pointer;\n",
              "      display: none;\n",
              "      fill: #1967D2;\n",
              "      height: 32px;\n",
              "      padding: 0 0 0 0;\n",
              "      width: 32px;\n",
              "    }\n",
              "\n",
              "    .colab-df-convert:hover {\n",
              "      background-color: #E2EBFA;\n",
              "      box-shadow: 0px 1px 2px rgba(60, 64, 67, 0.3), 0px 1px 3px 1px rgba(60, 64, 67, 0.15);\n",
              "      fill: #174EA6;\n",
              "    }\n",
              "\n",
              "    .colab-df-buttons div {\n",
              "      margin-bottom: 4px;\n",
              "    }\n",
              "\n",
              "    [theme=dark] .colab-df-convert {\n",
              "      background-color: #3B4455;\n",
              "      fill: #D2E3FC;\n",
              "    }\n",
              "\n",
              "    [theme=dark] .colab-df-convert:hover {\n",
              "      background-color: #434B5C;\n",
              "      box-shadow: 0px 1px 3px 1px rgba(0, 0, 0, 0.15);\n",
              "      filter: drop-shadow(0px 1px 2px rgba(0, 0, 0, 0.3));\n",
              "      fill: #FFFFFF;\n",
              "    }\n",
              "  </style>\n",
              "\n",
              "    <script>\n",
              "      const buttonEl =\n",
              "        document.querySelector('#df-bb95a8c8-db9a-4f71-afdd-9ece38956dcf button.colab-df-convert');\n",
              "      buttonEl.style.display =\n",
              "        google.colab.kernel.accessAllowed ? 'block' : 'none';\n",
              "\n",
              "      async function convertToInteractive(key) {\n",
              "        const element = document.querySelector('#df-bb95a8c8-db9a-4f71-afdd-9ece38956dcf');\n",
              "        const dataTable =\n",
              "          await google.colab.kernel.invokeFunction('convertToInteractive',\n",
              "                                                    [key], {});\n",
              "        if (!dataTable) return;\n",
              "\n",
              "        const docLinkHtml = 'Like what you see? Visit the ' +\n",
              "          '<a target=\"_blank\" href=https://colab.research.google.com/notebooks/data_table.ipynb>data table notebook</a>'\n",
              "          + ' to learn more about interactive tables.';\n",
              "        element.innerHTML = '';\n",
              "        dataTable['output_type'] = 'display_data';\n",
              "        await google.colab.output.renderOutput(dataTable, element);\n",
              "        const docLink = document.createElement('div');\n",
              "        docLink.innerHTML = docLinkHtml;\n",
              "        element.appendChild(docLink);\n",
              "      }\n",
              "    </script>\n",
              "  </div>\n",
              "\n",
              "\n",
              "<div id=\"df-37b610b5-e1eb-417a-9de2-a498103cb6cc\">\n",
              "  <button class=\"colab-df-quickchart\" onclick=\"quickchart('df-37b610b5-e1eb-417a-9de2-a498103cb6cc')\"\n",
              "            title=\"Suggest charts\"\n",
              "            style=\"display:none;\">\n",
              "\n",
              "<svg xmlns=\"http://www.w3.org/2000/svg\" height=\"24px\"viewBox=\"0 0 24 24\"\n",
              "     width=\"24px\">\n",
              "    <g>\n",
              "        <path d=\"M19 3H5c-1.1 0-2 .9-2 2v14c0 1.1.9 2 2 2h14c1.1 0 2-.9 2-2V5c0-1.1-.9-2-2-2zM9 17H7v-7h2v7zm4 0h-2V7h2v10zm4 0h-2v-4h2v4z\"/>\n",
              "    </g>\n",
              "</svg>\n",
              "  </button>\n",
              "\n",
              "<style>\n",
              "  .colab-df-quickchart {\n",
              "      --bg-color: #E8F0FE;\n",
              "      --fill-color: #1967D2;\n",
              "      --hover-bg-color: #E2EBFA;\n",
              "      --hover-fill-color: #174EA6;\n",
              "      --disabled-fill-color: #AAA;\n",
              "      --disabled-bg-color: #DDD;\n",
              "  }\n",
              "\n",
              "  [theme=dark] .colab-df-quickchart {\n",
              "      --bg-color: #3B4455;\n",
              "      --fill-color: #D2E3FC;\n",
              "      --hover-bg-color: #434B5C;\n",
              "      --hover-fill-color: #FFFFFF;\n",
              "      --disabled-bg-color: #3B4455;\n",
              "      --disabled-fill-color: #666;\n",
              "  }\n",
              "\n",
              "  .colab-df-quickchart {\n",
              "    background-color: var(--bg-color);\n",
              "    border: none;\n",
              "    border-radius: 50%;\n",
              "    cursor: pointer;\n",
              "    display: none;\n",
              "    fill: var(--fill-color);\n",
              "    height: 32px;\n",
              "    padding: 0;\n",
              "    width: 32px;\n",
              "  }\n",
              "\n",
              "  .colab-df-quickchart:hover {\n",
              "    background-color: var(--hover-bg-color);\n",
              "    box-shadow: 0 1px 2px rgba(60, 64, 67, 0.3), 0 1px 3px 1px rgba(60, 64, 67, 0.15);\n",
              "    fill: var(--button-hover-fill-color);\n",
              "  }\n",
              "\n",
              "  .colab-df-quickchart-complete:disabled,\n",
              "  .colab-df-quickchart-complete:disabled:hover {\n",
              "    background-color: var(--disabled-bg-color);\n",
              "    fill: var(--disabled-fill-color);\n",
              "    box-shadow: none;\n",
              "  }\n",
              "\n",
              "  .colab-df-spinner {\n",
              "    border: 2px solid var(--fill-color);\n",
              "    border-color: transparent;\n",
              "    border-bottom-color: var(--fill-color);\n",
              "    animation:\n",
              "      spin 1s steps(1) infinite;\n",
              "  }\n",
              "\n",
              "  @keyframes spin {\n",
              "    0% {\n",
              "      border-color: transparent;\n",
              "      border-bottom-color: var(--fill-color);\n",
              "      border-left-color: var(--fill-color);\n",
              "    }\n",
              "    20% {\n",
              "      border-color: transparent;\n",
              "      border-left-color: var(--fill-color);\n",
              "      border-top-color: var(--fill-color);\n",
              "    }\n",
              "    30% {\n",
              "      border-color: transparent;\n",
              "      border-left-color: var(--fill-color);\n",
              "      border-top-color: var(--fill-color);\n",
              "      border-right-color: var(--fill-color);\n",
              "    }\n",
              "    40% {\n",
              "      border-color: transparent;\n",
              "      border-right-color: var(--fill-color);\n",
              "      border-top-color: var(--fill-color);\n",
              "    }\n",
              "    60% {\n",
              "      border-color: transparent;\n",
              "      border-right-color: var(--fill-color);\n",
              "    }\n",
              "    80% {\n",
              "      border-color: transparent;\n",
              "      border-right-color: var(--fill-color);\n",
              "      border-bottom-color: var(--fill-color);\n",
              "    }\n",
              "    90% {\n",
              "      border-color: transparent;\n",
              "      border-bottom-color: var(--fill-color);\n",
              "    }\n",
              "  }\n",
              "</style>\n",
              "\n",
              "  <script>\n",
              "    async function quickchart(key) {\n",
              "      const quickchartButtonEl =\n",
              "        document.querySelector('#' + key + ' button');\n",
              "      quickchartButtonEl.disabled = true;  // To prevent multiple clicks.\n",
              "      quickchartButtonEl.classList.add('colab-df-spinner');\n",
              "      try {\n",
              "        const charts = await google.colab.kernel.invokeFunction(\n",
              "            'suggestCharts', [key], {});\n",
              "      } catch (error) {\n",
              "        console.error('Error during call to suggestCharts:', error);\n",
              "      }\n",
              "      quickchartButtonEl.classList.remove('colab-df-spinner');\n",
              "      quickchartButtonEl.classList.add('colab-df-quickchart-complete');\n",
              "    }\n",
              "    (() => {\n",
              "      let quickchartButtonEl =\n",
              "        document.querySelector('#df-37b610b5-e1eb-417a-9de2-a498103cb6cc button');\n",
              "      quickchartButtonEl.style.display =\n",
              "        google.colab.kernel.accessAllowed ? 'block' : 'none';\n",
              "    })();\n",
              "  </script>\n",
              "</div>\n",
              "\n",
              "  <div id=\"id_94fa4d5d-9bae-4f91-b32f-bd0dad731117\">\n",
              "    <style>\n",
              "      .colab-df-generate {\n",
              "        background-color: #E8F0FE;\n",
              "        border: none;\n",
              "        border-radius: 50%;\n",
              "        cursor: pointer;\n",
              "        display: none;\n",
              "        fill: #1967D2;\n",
              "        height: 32px;\n",
              "        padding: 0 0 0 0;\n",
              "        width: 32px;\n",
              "      }\n",
              "\n",
              "      .colab-df-generate:hover {\n",
              "        background-color: #E2EBFA;\n",
              "        box-shadow: 0px 1px 2px rgba(60, 64, 67, 0.3), 0px 1px 3px 1px rgba(60, 64, 67, 0.15);\n",
              "        fill: #174EA6;\n",
              "      }\n",
              "\n",
              "      [theme=dark] .colab-df-generate {\n",
              "        background-color: #3B4455;\n",
              "        fill: #D2E3FC;\n",
              "      }\n",
              "\n",
              "      [theme=dark] .colab-df-generate:hover {\n",
              "        background-color: #434B5C;\n",
              "        box-shadow: 0px 1px 3px 1px rgba(0, 0, 0, 0.15);\n",
              "        filter: drop-shadow(0px 1px 2px rgba(0, 0, 0, 0.3));\n",
              "        fill: #FFFFFF;\n",
              "      }\n",
              "    </style>\n",
              "    <button class=\"colab-df-generate\" onclick=\"generateWithVariable('df')\"\n",
              "            title=\"Generate code using this dataframe.\"\n",
              "            style=\"display:none;\">\n",
              "\n",
              "  <svg xmlns=\"http://www.w3.org/2000/svg\" height=\"24px\"viewBox=\"0 0 24 24\"\n",
              "       width=\"24px\">\n",
              "    <path d=\"M7,19H8.4L18.45,9,17,7.55,7,17.6ZM5,21V16.75L18.45,3.32a2,2,0,0,1,2.83,0l1.4,1.43a1.91,1.91,0,0,1,.58,1.4,1.91,1.91,0,0,1-.58,1.4L9.25,21ZM18.45,9,17,7.55Zm-12,3A5.31,5.31,0,0,0,4.9,8.1,5.31,5.31,0,0,0,1,6.5,5.31,5.31,0,0,0,4.9,4.9,5.31,5.31,0,0,0,6.5,1,5.31,5.31,0,0,0,8.1,4.9,5.31,5.31,0,0,0,12,6.5,5.46,5.46,0,0,0,6.5,12Z\"/>\n",
              "  </svg>\n",
              "    </button>\n",
              "    <script>\n",
              "      (() => {\n",
              "      const buttonEl =\n",
              "        document.querySelector('#id_94fa4d5d-9bae-4f91-b32f-bd0dad731117 button.colab-df-generate');\n",
              "      buttonEl.style.display =\n",
              "        google.colab.kernel.accessAllowed ? 'block' : 'none';\n",
              "\n",
              "      buttonEl.onclick = () => {\n",
              "        google.colab.notebook.generateWithVariable('df');\n",
              "      }\n",
              "      })();\n",
              "    </script>\n",
              "  </div>\n",
              "\n",
              "    </div>\n",
              "  </div>\n"
            ],
            "application/vnd.google.colaboratory.intrinsic+json": {
              "type": "dataframe",
              "variable_name": "df",
              "summary": "{\n  \"name\": \"df\",\n  \"rows\": 25,\n  \"fields\": [\n    {\n      \"column\": \"Silo\",\n      \"properties\": {\n        \"dtype\": \"category\",\n        \"num_unique_values\": 5,\n        \"samples\": [\n          \"B\",\n          \"E\",\n          \"C\"\n        ],\n        \"semantic_type\": \"\",\n        \"description\": \"\"\n      }\n    },\n    {\n      \"column\": \"D\\u00edas\",\n      \"properties\": {\n        \"dtype\": \"category\",\n        \"num_unique_values\": 5,\n        \"samples\": [\n          \"Martes\",\n          \"Viernes\",\n          \"Mi\\u00e9rcoles\"\n        ],\n        \"semantic_type\": \"\",\n        \"description\": \"\"\n      }\n    },\n    {\n      \"column\": \"Temperatura\",\n      \"properties\": {\n        \"dtype\": \"number\",\n        \"std\": 1.2919623317522326,\n        \"min\": 0.5,\n        \"max\": 6.5,\n        \"num_unique_values\": 10,\n        \"samples\": [\n          2.5,\n          5.0,\n          2.0\n        ],\n        \"semantic_type\": \"\",\n        \"description\": \"\"\n      }\n    }\n  ]\n}"
            }
          },
          "metadata": {},
          "execution_count": 97
        }
      ],
      "source": [
        "#Joseve Sebastian Lopez Martinez\n",
        "data = \"\"\"\n",
        "Silo,Días,Temperatura\n",
        "A,Lunes,4.0\n",
        "A,Martes,4.0\n",
        "A,Miércoles,5.0\n",
        "A,Jueves,0.5\n",
        "A,Viernes,3.0\n",
        "B,Lunes,5.0\n",
        "B,Martes,6.0\n",
        "B,Miércoles,2.0\n",
        "B,Jueves,4.0\n",
        "B,Viernes,4.0\n",
        "C,Lunes,4.5\n",
        "C,Martes,4.0\n",
        "C,Miércoles,3.5\n",
        "C,Jueves,2.0\n",
        "C,Viernes,3.0\n",
        "D,Lunes,2.5\n",
        "D,Martes,4.0\n",
        "D,Miércoles,6.5\n",
        "D,Jueves,4.5\n",
        "D,Viernes,4.0\n",
        "E,Lunes,4.0\n",
        "E,Martes,4.0\n",
        "E,Miércoles,3.5\n",
        "E,Jueves,2.0\n",
        "E,Viernes,4.0\n",
        "\"\"\"\n",
        "\n",
        "# Convertimos los datos en un DataFrame\n",
        "df = pd.read_csv(StringIO(data))\n",
        "\n",
        "# Mostramos el DataFrame\n",
        "df"
      ]
    },
    {
      "cell_type": "markdown",
      "source": [
        "### b) Suponga un DBCA, formule las hipótesis adecuadas y el modelo estadístico."
      ],
      "metadata": {
        "id": "42w3Sbi25-YG"
      }
    },
    {
      "cell_type": "markdown",
      "source": [
        "#### Hipotesis"
      ],
      "metadata": {
        "id": "LHzBGG8TQsfs"
      }
    },
    {
      "cell_type": "markdown",
      "source": [
        "En este estudio se analizará si existen diferencias significativas en las temperaturas registradas entre diferentes silos de almacenamiento de leche, lo que podría indicar problemas en algunos silos para mantener la temperatura adecuada. Además, se investigará si los cambios en la temperatura registrados a lo largo de cinco días generan una fuente de variabilidad significativa que impacte los resultados totales"
      ],
      "metadata": {
        "id": "lPiMXAUUQu5Z"
      }
    },
    {
      "cell_type": "markdown",
      "source": [
        "#### modelo estadístico"
      ],
      "metadata": {
        "id": "ssi1CWIyQy0o"
      }
    },
    {
      "cell_type": "code",
      "source": [
        "#Joseve Sebastian Lopez Martinez\n",
        "from statsmodels.formula.api import ols\n",
        "import statsmodels.api as sm\n",
        "\n",
        "nivel_de_significancia = 0.05\n",
        "\n",
        "bloques = 'Días'    # La variable que no me interesa comparar\n",
        "interes = 'Silo'      # La variable que me interesa comparar\n",
        "respuesta = 'Temperatura'     # La medición que me permite hacer la comparación\n",
        "\n",
        "# NO MODIFICAR de esta línea hacia abajo\n",
        "# Realizar el modelo ANOVA de dos vías\n",
        "modelo = ols(f'{respuesta} ~ C({interes}) + C({bloques})', data=df).fit()\n",
        "tabla_anova = sm.stats.anova_lm(modelo, typ=2)\n",
        "\n",
        "# Mostrar resultados\n",
        "print(\"Resultados del ANOVA:\")\n",
        "print(tabla_anova)\n",
        "\n",
        "# Interpretar resultados\n",
        "if tabla_anova[\"PR(>F)\"][f\"C({interes})\"] < nivel_de_significancia:\n",
        "    print(\"\\nConclusión: Hay diferencias significativas entre los tratamientos.\")\n",
        "else:\n",
        "    print(\"\\nConclusión: No hay diferencias significativas entre los tratamientos.\")\n",
        "\n",
        "if tabla_anova[\"PR(>F)\"][f\"C({bloques})\"] < nivel_de_significancia:\n",
        "    print(\"Conclusión: Hay diferencias significativas entre los bloques.\")\n",
        "else:\n",
        "    print(\"Conclusión: No hay diferencias significativas entre los bloques.\")"
      ],
      "metadata": {
        "colab": {
          "base_uri": "https://localhost:8080/"
        },
        "id": "4UZ0f_eY5hxm",
        "outputId": "e605dfaa-92b9-469a-9d7e-01a249cf3c88"
      },
      "execution_count": 98,
      "outputs": [
        {
          "output_type": "stream",
          "name": "stdout",
          "text": [
            "Resultados del ANOVA:\n",
            "          sum_sq    df         F    PR(>F)\n",
            "C(Silo)     4.46   4.0  0.690402  0.609212\n",
            "C(Días)     9.76   4.0  1.510836  0.246022\n",
            "Residual   25.84  16.0       NaN       NaN\n",
            "\n",
            "Conclusión: No hay diferencias significativas entre los tratamientos.\n",
            "Conclusión: No hay diferencias significativas entre los bloques.\n"
          ]
        }
      ]
    },
    {
      "cell_type": "markdown",
      "source": [
        "### c) ¿Hay diferencia entre los silos?"
      ],
      "metadata": {
        "id": "6s5fdsap6LTH"
      }
    },
    {
      "cell_type": "markdown",
      "source": [
        "No hay diferencias significativas entre los silos"
      ],
      "metadata": {
        "id": "r7Pzfv_L6Ne-"
      }
    },
    {
      "cell_type": "markdown",
      "source": [
        "### d) ¿La temperatura de un día a otro es diferente?"
      ],
      "metadata": {
        "id": "EfLnOah76anW"
      }
    },
    {
      "cell_type": "markdown",
      "source": [
        "Dado que el valor p es mayor que 0.05, no se puede concluir que los días tengan un efecto significativo en las temperaturas de los silos.\n",
        "\n",
        "Esto sugiere que las variaciones diarias en la temperatura no son suficientes para ser consideradas una fuente importante de variabilidad en este caso."
      ],
      "metadata": {
        "id": "AqQyu9sY6dI2"
      }
    },
    {
      "cell_type": "markdown",
      "source": [
        "### e) Revise residuos, ¿hay algún problema evidente?"
      ],
      "metadata": {
        "id": "NjhO52767hVp"
      }
    },
    {
      "cell_type": "markdown",
      "source": [],
      "metadata": {
        "id": "5BXXEx1W7jn3"
      }
    },
    {
      "cell_type": "markdown",
      "source": [
        "## Problema 3\n",
        "Se diseñó un experimento para estudiar el rendimiento de cuatro detergentes. Las siguientes lecturas de “blancura” se obtuvieron con un equipo especial diseñado para 12 cargas de lavado, distribuidas en tres modelos de lavadoras:\n",
        "\n",
        "| Detergente | Lavadora 1 | Lavadora 2 | Lavadora 3 |\n",
        "|------------|------------|------------|------------|\n",
        "| A          | 45         | 43         | 51         |\n",
        "| B          | 47         | 44         | 52         |\n",
        "| C          | 50         | 49         | 57         |\n",
        "| D          | 42         | 37         | 49         |\n",
        "\n",
        "**Preguntas:**<br>\n",
        "a) Señale el nombre del diseño experimental utilizado.  \n",
        "b) Formule la hipótesis que se quiere probar en este problema.  \n",
        "c) Realice el análisis estadístico más apropiado para estos datos y obtenga conclusiones.  \n",
        "\n"
      ],
      "metadata": {
        "id": "BLz_XGdR_9kv"
      }
    },
    {
      "cell_type": "markdown",
      "source": [
        "### a) Señale el nombre del diseño experimental utilizado."
      ],
      "metadata": {
        "id": "dwttZHcD8XrQ"
      }
    },
    {
      "cell_type": "markdown",
      "source": [
        "Diseño en bloques completamente al azar"
      ],
      "metadata": {
        "id": "G_YCjo_3-cTk"
      }
    },
    {
      "cell_type": "markdown",
      "source": [
        "### b) Formule la hipótesis que se quiere probar en este problema."
      ],
      "metadata": {
        "id": "xm5QenXuHvP1"
      }
    },
    {
      "cell_type": "markdown",
      "source": [
        "Se investigará si el detergente utilizado tiene un impacto significativo en los resultados de blancura, y si los modelos de lavadoras influyen en el rendimiento de los detergentes.\n",
        "\n",
        "Este análisis permitirá identificar si el tipo de detergente y el modelo de la lavadora interactúan para afectar la blancura de la ropa lavada."
      ],
      "metadata": {
        "id": "Y_5Stgx6HxGF"
      }
    },
    {
      "cell_type": "markdown",
      "source": [
        "### c) Realice el análisis estadístico más apropiado para estos datos y obtenga conclusiones."
      ],
      "metadata": {
        "id": "ANI1W83r_0Zh"
      }
    },
    {
      "cell_type": "code",
      "source": [
        "#Joseve Sebastian Lopez Martinez\n",
        "data = \"\"\"\n",
        "Detergente,Lavadora,Tiempo\n",
        "A,Lavadora 1,45\n",
        "A,Lavadora 2,43\n",
        "A,Lavadora 3,51\n",
        "B,Lavadora 1,47\n",
        "B,Lavadora 2,44\n",
        "B,Lavadora 3,52\n",
        "C,Lavadora 1,50\n",
        "C,Lavadora 2,49\n",
        "C,Lavadora 3,57\n",
        "D,Lavadora 1,42\n",
        "D,Lavadora 2,37\n",
        "D,Lavadora 3,49\n",
        "\"\"\"\n",
        "\n",
        "# Convertimos los datos en un DataFrame\n",
        "df = pd.read_csv(StringIO(data))\n",
        "\n",
        "# Mostramos el DataFrame\n",
        "df"
      ],
      "metadata": {
        "id": "m-5X6nWV_3yg",
        "colab": {
          "base_uri": "https://localhost:8080/",
          "height": 0
        },
        "outputId": "ae61d93a-486b-4c06-a021-56a3feed4547"
      },
      "execution_count": 99,
      "outputs": [
        {
          "output_type": "execute_result",
          "data": {
            "text/plain": [
              "   Detergente    Lavadora  Tiempo\n",
              "0           A  Lavadora 1      45\n",
              "1           A  Lavadora 2      43\n",
              "2           A  Lavadora 3      51\n",
              "3           B  Lavadora 1      47\n",
              "4           B  Lavadora 2      44\n",
              "5           B  Lavadora 3      52\n",
              "6           C  Lavadora 1      50\n",
              "7           C  Lavadora 2      49\n",
              "8           C  Lavadora 3      57\n",
              "9           D  Lavadora 1      42\n",
              "10          D  Lavadora 2      37\n",
              "11          D  Lavadora 3      49"
            ],
            "text/html": [
              "\n",
              "  <div id=\"df-d6972052-4f98-4152-92e5-85e4e0f2a322\" class=\"colab-df-container\">\n",
              "    <div>\n",
              "<style scoped>\n",
              "    .dataframe tbody tr th:only-of-type {\n",
              "        vertical-align: middle;\n",
              "    }\n",
              "\n",
              "    .dataframe tbody tr th {\n",
              "        vertical-align: top;\n",
              "    }\n",
              "\n",
              "    .dataframe thead th {\n",
              "        text-align: right;\n",
              "    }\n",
              "</style>\n",
              "<table border=\"1\" class=\"dataframe\">\n",
              "  <thead>\n",
              "    <tr style=\"text-align: right;\">\n",
              "      <th></th>\n",
              "      <th>Detergente</th>\n",
              "      <th>Lavadora</th>\n",
              "      <th>Tiempo</th>\n",
              "    </tr>\n",
              "  </thead>\n",
              "  <tbody>\n",
              "    <tr>\n",
              "      <th>0</th>\n",
              "      <td>A</td>\n",
              "      <td>Lavadora 1</td>\n",
              "      <td>45</td>\n",
              "    </tr>\n",
              "    <tr>\n",
              "      <th>1</th>\n",
              "      <td>A</td>\n",
              "      <td>Lavadora 2</td>\n",
              "      <td>43</td>\n",
              "    </tr>\n",
              "    <tr>\n",
              "      <th>2</th>\n",
              "      <td>A</td>\n",
              "      <td>Lavadora 3</td>\n",
              "      <td>51</td>\n",
              "    </tr>\n",
              "    <tr>\n",
              "      <th>3</th>\n",
              "      <td>B</td>\n",
              "      <td>Lavadora 1</td>\n",
              "      <td>47</td>\n",
              "    </tr>\n",
              "    <tr>\n",
              "      <th>4</th>\n",
              "      <td>B</td>\n",
              "      <td>Lavadora 2</td>\n",
              "      <td>44</td>\n",
              "    </tr>\n",
              "    <tr>\n",
              "      <th>5</th>\n",
              "      <td>B</td>\n",
              "      <td>Lavadora 3</td>\n",
              "      <td>52</td>\n",
              "    </tr>\n",
              "    <tr>\n",
              "      <th>6</th>\n",
              "      <td>C</td>\n",
              "      <td>Lavadora 1</td>\n",
              "      <td>50</td>\n",
              "    </tr>\n",
              "    <tr>\n",
              "      <th>7</th>\n",
              "      <td>C</td>\n",
              "      <td>Lavadora 2</td>\n",
              "      <td>49</td>\n",
              "    </tr>\n",
              "    <tr>\n",
              "      <th>8</th>\n",
              "      <td>C</td>\n",
              "      <td>Lavadora 3</td>\n",
              "      <td>57</td>\n",
              "    </tr>\n",
              "    <tr>\n",
              "      <th>9</th>\n",
              "      <td>D</td>\n",
              "      <td>Lavadora 1</td>\n",
              "      <td>42</td>\n",
              "    </tr>\n",
              "    <tr>\n",
              "      <th>10</th>\n",
              "      <td>D</td>\n",
              "      <td>Lavadora 2</td>\n",
              "      <td>37</td>\n",
              "    </tr>\n",
              "    <tr>\n",
              "      <th>11</th>\n",
              "      <td>D</td>\n",
              "      <td>Lavadora 3</td>\n",
              "      <td>49</td>\n",
              "    </tr>\n",
              "  </tbody>\n",
              "</table>\n",
              "</div>\n",
              "    <div class=\"colab-df-buttons\">\n",
              "\n",
              "  <div class=\"colab-df-container\">\n",
              "    <button class=\"colab-df-convert\" onclick=\"convertToInteractive('df-d6972052-4f98-4152-92e5-85e4e0f2a322')\"\n",
              "            title=\"Convert this dataframe to an interactive table.\"\n",
              "            style=\"display:none;\">\n",
              "\n",
              "  <svg xmlns=\"http://www.w3.org/2000/svg\" height=\"24px\" viewBox=\"0 -960 960 960\">\n",
              "    <path d=\"M120-120v-720h720v720H120Zm60-500h600v-160H180v160Zm220 220h160v-160H400v160Zm0 220h160v-160H400v160ZM180-400h160v-160H180v160Zm440 0h160v-160H620v160ZM180-180h160v-160H180v160Zm440 0h160v-160H620v160Z\"/>\n",
              "  </svg>\n",
              "    </button>\n",
              "\n",
              "  <style>\n",
              "    .colab-df-container {\n",
              "      display:flex;\n",
              "      gap: 12px;\n",
              "    }\n",
              "\n",
              "    .colab-df-convert {\n",
              "      background-color: #E8F0FE;\n",
              "      border: none;\n",
              "      border-radius: 50%;\n",
              "      cursor: pointer;\n",
              "      display: none;\n",
              "      fill: #1967D2;\n",
              "      height: 32px;\n",
              "      padding: 0 0 0 0;\n",
              "      width: 32px;\n",
              "    }\n",
              "\n",
              "    .colab-df-convert:hover {\n",
              "      background-color: #E2EBFA;\n",
              "      box-shadow: 0px 1px 2px rgba(60, 64, 67, 0.3), 0px 1px 3px 1px rgba(60, 64, 67, 0.15);\n",
              "      fill: #174EA6;\n",
              "    }\n",
              "\n",
              "    .colab-df-buttons div {\n",
              "      margin-bottom: 4px;\n",
              "    }\n",
              "\n",
              "    [theme=dark] .colab-df-convert {\n",
              "      background-color: #3B4455;\n",
              "      fill: #D2E3FC;\n",
              "    }\n",
              "\n",
              "    [theme=dark] .colab-df-convert:hover {\n",
              "      background-color: #434B5C;\n",
              "      box-shadow: 0px 1px 3px 1px rgba(0, 0, 0, 0.15);\n",
              "      filter: drop-shadow(0px 1px 2px rgba(0, 0, 0, 0.3));\n",
              "      fill: #FFFFFF;\n",
              "    }\n",
              "  </style>\n",
              "\n",
              "    <script>\n",
              "      const buttonEl =\n",
              "        document.querySelector('#df-d6972052-4f98-4152-92e5-85e4e0f2a322 button.colab-df-convert');\n",
              "      buttonEl.style.display =\n",
              "        google.colab.kernel.accessAllowed ? 'block' : 'none';\n",
              "\n",
              "      async function convertToInteractive(key) {\n",
              "        const element = document.querySelector('#df-d6972052-4f98-4152-92e5-85e4e0f2a322');\n",
              "        const dataTable =\n",
              "          await google.colab.kernel.invokeFunction('convertToInteractive',\n",
              "                                                    [key], {});\n",
              "        if (!dataTable) return;\n",
              "\n",
              "        const docLinkHtml = 'Like what you see? Visit the ' +\n",
              "          '<a target=\"_blank\" href=https://colab.research.google.com/notebooks/data_table.ipynb>data table notebook</a>'\n",
              "          + ' to learn more about interactive tables.';\n",
              "        element.innerHTML = '';\n",
              "        dataTable['output_type'] = 'display_data';\n",
              "        await google.colab.output.renderOutput(dataTable, element);\n",
              "        const docLink = document.createElement('div');\n",
              "        docLink.innerHTML = docLinkHtml;\n",
              "        element.appendChild(docLink);\n",
              "      }\n",
              "    </script>\n",
              "  </div>\n",
              "\n",
              "\n",
              "<div id=\"df-13bfa1b2-3e16-4423-a674-e3bba0405d44\">\n",
              "  <button class=\"colab-df-quickchart\" onclick=\"quickchart('df-13bfa1b2-3e16-4423-a674-e3bba0405d44')\"\n",
              "            title=\"Suggest charts\"\n",
              "            style=\"display:none;\">\n",
              "\n",
              "<svg xmlns=\"http://www.w3.org/2000/svg\" height=\"24px\"viewBox=\"0 0 24 24\"\n",
              "     width=\"24px\">\n",
              "    <g>\n",
              "        <path d=\"M19 3H5c-1.1 0-2 .9-2 2v14c0 1.1.9 2 2 2h14c1.1 0 2-.9 2-2V5c0-1.1-.9-2-2-2zM9 17H7v-7h2v7zm4 0h-2V7h2v10zm4 0h-2v-4h2v4z\"/>\n",
              "    </g>\n",
              "</svg>\n",
              "  </button>\n",
              "\n",
              "<style>\n",
              "  .colab-df-quickchart {\n",
              "      --bg-color: #E8F0FE;\n",
              "      --fill-color: #1967D2;\n",
              "      --hover-bg-color: #E2EBFA;\n",
              "      --hover-fill-color: #174EA6;\n",
              "      --disabled-fill-color: #AAA;\n",
              "      --disabled-bg-color: #DDD;\n",
              "  }\n",
              "\n",
              "  [theme=dark] .colab-df-quickchart {\n",
              "      --bg-color: #3B4455;\n",
              "      --fill-color: #D2E3FC;\n",
              "      --hover-bg-color: #434B5C;\n",
              "      --hover-fill-color: #FFFFFF;\n",
              "      --disabled-bg-color: #3B4455;\n",
              "      --disabled-fill-color: #666;\n",
              "  }\n",
              "\n",
              "  .colab-df-quickchart {\n",
              "    background-color: var(--bg-color);\n",
              "    border: none;\n",
              "    border-radius: 50%;\n",
              "    cursor: pointer;\n",
              "    display: none;\n",
              "    fill: var(--fill-color);\n",
              "    height: 32px;\n",
              "    padding: 0;\n",
              "    width: 32px;\n",
              "  }\n",
              "\n",
              "  .colab-df-quickchart:hover {\n",
              "    background-color: var(--hover-bg-color);\n",
              "    box-shadow: 0 1px 2px rgba(60, 64, 67, 0.3), 0 1px 3px 1px rgba(60, 64, 67, 0.15);\n",
              "    fill: var(--button-hover-fill-color);\n",
              "  }\n",
              "\n",
              "  .colab-df-quickchart-complete:disabled,\n",
              "  .colab-df-quickchart-complete:disabled:hover {\n",
              "    background-color: var(--disabled-bg-color);\n",
              "    fill: var(--disabled-fill-color);\n",
              "    box-shadow: none;\n",
              "  }\n",
              "\n",
              "  .colab-df-spinner {\n",
              "    border: 2px solid var(--fill-color);\n",
              "    border-color: transparent;\n",
              "    border-bottom-color: var(--fill-color);\n",
              "    animation:\n",
              "      spin 1s steps(1) infinite;\n",
              "  }\n",
              "\n",
              "  @keyframes spin {\n",
              "    0% {\n",
              "      border-color: transparent;\n",
              "      border-bottom-color: var(--fill-color);\n",
              "      border-left-color: var(--fill-color);\n",
              "    }\n",
              "    20% {\n",
              "      border-color: transparent;\n",
              "      border-left-color: var(--fill-color);\n",
              "      border-top-color: var(--fill-color);\n",
              "    }\n",
              "    30% {\n",
              "      border-color: transparent;\n",
              "      border-left-color: var(--fill-color);\n",
              "      border-top-color: var(--fill-color);\n",
              "      border-right-color: var(--fill-color);\n",
              "    }\n",
              "    40% {\n",
              "      border-color: transparent;\n",
              "      border-right-color: var(--fill-color);\n",
              "      border-top-color: var(--fill-color);\n",
              "    }\n",
              "    60% {\n",
              "      border-color: transparent;\n",
              "      border-right-color: var(--fill-color);\n",
              "    }\n",
              "    80% {\n",
              "      border-color: transparent;\n",
              "      border-right-color: var(--fill-color);\n",
              "      border-bottom-color: var(--fill-color);\n",
              "    }\n",
              "    90% {\n",
              "      border-color: transparent;\n",
              "      border-bottom-color: var(--fill-color);\n",
              "    }\n",
              "  }\n",
              "</style>\n",
              "\n",
              "  <script>\n",
              "    async function quickchart(key) {\n",
              "      const quickchartButtonEl =\n",
              "        document.querySelector('#' + key + ' button');\n",
              "      quickchartButtonEl.disabled = true;  // To prevent multiple clicks.\n",
              "      quickchartButtonEl.classList.add('colab-df-spinner');\n",
              "      try {\n",
              "        const charts = await google.colab.kernel.invokeFunction(\n",
              "            'suggestCharts', [key], {});\n",
              "      } catch (error) {\n",
              "        console.error('Error during call to suggestCharts:', error);\n",
              "      }\n",
              "      quickchartButtonEl.classList.remove('colab-df-spinner');\n",
              "      quickchartButtonEl.classList.add('colab-df-quickchart-complete');\n",
              "    }\n",
              "    (() => {\n",
              "      let quickchartButtonEl =\n",
              "        document.querySelector('#df-13bfa1b2-3e16-4423-a674-e3bba0405d44 button');\n",
              "      quickchartButtonEl.style.display =\n",
              "        google.colab.kernel.accessAllowed ? 'block' : 'none';\n",
              "    })();\n",
              "  </script>\n",
              "</div>\n",
              "\n",
              "  <div id=\"id_259c472d-4842-4763-a133-ac2d33fe176a\">\n",
              "    <style>\n",
              "      .colab-df-generate {\n",
              "        background-color: #E8F0FE;\n",
              "        border: none;\n",
              "        border-radius: 50%;\n",
              "        cursor: pointer;\n",
              "        display: none;\n",
              "        fill: #1967D2;\n",
              "        height: 32px;\n",
              "        padding: 0 0 0 0;\n",
              "        width: 32px;\n",
              "      }\n",
              "\n",
              "      .colab-df-generate:hover {\n",
              "        background-color: #E2EBFA;\n",
              "        box-shadow: 0px 1px 2px rgba(60, 64, 67, 0.3), 0px 1px 3px 1px rgba(60, 64, 67, 0.15);\n",
              "        fill: #174EA6;\n",
              "      }\n",
              "\n",
              "      [theme=dark] .colab-df-generate {\n",
              "        background-color: #3B4455;\n",
              "        fill: #D2E3FC;\n",
              "      }\n",
              "\n",
              "      [theme=dark] .colab-df-generate:hover {\n",
              "        background-color: #434B5C;\n",
              "        box-shadow: 0px 1px 3px 1px rgba(0, 0, 0, 0.15);\n",
              "        filter: drop-shadow(0px 1px 2px rgba(0, 0, 0, 0.3));\n",
              "        fill: #FFFFFF;\n",
              "      }\n",
              "    </style>\n",
              "    <button class=\"colab-df-generate\" onclick=\"generateWithVariable('df')\"\n",
              "            title=\"Generate code using this dataframe.\"\n",
              "            style=\"display:none;\">\n",
              "\n",
              "  <svg xmlns=\"http://www.w3.org/2000/svg\" height=\"24px\"viewBox=\"0 0 24 24\"\n",
              "       width=\"24px\">\n",
              "    <path d=\"M7,19H8.4L18.45,9,17,7.55,7,17.6ZM5,21V16.75L18.45,3.32a2,2,0,0,1,2.83,0l1.4,1.43a1.91,1.91,0,0,1,.58,1.4,1.91,1.91,0,0,1-.58,1.4L9.25,21ZM18.45,9,17,7.55Zm-12,3A5.31,5.31,0,0,0,4.9,8.1,5.31,5.31,0,0,0,1,6.5,5.31,5.31,0,0,0,4.9,4.9,5.31,5.31,0,0,0,6.5,1,5.31,5.31,0,0,0,8.1,4.9,5.31,5.31,0,0,0,12,6.5,5.46,5.46,0,0,0,6.5,12Z\"/>\n",
              "  </svg>\n",
              "    </button>\n",
              "    <script>\n",
              "      (() => {\n",
              "      const buttonEl =\n",
              "        document.querySelector('#id_259c472d-4842-4763-a133-ac2d33fe176a button.colab-df-generate');\n",
              "      buttonEl.style.display =\n",
              "        google.colab.kernel.accessAllowed ? 'block' : 'none';\n",
              "\n",
              "      buttonEl.onclick = () => {\n",
              "        google.colab.notebook.generateWithVariable('df');\n",
              "      }\n",
              "      })();\n",
              "    </script>\n",
              "  </div>\n",
              "\n",
              "    </div>\n",
              "  </div>\n"
            ],
            "application/vnd.google.colaboratory.intrinsic+json": {
              "type": "dataframe",
              "variable_name": "df",
              "summary": "{\n  \"name\": \"df\",\n  \"rows\": 12,\n  \"fields\": [\n    {\n      \"column\": \"Detergente\",\n      \"properties\": {\n        \"dtype\": \"category\",\n        \"num_unique_values\": 4,\n        \"samples\": [\n          \"B\",\n          \"D\",\n          \"A\"\n        ],\n        \"semantic_type\": \"\",\n        \"description\": \"\"\n      }\n    },\n    {\n      \"column\": \"Lavadora\",\n      \"properties\": {\n        \"dtype\": \"category\",\n        \"num_unique_values\": 3,\n        \"samples\": [\n          \"Lavadora 1\",\n          \"Lavadora 2\",\n          \"Lavadora 3\"\n        ],\n        \"semantic_type\": \"\",\n        \"description\": \"\"\n      }\n    },\n    {\n      \"column\": \"Tiempo\",\n      \"properties\": {\n        \"dtype\": \"number\",\n        \"std\": 5,\n        \"min\": 37,\n        \"max\": 57,\n        \"num_unique_values\": 11,\n        \"samples\": [\n          52,\n          45,\n          42\n        ],\n        \"semantic_type\": \"\",\n        \"description\": \"\"\n      }\n    }\n  ]\n}"
            }
          },
          "metadata": {},
          "execution_count": 99
        }
      ]
    },
    {
      "cell_type": "code",
      "source": [
        "#Joseve Sebastian Lopez Martinez\n",
        "from statsmodels.formula.api import ols\n",
        "import statsmodels.api as sm\n",
        "\n",
        "nivel_de_significancia = 0.05\n",
        "\n",
        "bloques = 'Lavadora'    # La variable que no me interesa comparar\n",
        "interes = 'Detergente'      # La variable que me interesa comparar\n",
        "respuesta = 'Tiempo'     # La medición que me permite hacer la comparación\n",
        "\n",
        "# NO MODIFICAR de esta línea hacia abajo\n",
        "# Realizar el modelo ANOVA de dos vías\n",
        "modelo = ols(f'{respuesta} ~ C({interes}) + C({bloques})', data=df).fit()\n",
        "tabla_anova = sm.stats.anova_lm(modelo, typ=2)\n",
        "\n",
        "# Mostrar resultados\n",
        "print(\"Resultados del ANOVA:\")\n",
        "print(tabla_anova)\n",
        "\n",
        "# Interpretar resultados\n",
        "if tabla_anova[\"PR(>F)\"][f\"C({interes})\"] < nivel_de_significancia:\n",
        "    print(\"\\nConclusión: Hay diferencias significativas entre los tratamientos.\")\n",
        "else:\n",
        "    print(\"\\nConclusión: No hay diferencias significativas entre los tratamientos.\")\n",
        "\n",
        "if tabla_anova[\"PR(>F)\"][f\"C({bloques})\"] < nivel_de_significancia:\n",
        "    print(\"Conclusión: Hay diferencias significativas entre los bloques.\")\n",
        "else:\n",
        "    print(\"Conclusión: No hay diferencias significativas entre los bloques.\")"
      ],
      "metadata": {
        "colab": {
          "base_uri": "https://localhost:8080/"
        },
        "id": "Y_5LtrxT-_-z",
        "outputId": "f7b72203-6e70-4dc0-be3f-1902e33feca7"
      },
      "execution_count": 100,
      "outputs": [
        {
          "output_type": "stream",
          "name": "stdout",
          "text": [
            "Resultados del ANOVA:\n",
            "                   sum_sq   df          F    PR(>F)\n",
            "C(Detergente)  133.666667  3.0  34.127660  0.000363\n",
            "C(Lavadora)    170.166667  2.0  65.170213  0.000085\n",
            "Residual         7.833333  6.0        NaN       NaN\n",
            "\n",
            "Conclusión: Hay diferencias significativas entre los tratamientos.\n",
            "Conclusión: Hay diferencias significativas entre los bloques.\n"
          ]
        }
      ]
    },
    {
      "cell_type": "markdown",
      "source": [
        "#### Tukey"
      ],
      "metadata": {
        "id": "Y4ReNVNeH5wd"
      }
    },
    {
      "cell_type": "code",
      "source": [
        "#Joseve Sebastian Lopez Martinez\n",
        "from statsmodels.stats.multicomp import pairwise_tukeyhsd\n",
        "import matplotlib.pyplot as plt\n",
        "nivel_de_significancia = 0.05\n",
        "\n",
        "# Prueba de Tukey\n",
        "tukey = pairwise_tukeyhsd(endog=df['Tiempo'], groups=df['Detergente'], alpha=nivel_de_significancia)\n",
        "\n",
        "# Mostrar los resultados\n",
        "print(tukey)\n",
        "\n",
        "# Gráfico de las diferencias entre grupos\n",
        "tukey.plot_simultaneous(ylabel=\"Grupos\", xlabel=\"Medias\")\n",
        "\n",
        "plt.gca().spines['right'].set_visible(False) # derecha\n",
        "plt.gca().spines['top'].set_visible(False)   # superior\n",
        "plt.title(\"Múltiples comparaciones entre todos los pares (Tukey)\")"
      ],
      "metadata": {
        "colab": {
          "base_uri": "https://localhost:8080/",
          "height": 0
        },
        "id": "Z0-J7Y0UIFDG",
        "outputId": "4b3df896-f712-440d-ce25-7bcec56a59ab"
      },
      "execution_count": 101,
      "outputs": [
        {
          "output_type": "stream",
          "name": "stdout",
          "text": [
            " Multiple Comparison of Means - Tukey HSD, FWER=0.05 \n",
            "=====================================================\n",
            "group1 group2 meandiff p-adj   lower    upper  reject\n",
            "-----------------------------------------------------\n",
            "     A      B   1.3333 0.9847 -11.0002 13.6669  False\n",
            "     A      C   5.6667  0.495  -6.6669 18.0002  False\n",
            "     A      D  -3.6667  0.779 -16.0002  8.6669  False\n",
            "     B      C   4.3333 0.6855  -8.0002 16.6669  False\n",
            "     B      D     -5.0 0.5887 -17.3336  7.3336  False\n",
            "     C      D  -9.3333 0.1495 -21.6669  3.0002  False\n",
            "-----------------------------------------------------\n"
          ]
        },
        {
          "output_type": "execute_result",
          "data": {
            "text/plain": [
              "Text(0.5, 1.0, 'Múltiples comparaciones entre todos los pares (Tukey)')"
            ]
          },
          "metadata": {},
          "execution_count": 101
        },
        {
          "output_type": "display_data",
          "data": {
            "text/plain": [
              "<Figure size 1000x600 with 1 Axes>"
            ],
            "image/png": "[encoded data removed]"
          },
          "metadata": {}
        }
      ]
    },
    {
      "cell_type": "markdown",
      "source": [
        "#### supuesto de normalidad: test de Shapiro"
      ],
      "metadata": {
        "id": "TYKv2pHLFKTU"
      }
    },
    {
      "cell_type": "code",
      "source": [
        "#Joseve Sebastian Lopez Martinez\n",
        "df['Detergente'].unique()"
      ],
      "metadata": {
        "colab": {
          "base_uri": "https://localhost:8080/"
        },
        "id": "AuXt4ZpsFOxs",
        "outputId": "23c860f3-50ab-47e5-8afa-58db5401d5b2"
      },
      "execution_count": 102,
      "outputs": [
        {
          "output_type": "execute_result",
          "data": {
            "text/plain": [
              "array(['A', 'B', 'C', 'D'], dtype=object)"
            ]
          },
          "metadata": {},
          "execution_count": 102
        }
      ]
    },
    {
      "cell_type": "code",
      "source": [
        "from scipy.stats import shapiro\n",
        "#Joseve Sebastian Lopez Martinez\n",
        "nivel_de_significancia = 0.05\n",
        "\n",
        "# Función para realizar la prueba de Shapiro-Wilk y mostrar interpretación\n",
        "# NO MODIFICAR\n",
        "def prueba_shapiro(datos, nombre_grupo, nivel_de_significancia):\n",
        "    stat, p = shapiro(datos)\n",
        "    print(f\"\\nPrueba de Shapiro-Wilk para {nombre_grupo}:\")\n",
        "    print(f\"Estadístico: {stat:.4f}\")\n",
        "    print(f\"Valor p: {p:.4f}\")\n",
        "    if p > nivel_de_significancia:\n",
        "        print(\"Interpretación: Los datos tienen una distribución normal.\")\n",
        "    else:\n",
        "        print(\"Interpretación: Los datos no tienen una distribución normal.\")\n",
        "\n",
        "# Aplicar la prueba a cada grupo (parte modificable)\n",
        "prueba_shapiro(df[df['Detergente'] == 'A']['Tiempo'], \"Grupo A\", nivel_de_significancia)\n",
        "prueba_shapiro(df[df['Detergente'] == 'B']['Tiempo'], \"Grupo B\", nivel_de_significancia)\n",
        "prueba_shapiro(df[df['Detergente'] == 'C']['Tiempo'], \"Grupo C\", nivel_de_significancia)\n",
        "prueba_shapiro(df[df['Detergente'] == 'D']['Tiempo'], \"Grupo D\", nivel_de_significancia)"
      ],
      "metadata": {
        "colab": {
          "base_uri": "https://localhost:8080/"
        },
        "id": "aXes0wPXFl6d",
        "outputId": "106354bc-a8c7-4027-c63f-66197f41b5e8"
      },
      "execution_count": 103,
      "outputs": [
        {
          "output_type": "stream",
          "name": "stdout",
          "text": [
            "\n",
            "Prueba de Shapiro-Wilk para Grupo A:\n",
            "Estadístico: 0.9231\n",
            "Valor p: 0.4633\n",
            "Interpretación: Los datos tienen una distribución normal.\n",
            "\n",
            "Prueba de Shapiro-Wilk para Grupo B:\n",
            "Estadístico: 0.9796\n",
            "Valor p: 0.7262\n",
            "Interpretación: Los datos tienen una distribución normal.\n",
            "\n",
            "Prueba de Shapiro-Wilk para Grupo C:\n",
            "Estadístico: 0.8421\n",
            "Valor p: 0.2196\n",
            "Interpretación: Los datos tienen una distribución normal.\n",
            "\n",
            "Prueba de Shapiro-Wilk para Grupo D:\n",
            "Estadístico: 0.9908\n",
            "Valor p: 0.8168\n",
            "Interpretación: Los datos tienen una distribución normal.\n"
          ]
        }
      ]
    },
    {
      "cell_type": "markdown",
      "source": [
        "#### supuesto homoscedasticidad: test de Barlett"
      ],
      "metadata": {
        "id": "QNLiL3YdUPq0"
      }
    },
    {
      "cell_type": "code",
      "source": [
        "from scipy.stats import bartlett\n",
        "#Joseve Sebastian Lopez Martinez\n",
        "nivel_de_significancia = 0.05\n",
        "\n",
        "# Aplicar la prueba de Bartlett\n",
        "stat, p_value = bartlett(\n",
        "\n",
        "    df[df['Detergente'] == 'A']['Tiempo'],\n",
        "    df[df['Detergente'] == 'B']['Tiempo'],\n",
        "    df[df['Detergente'] == 'C']['Tiempo'],\n",
        "    df[df['Detergente'] == 'D']['Tiempo'],\n",
        ")\n",
        "\n",
        "# Resultados\n",
        "print(\"Estadístico de Bartlett:\", stat)\n",
        "print(\"Valor p:\", p_value)\n",
        "\n",
        "# Interpretación\n",
        "if p_value < nivel_de_significancia:\n",
        "    print(\"Rechazamos la hipótesis nula: Las varianzas no son iguales.\")\n",
        "else:\n",
        "    print(\"No podemos rechazar la hipótesis nula: Las varianzas son iguales.\")"
      ],
      "metadata": {
        "colab": {
          "base_uri": "https://localhost:8080/"
        },
        "id": "rjCZb13ZURb3",
        "outputId": "1b80d4f4-d7b6-467c-f60b-1fc0bb91324b"
      },
      "execution_count": 104,
      "outputs": [
        {
          "output_type": "stream",
          "name": "stdout",
          "text": [
            "Estadístico de Bartlett: 0.37465493357079493\n",
            "Valor p: 0.9454269614278242\n",
            "No podemos rechazar la hipótesis nula: Las varianzas son iguales.\n"
          ]
        }
      ]
    },
    {
      "cell_type": "markdown",
      "source": [
        "#### conclusiones"
      ],
      "metadata": {
        "id": "jr3JJg83Vj2k"
      }
    },
    {
      "cell_type": "markdown",
      "source": [
        "Dado que tanto los detergentes como las lavadoras tienen un efecto significativo sobre la blancura, se puede concluir que los factores detergente y lavadora afectan significativamente el rendimiento del lavado. Además, las varianzas son homogéneas, lo que refuerza la validez del ANOVA realizado.\n",
        "\n",
        "<br>\n",
        "\n",
        "En resumen, tanto el tipo de detergente como el modelo de la lavadora tienen un efecto significativo sobre la blancura, y no hay evidencia de variabilidad en las varianzas, lo que respalda la conclusión de que los factores analizados tienen un impacto importante.\n"
      ],
      "metadata": {
        "id": "qfGRxHA7VnEA"
      }
    },
    {
      "cell_type": "markdown",
      "source": [
        "## Problema 4\n",
        "Con respecto al problema anterior:<br>\n",
        "a) Conteste los tres incisos del problema anterior sin tomar en cuenta el efecto de las lavadoras y obtenga conclusiones.  \n",
        "b) ¿Hay diferencias en las conclusiones anteriores y las del problema anterior? Explique su respuesta.  \n",
        "c) ¿Con cuáles conclusiones se queda? Explique su respuesta."
      ],
      "metadata": {
        "id": "z4abo4NCAa9g"
      }
    },
    {
      "cell_type": "markdown",
      "source": [
        "### a) Conteste los tres incisos del problema anterior sin tomar en cuenta el efecto de las lavadoras y obtenga conclusiones.\n",
        "\n",
        "\n",
        "\n"
      ],
      "metadata": {
        "id": "WN6lLM_kWb61"
      }
    },
    {
      "cell_type": "markdown",
      "source": [
        "#### a) Señale el nombre del diseño experimental utilizado."
      ],
      "metadata": {
        "id": "j2jjt32BWjLO"
      }
    },
    {
      "cell_type": "markdown",
      "source": [
        "Diseño en bloques completamente al azar"
      ],
      "metadata": {
        "id": "GsJfhPXhWpxN"
      }
    },
    {
      "cell_type": "markdown",
      "source": [
        "#### b) Formule la hipótesis que se quiere probar en este problema ( sin tomar en cuenta el efecto de las lavadoras)."
      ],
      "metadata": {
        "id": "p2jbl5sJWwN0"
      }
    },
    {
      "cell_type": "markdown",
      "source": [
        "Se investigará si el tipo de detergente tiene un impacto significativo en los resultados de blancura, sin tomar en cuenta el posible efecto de los modelos de lavadora.\n",
        "\n",
        "Este análisis permitirá determinar si los diferentes detergentes ofrecen rendimientos significativamente distintos en cuanto a la blancura de la ropa, independientemente de las variaciones entre lavadoras."
      ],
      "metadata": {
        "id": "vnqQBjONXP9r"
      }
    },
    {
      "cell_type": "markdown",
      "source": [
        "#### c) Realice el análisis estadístico más apropiado para estos datos y obtenga conclusiones ( sin tomar en cuenta el efecto de las lavadoras)."
      ],
      "metadata": {
        "id": "g4wqrMqSX9uh"
      }
    },
    {
      "cell_type": "code",
      "source": [
        "#Joseve Sebastian Lopez Martinez\n",
        "data = \"\"\"\n",
        "Detergente,Tiempo\n",
        "A,45\n",
        "A,43\n",
        "A,51\n",
        "B,47\n",
        "B,44\n",
        "B,52\n",
        "C,50\n",
        "C,49\n",
        "C,57\n",
        "D,42\n",
        "D,37\n",
        "D,49\n",
        "\"\"\"\n",
        "\n",
        "# Convertimos los datos en un DataFrame\n",
        "df = pd.read_csv(StringIO(data))\n",
        "\n",
        "\n",
        "nivel_de_significancia = 0.05\n",
        "\n",
        "\n",
        "interes = 'Detergente'      # La variable que me interesa comparar\n",
        "respuesta = 'Tiempo'     # La medición que me permite hacer la comparación\n",
        "\n",
        "# NO MODIFICAR de esta línea hacia abajo\n",
        "# Realizar el modelo ANOVA de dos vías\n",
        "modelo = ols(f'{respuesta} ~ C({interes})', data=df).fit()\n",
        "tabla_anova = sm.stats.anova_lm(modelo, typ=2)\n",
        "\n",
        "# Mostrar resultados\n",
        "print(\"Resultados del ANOVA:\")\n",
        "print(tabla_anova)\n",
        "\n",
        "# Interpretar resultados\n",
        "if tabla_anova[\"PR(>F)\"][f\"C({interes})\"] < nivel_de_significancia:\n",
        "    print(\"\\nConclusión: Hay diferencias significativas entre los tratamientos.\")\n",
        "else:\n",
        "    print(\"\\nConclusión: No hay diferencias significativas entre los tratamientos.\")\n",
        "\n",
        "\n"
      ],
      "metadata": {
        "colab": {
          "base_uri": "https://localhost:8080/"
        },
        "id": "ba7TEDQpYhfb",
        "outputId": "bf124d1e-0251-41ca-ff74-4581419645ef"
      },
      "execution_count": 105,
      "outputs": [
        {
          "output_type": "stream",
          "name": "stdout",
          "text": [
            "Resultados del ANOVA:\n",
            "                   sum_sq   df         F   PR(>F)\n",
            "C(Detergente)  133.666667  3.0  2.002497  0.19229\n",
            "Residual       178.000000  8.0       NaN      NaN\n",
            "\n",
            "Conclusión: No hay diferencias significativas entre los tratamientos.\n"
          ]
        }
      ]
    },
    {
      "cell_type": "markdown",
      "source": [
        "##### conclusiones"
      ],
      "metadata": {
        "id": "kk0z7cknayEr"
      }
    },
    {
      "cell_type": "markdown",
      "source": [
        "Al realizar el análisis estadístico de los datos de \"blancura\" de los detergentes sin considerar el efecto de la lavadora, los resultados del ANOVA muestran que no hay diferencias significativas entre los detergentes (p-valor = 0.19229, mayor que el nivel de significancia de 0.05). Esto indica que, en términos generales, no se puede concluir que uno de los detergentes sea significativamente mejor que otro para mejorar la blancura de las prendas, bajo las condiciones de este estudio.\n",
        "\n"
      ],
      "metadata": {
        "id": "WkdLdxJLa0QV"
      }
    },
    {
      "cell_type": "markdown",
      "source": [
        "### b) ¿Hay diferencias en las conclusiones anteriores y las del problema anterior? Explique su respuesta."
      ],
      "metadata": {
        "id": "y4hHCk1PcLnI"
      }
    },
    {
      "cell_type": "markdown",
      "source": [
        "\n",
        "Sí, hay una diferencia clara entre las conclusiones obtenidas en el análisis con y sin tener en cuenta el efecto de la lavadora.\n",
        "\n",
        "<br>\n",
        "\n",
        "La diferencia entre las conclusiones radica en que la lavadora tiene un impacto significativo en los resultados, y al excluirla del análisis, estamos perdiendo información crucial sobre cómo las combinaciones de detergentes y lavadoras afectan los resultados. Al no tener en cuenta este factor, las diferencias entre los detergentes no son tan evidentes, lo que lleva a una conclusión incorrecta de que no hay diferencias significativas entre ellos.\n",
        "\n",
        "<br>\n",
        "\n",
        "Al eliminar el efecto de la lavadora, se observa que la variabilidad en los resultados es demasiado grande para detectar diferencias claras entre los detergentes\n",
        "\n",
        "<br>\n",
        "\n",
        "En resumen, sin considerar la lavadora, los detergentes parecen tener un rendimiento similar."
      ],
      "metadata": {
        "id": "GJjpH4EIcoa0"
      }
    },
    {
      "cell_type": "markdown",
      "source": [
        "### c) ¿Con cuáles conclusiones se queda? Explique su respuesta."
      ],
      "metadata": {
        "id": "LoHhLnF2dTvV"
      }
    },
    {
      "cell_type": "markdown",
      "source": [
        "Me quedaría con las conclusiones obtenidas al considerar tanto el efecto de los detergentes como el de las lavadoras.\n",
        "\n",
        "<br>\n",
        "\n",
        "La razón de esta elección se debe a que este análisis refleja de manera más precisa la realidad del experimento, considerando que ambos factores (detergentes y lavadoras) tienen un impacto en el resultado, esto proporciona un análisis más robusto y aplicable a situaciones reales, donde ambos factores son importantes para evaluar el rendimiento de los detergentes.\n",
        "\n"
      ],
      "metadata": {
        "id": "V_PcUGvedWCh"
      }
    },
    {
      "cell_type": "markdown",
      "source": [
        "## Problema 5\n",
        "Una de las variables críticas en el proceso de ensamble del brazo lector de un disco duro es el ángulo que este forma con el cuerpo principal de la cabeza lectora. Se corre un experimento con el objetivo de comparar dos equipos que miden dicho ángulo en unidades de radianes. Se decide utilizar como factor de bloque a los operadores de los equipos. Los resultados se muestran en la siguiente tabla:\n",
        "\n",
        "| Operador | Equipo 1                                         | Equipo 2                                         |\n",
        "|----------|--------------------------------------------------|--------------------------------------------------|\n",
        "| 1        | 1.328, 0.985, 1.316, 1.553, 1.310               | 1.273, 0.985, 1.134, 1.412, 0.917               |\n",
        "|          | 1.113, 1.057, 1.144, 1.485, 1.386               | 0.789, 0.671, 0.554, 1.386, 1.289               |\n",
        "| 2        | 1.269, 1.268, 1.091, 1.195, 1.380               | 1.036, 0.783, 1.108, 1.129, 1.132               |\n",
        "|          | 1.093, 0.984, 1.087, 1.482, 1.442               | 0.201, 0.900, 0.916, 1.434, 1.223               |\n",
        "| 3        | 1.440, 1.079, 1.389, 1.611, 1.445               | 1.454, 1.063, 1.219, 1.602, 1.583               |\n",
        "|          | 1.150, 1.190, 1.247, 1.617, 1.574               | 1.018, 1.050, 0.997, 1.538, 1.478               |\n",
        "\n",
        "### Preguntas y ejercicios:\n",
        "a) Plantee el modelo y las hipótesis más adecuadas al problema.  \n",
        "b) ¿Existen diferencias entre los equipos? Argumente estadísticamente.  \n",
        "c) ¿Existen diferencias entre los operadores?  \n",
        "d) Dibuje los diagramas de cajas simultáneos y las gráficas de medias para ambos factores, después interprételas.  \n",
        "e) Verifique los supuestos de normalidad e igualdad de varianza entre tratamientos, así como la posible presencia de puntos aberrantes.\n"
      ],
      "metadata": {
        "id": "flpeRG0yAry5"
      }
    },
    {
      "cell_type": "code",
      "source": [],
      "metadata": {
        "id": "6jJO6y6TBfng"
      },
      "execution_count": 105,
      "outputs": []
    },
    {
      "cell_type": "markdown",
      "source": [
        "## Problema 6\n",
        "Un aspecto crítico para que se conserve la leche es la temperatura de almacenamiento. De manera tradicional se han usado termómetros de mercurio (Mer) para verificar que la temperatura sea la adecuada, pero ahora se han comprado termómetros electrónicos (Rtd) para facilitar el proceso de medición. Sin embargo, se duda de las mediciones de estos nuevos dispositivos. Para aclarar dudas y diagnosticar la situación, durante cinco días se toman mediciones con ambos tipos de termómetros en varios silos (a la misma hora). Los datos para cinco silos se muestran a continuación:\n",
        "\n",
        "| Silo | Día 1 (Mer) | Día 1 (Rtd) | Día 2 (Mer) | Día 2 (Rtd) | Día 3 (Mer) | Día 3 (Rtd) | Día 4 (Mer) | Día 4 (Rtd) | Día 5 (Mer) | Día 5 (Rtd) |\n",
        "|------|-------------|-------------|-------------|-------------|-------------|-------------|-------------|-------------|-------------|--|\n",
        "| A    | 4.0         | 2.6         | 4.0         | 2.8         | 5.0         | 5.0         | 0.5         | 0.0         | 3.0         | 2.4         |\n",
        "| B    | 5.0         | 6.4         | 6.0         | 6.4         | 2.0         | 2.3         | 4.0         | 4.2         | 4.0         | 4.0         |\n",
        "| C    | 4.5         | 3.3         | 4.0         | 1.4         | 3.5         | 1.8         | 2.0         | -1.9        | 3.0         | -7.6        |\n",
        "| D    | 2.5         | 3.1         | 4.0         | 5.0         | 6.5         | 6.6         | 4.5         | 2.7         | 4.0         | 4.0         |\n",
        "| E    | 4.0         | 0.0         | 4.0         | 3.5         | 0.6         | 2.0         | -4.0        | -4.0        | -4.0        | -6.3        |\n",
        "\n",
        "**Preguntas:**<br>\n",
        "a) Observe los datos y establezca una conjetura acerca de la confiabilidad de las mediciones con Rtd (del termómetro de mercurio no hay duda).  \n",
        "b) Es claro que el silo se puede ver como tratamiento y día como bloque. Considere sólo los datos de Rtd y establezca el modelo estadístico. También haga el ANOVA correspondiente y obtenga conclusiones.  \n",
        "c) Repita el inciso anterior pero ahora para las mediciones Mer.  \n",
        "d) ¿Las conclusiones obtenidas en los incisos anteriores coinciden? Comente su respuesta.  \n",
        "e) Datos pareados. Para comparar los dos métodos de medición (Mer y Rtd) obtenga como variable de respuesta la diferencia de temperatura que registran los métodos para cada día en cada silo. Considerando esto, establezca el modelo estadístico, haga el ANOVA correspondiente y obtenga conclusiones.\n"
      ],
      "metadata": {
        "id": "ibSLfuQNBf2t"
      }
    },
    {
      "cell_type": "code",
      "source": [],
      "metadata": {
        "id": "Li8cqkP8CArD"
      },
      "execution_count": 105,
      "outputs": []
    },
    {
      "cell_type": "markdown",
      "source": [
        "## Problema 7\n",
        "Se quiere estudiar el efecto de cinco diferentes catalizadores (**A, B, C, D y E**) sobre el **tiempo de reacción** de un proceso químico. Cada lote de material sólo permite cinco corridas y cada corrida requiere aproximadamente 1.5 horas, por lo que sólo se pueden realizar cinco corridas diarias. El experimentador decide correr los experimentos con un diseño en cuadro latino para controlar activamente a los **lotes y días**. Los datos obtenidos son:\n",
        "\n",
        "| Lote | Día 1 | Día 2 | Día 3 | Día 4 | Día 5 |\n",
        "|------|-------|-------|-------|-------|-------|\n",
        "| 1    | A = 8 | B = 7 | D = 1 | C = 7 | E = 3 |\n",
        "| 2    | C = 11| E = 2 | A = 7 | D = 3 | B = 8 |\n",
        "| 3    | B = 4 | A = 9 | C = 10| E = 1 | D = 5 |\n",
        "| 4    | D = 6 | C = 8 | E = 6 | B = 6 | A = 10|\n",
        "| 5    | E = 4 | D = 2 | B = 3 | A = 8 | C = 8 |\n",
        "\n",
        "\n",
        "**Preguntas:**<br>\n",
        "a) ¿Cómo se aleatorizó el experimento?  \n",
        "b) Anote la ecuación del modelo y las hipótesis estadísticas correspondientes.  \n",
        "c) ¿Existen diferencias entre los tratamientos? ¿Cuáles tratamientos son diferentes entre sí?  \n",
        "d) ¿Los factores de ruido, lote y día afectan el tiempo de reacción del proceso?  \n",
        "e) Dibuje los gráficos de medias para los tratamientos, los lotes y los días. ¿Cuál tratamiento es mejor?  \n",
        "f) Verifique los supuestos del modelo, considerando que los datos se obtuvieron columna por columna, día a día.\n"
      ],
      "metadata": {
        "id": "-IQ5qc7CChHg"
      }
    },
    {
      "cell_type": "code",
      "source": [],
      "metadata": {
        "id": "ipXdC8wfCgO8"
      },
      "execution_count": 105,
      "outputs": []
    },
    {
      "cell_type": "markdown",
      "source": [
        "## Problema 8\n",
        "En el problema anterior elimine el factor de bloque días, y conteste:\n",
        "\n",
        "a) ¿Se justifica la eliminación?  \n",
        "b) Sin tomar en cuenta el día, señale el nombre del diseño, el modelo y las hipótesis más adecuadas al problema.  \n",
        "c) Pruebe las hipótesis y obtenga conclusiones.  \n",
        "d) Compare el cuadro medio del error, en este caso con el del problema anterior. ¿Qué observa? ¿Cómo lo explica?  \n",
        "e) ¿Por qué se obtienen las mismas conclusiones en los tratamientos de este problema y del anterior?\n"
      ],
      "metadata": {
        "id": "9682hH7yDV8r"
      }
    },
    {
      "cell_type": "code",
      "source": [],
      "metadata": {
        "id": "bNhMBX8uD6II"
      },
      "execution_count": 105,
      "outputs": []
    },
    {
      "cell_type": "markdown",
      "source": [
        "## Problema 9\n",
        "Con respecto a los problemas 7 y 8, además de eliminar el factor día ahora elimine el factor lote, y conteste lo siguiente:\n",
        "\n",
        "a) ¿Se justifica esta segunda eliminación en ambos problemas?  \n",
        "b) Después de la doble eliminación, señale el nombre del diseño, el modelo y la(s) hipótesis más adecuada(s) al problema.  \n",
        "c) Pruebe las hipótesis y obtenga conclusiones.  \n",
        "d) Compare el cuadro medio del error obtenido con los de los problemas 16 y 17. ¿Qué observa? ¿Cómo lo explica?  \n",
        "e) ¿Por qué se obtienen las mismas conclusiones en los tratamientos de este problema y de los dos anteriores?  \n",
        "f) ¿Cree que esta eliminación hubiese afectado si los factores de bloque hubieran sido significativos?  \n"
      ],
      "metadata": {
        "id": "P_BpzWlvD7QR"
      }
    },
    {
      "cell_type": "code",
      "source": [],
      "metadata": {
        "id": "ixMW5NA6EXvI"
      },
      "execution_count": 105,
      "outputs": []
    },
    {
      "cell_type": "markdown",
      "source": [
        "## Problema 10\n",
        "Se comprueba el peso en gramos de un material de tres proveedores: **A, B y C**, por tres diferentes inspectores: **I, II y III**, utilizando tres diferentes escalas: **1, 2 y 3**. El experimento se lleva a cabo como el siguiente cuadro latino:\n",
        "\n",
        "| Inspector | Escala 1 | Escala 2 | Escala 3 |\n",
        "|-----------|----------|----------|----------|\n",
        "| I         | A = 16   | B = 10   | C = 11   |\n",
        "| II        | B = 15   | C = 9    | A = 14   |\n",
        "| III       | C = 13   | A = 11   | B = 13   |\n",
        "\n",
        "**Preguntas:**<br>\n",
        "a) ¿Hay diferencias entre los proveedores?  \n",
        "b) ¿Hay diferencias entre los inspectores y entre las escalas?  \n",
        "c) Si el peso debe ser 15 g, ¿cuál proveedor es mejor?  \n",
        "d) Si algún factor de bloque es no significativo, elimínelo y haga el análisis adecuado.  \n"
      ],
      "metadata": {
        "id": "0nMhGhuDEkab"
      }
    },
    {
      "cell_type": "code",
      "source": [
        "#Joseve Sebastian Lopez Martinez\n",
        "data = '''\n",
        "Inspector,Escala,Categoría,Valor\n",
        "I,Escala 1,A,16\n",
        "I,Escala 2,B,10\n",
        "I,Escala 3,C,11\n",
        "II,Escala 1,B,15\n",
        "II,Escala 2,C,9\n",
        "II,Escala 3,A,14\n",
        "III,Escala 1,C,13\n",
        "III,Escala 2,A,11\n",
        "III,Escala 3,B,13\n",
        "'''\n",
        "\n",
        "df = pd.read_csv(StringIO(data))\n",
        "df"
      ],
      "metadata": {
        "colab": {
          "base_uri": "https://localhost:8080/",
          "height": 331
        },
        "id": "i1UmeK0aA3U-",
        "outputId": "afece22d-adde-4136-df67-2e1e943f05a5"
      },
      "execution_count": 106,
      "outputs": [
        {
          "output_type": "execute_result",
          "data": {
            "text/plain": [
              "  Inspector    Escala Categoría  Valor\n",
              "0         I  Escala 1         A     16\n",
              "1         I  Escala 2         B     10\n",
              "2         I  Escala 3         C     11\n",
              "3        II  Escala 1         B     15\n",
              "4        II  Escala 2         C      9\n",
              "5        II  Escala 3         A     14\n",
              "6       III  Escala 1         C     13\n",
              "7       III  Escala 2         A     11\n",
              "8       III  Escala 3         B     13"
            ],
            "text/html": [
              "\n",
              "  <div id=\"df-57d2bb1f-c49f-4caf-8ece-5d69085db1dc\" class=\"colab-df-container\">\n",
              "    <div>\n",
              "<style scoped>\n",
              "    .dataframe tbody tr th:only-of-type {\n",
              "        vertical-align: middle;\n",
              "    }\n",
              "\n",
              "    .dataframe tbody tr th {\n",
              "        vertical-align: top;\n",
              "    }\n",
              "\n",
              "    .dataframe thead th {\n",
              "        text-align: right;\n",
              "    }\n",
              "</style>\n",
              "<table border=\"1\" class=\"dataframe\">\n",
              "  <thead>\n",
              "    <tr style=\"text-align: right;\">\n",
              "      <th></th>\n",
              "      <th>Inspector</th>\n",
              "      <th>Escala</th>\n",
              "      <th>Categoría</th>\n",
              "      <th>Valor</th>\n",
              "    </tr>\n",
              "  </thead>\n",
              "  <tbody>\n",
              "    <tr>\n",
              "      <th>0</th>\n",
              "      <td>I</td>\n",
              "      <td>Escala 1</td>\n",
              "      <td>A</td>\n",
              "      <td>16</td>\n",
              "    </tr>\n",
              "    <tr>\n",
              "      <th>1</th>\n",
              "      <td>I</td>\n",
              "      <td>Escala 2</td>\n",
              "      <td>B</td>\n",
              "      <td>10</td>\n",
              "    </tr>\n",
              "    <tr>\n",
              "      <th>2</th>\n",
              "      <td>I</td>\n",
              "      <td>Escala 3</td>\n",
              "      <td>C</td>\n",
              "      <td>11</td>\n",
              "    </tr>\n",
              "    <tr>\n",
              "      <th>3</th>\n",
              "      <td>II</td>\n",
              "      <td>Escala 1</td>\n",
              "      <td>B</td>\n",
              "      <td>15</td>\n",
              "    </tr>\n",
              "    <tr>\n",
              "      <th>4</th>\n",
              "      <td>II</td>\n",
              "      <td>Escala 2</td>\n",
              "      <td>C</td>\n",
              "      <td>9</td>\n",
              "    </tr>\n",
              "    <tr>\n",
              "      <th>5</th>\n",
              "      <td>II</td>\n",
              "      <td>Escala 3</td>\n",
              "      <td>A</td>\n",
              "      <td>14</td>\n",
              "    </tr>\n",
              "    <tr>\n",
              "      <th>6</th>\n",
              "      <td>III</td>\n",
              "      <td>Escala 1</td>\n",
              "      <td>C</td>\n",
              "      <td>13</td>\n",
              "    </tr>\n",
              "    <tr>\n",
              "      <th>7</th>\n",
              "      <td>III</td>\n",
              "      <td>Escala 2</td>\n",
              "      <td>A</td>\n",
              "      <td>11</td>\n",
              "    </tr>\n",
              "    <tr>\n",
              "      <th>8</th>\n",
              "      <td>III</td>\n",
              "      <td>Escala 3</td>\n",
              "      <td>B</td>\n",
              "      <td>13</td>\n",
              "    </tr>\n",
              "  </tbody>\n",
              "</table>\n",
              "</div>\n",
              "    <div class=\"colab-df-buttons\">\n",
              "\n",
              "  <div class=\"colab-df-container\">\n",
              "    <button class=\"colab-df-convert\" onclick=\"convertToInteractive('df-57d2bb1f-c49f-4caf-8ece-5d69085db1dc')\"\n",
              "            title=\"Convert this dataframe to an interactive table.\"\n",
              "            style=\"display:none;\">\n",
              "\n",
              "  <svg xmlns=\"http://www.w3.org/2000/svg\" height=\"24px\" viewBox=\"0 -960 960 960\">\n",
              "    <path d=\"M120-120v-720h720v720H120Zm60-500h600v-160H180v160Zm220 220h160v-160H400v160Zm0 220h160v-160H400v160ZM180-400h160v-160H180v160Zm440 0h160v-160H620v160ZM180-180h160v-160H180v160Zm440 0h160v-160H620v160Z\"/>\n",
              "  </svg>\n",
              "    </button>\n",
              "\n",
              "  <style>\n",
              "    .colab-df-container {\n",
              "      display:flex;\n",
              "      gap: 12px;\n",
              "    }\n",
              "\n",
              "    .colab-df-convert {\n",
              "      background-color: #E8F0FE;\n",
              "      border: none;\n",
              "      border-radius: 50%;\n",
              "      cursor: pointer;\n",
              "      display: none;\n",
              "      fill: #1967D2;\n",
              "      height: 32px;\n",
              "      padding: 0 0 0 0;\n",
              "      width: 32px;\n",
              "    }\n",
              "\n",
              "    .colab-df-convert:hover {\n",
              "      background-color: #E2EBFA;\n",
              "      box-shadow: 0px 1px 2px rgba(60, 64, 67, 0.3), 0px 1px 3px 1px rgba(60, 64, 67, 0.15);\n",
              "      fill: #174EA6;\n",
              "    }\n",
              "\n",
              "    .colab-df-buttons div {\n",
              "      margin-bottom: 4px;\n",
              "    }\n",
              "\n",
              "    [theme=dark] .colab-df-convert {\n",
              "      background-color: #3B4455;\n",
              "      fill: #D2E3FC;\n",
              "    }\n",
              "\n",
              "    [theme=dark] .colab-df-convert:hover {\n",
              "      background-color: #434B5C;\n",
              "      box-shadow: 0px 1px 3px 1px rgba(0, 0, 0, 0.15);\n",
              "      filter: drop-shadow(0px 1px 2px rgba(0, 0, 0, 0.3));\n",
              "      fill: #FFFFFF;\n",
              "    }\n",
              "  </style>\n",
              "\n",
              "    <script>\n",
              "      const buttonEl =\n",
              "        document.querySelector('#df-57d2bb1f-c49f-4caf-8ece-5d69085db1dc button.colab-df-convert');\n",
              "      buttonEl.style.display =\n",
              "        google.colab.kernel.accessAllowed ? 'block' : 'none';\n",
              "\n",
              "      async function convertToInteractive(key) {\n",
              "        const element = document.querySelector('#df-57d2bb1f-c49f-4caf-8ece-5d69085db1dc');\n",
              "        const dataTable =\n",
              "          await google.colab.kernel.invokeFunction('convertToInteractive',\n",
              "                                                    [key], {});\n",
              "        if (!dataTable) return;\n",
              "\n",
              "        const docLinkHtml = 'Like what you see? Visit the ' +\n",
              "          '<a target=\"_blank\" href=https://colab.research.google.com/notebooks/data_table.ipynb>data table notebook</a>'\n",
              "          + ' to learn more about interactive tables.';\n",
              "        element.innerHTML = '';\n",
              "        dataTable['output_type'] = 'display_data';\n",
              "        await google.colab.output.renderOutput(dataTable, element);\n",
              "        const docLink = document.createElement('div');\n",
              "        docLink.innerHTML = docLinkHtml;\n",
              "        element.appendChild(docLink);\n",
              "      }\n",
              "    </script>\n",
              "  </div>\n",
              "\n",
              "\n",
              "<div id=\"df-ce170783-74b4-4e2d-9140-6bb835d8561f\">\n",
              "  <button class=\"colab-df-quickchart\" onclick=\"quickchart('df-ce170783-74b4-4e2d-9140-6bb835d8561f')\"\n",
              "            title=\"Suggest charts\"\n",
              "            style=\"display:none;\">\n",
              "\n",
              "<svg xmlns=\"http://www.w3.org/2000/svg\" height=\"24px\"viewBox=\"0 0 24 24\"\n",
              "     width=\"24px\">\n",
              "    <g>\n",
              "        <path d=\"M19 3H5c-1.1 0-2 .9-2 2v14c0 1.1.9 2 2 2h14c1.1 0 2-.9 2-2V5c0-1.1-.9-2-2-2zM9 17H7v-7h2v7zm4 0h-2V7h2v10zm4 0h-2v-4h2v4z\"/>\n",
              "    </g>\n",
              "</svg>\n",
              "  </button>\n",
              "\n",
              "<style>\n",
              "  .colab-df-quickchart {\n",
              "      --bg-color: #E8F0FE;\n",
              "      --fill-color: #1967D2;\n",
              "      --hover-bg-color: #E2EBFA;\n",
              "      --hover-fill-color: #174EA6;\n",
              "      --disabled-fill-color: #AAA;\n",
              "      --disabled-bg-color: #DDD;\n",
              "  }\n",
              "\n",
              "  [theme=dark] .colab-df-quickchart {\n",
              "      --bg-color: #3B4455;\n",
              "      --fill-color: #D2E3FC;\n",
              "      --hover-bg-color: #434B5C;\n",
              "      --hover-fill-color: #FFFFFF;\n",
              "      --disabled-bg-color: #3B4455;\n",
              "      --disabled-fill-color: #666;\n",
              "  }\n",
              "\n",
              "  .colab-df-quickchart {\n",
              "    background-color: var(--bg-color);\n",
              "    border: none;\n",
              "    border-radius: 50%;\n",
              "    cursor: pointer;\n",
              "    display: none;\n",
              "    fill: var(--fill-color);\n",
              "    height: 32px;\n",
              "    padding: 0;\n",
              "    width: 32px;\n",
              "  }\n",
              "\n",
              "  .colab-df-quickchart:hover {\n",
              "    background-color: var(--hover-bg-color);\n",
              "    box-shadow: 0 1px 2px rgba(60, 64, 67, 0.3), 0 1px 3px 1px rgba(60, 64, 67, 0.15);\n",
              "    fill: var(--button-hover-fill-color);\n",
              "  }\n",
              "\n",
              "  .colab-df-quickchart-complete:disabled,\n",
              "  .colab-df-quickchart-complete:disabled:hover {\n",
              "    background-color: var(--disabled-bg-color);\n",
              "    fill: var(--disabled-fill-color);\n",
              "    box-shadow: none;\n",
              "  }\n",
              "\n",
              "  .colab-df-spinner {\n",
              "    border: 2px solid var(--fill-color);\n",
              "    border-color: transparent;\n",
              "    border-bottom-color: var(--fill-color);\n",
              "    animation:\n",
              "      spin 1s steps(1) infinite;\n",
              "  }\n",
              "\n",
              "  @keyframes spin {\n",
              "    0% {\n",
              "      border-color: transparent;\n",
              "      border-bottom-color: var(--fill-color);\n",
              "      border-left-color: var(--fill-color);\n",
              "    }\n",
              "    20% {\n",
              "      border-color: transparent;\n",
              "      border-left-color: var(--fill-color);\n",
              "      border-top-color: var(--fill-color);\n",
              "    }\n",
              "    30% {\n",
              "      border-color: transparent;\n",
              "      border-left-color: var(--fill-color);\n",
              "      border-top-color: var(--fill-color);\n",
              "      border-right-color: var(--fill-color);\n",
              "    }\n",
              "    40% {\n",
              "      border-color: transparent;\n",
              "      border-right-color: var(--fill-color);\n",
              "      border-top-color: var(--fill-color);\n",
              "    }\n",
              "    60% {\n",
              "      border-color: transparent;\n",
              "      border-right-color: var(--fill-color);\n",
              "    }\n",
              "    80% {\n",
              "      border-color: transparent;\n",
              "      border-right-color: var(--fill-color);\n",
              "      border-bottom-color: var(--fill-color);\n",
              "    }\n",
              "    90% {\n",
              "      border-color: transparent;\n",
              "      border-bottom-color: var(--fill-color);\n",
              "    }\n",
              "  }\n",
              "</style>\n",
              "\n",
              "  <script>\n",
              "    async function quickchart(key) {\n",
              "      const quickchartButtonEl =\n",
              "        document.querySelector('#' + key + ' button');\n",
              "      quickchartButtonEl.disabled = true;  // To prevent multiple clicks.\n",
              "      quickchartButtonEl.classList.add('colab-df-spinner');\n",
              "      try {\n",
              "        const charts = await google.colab.kernel.invokeFunction(\n",
              "            'suggestCharts', [key], {});\n",
              "      } catch (error) {\n",
              "        console.error('Error during call to suggestCharts:', error);\n",
              "      }\n",
              "      quickchartButtonEl.classList.remove('colab-df-spinner');\n",
              "      quickchartButtonEl.classList.add('colab-df-quickchart-complete');\n",
              "    }\n",
              "    (() => {\n",
              "      let quickchartButtonEl =\n",
              "        document.querySelector('#df-ce170783-74b4-4e2d-9140-6bb835d8561f button');\n",
              "      quickchartButtonEl.style.display =\n",
              "        google.colab.kernel.accessAllowed ? 'block' : 'none';\n",
              "    })();\n",
              "  </script>\n",
              "</div>\n",
              "\n",
              "  <div id=\"id_4c678cf2-1bff-4d0a-93bf-b46dc2c0c6c7\">\n",
              "    <style>\n",
              "      .colab-df-generate {\n",
              "        background-color: #E8F0FE;\n",
              "        border: none;\n",
              "        border-radius: 50%;\n",
              "        cursor: pointer;\n",
              "        display: none;\n",
              "        fill: #1967D2;\n",
              "        height: 32px;\n",
              "        padding: 0 0 0 0;\n",
              "        width: 32px;\n",
              "      }\n",
              "\n",
              "      .colab-df-generate:hover {\n",
              "        background-color: #E2EBFA;\n",
              "        box-shadow: 0px 1px 2px rgba(60, 64, 67, 0.3), 0px 1px 3px 1px rgba(60, 64, 67, 0.15);\n",
              "        fill: #174EA6;\n",
              "      }\n",
              "\n",
              "      [theme=dark] .colab-df-generate {\n",
              "        background-color: #3B4455;\n",
              "        fill: #D2E3FC;\n",
              "      }\n",
              "\n",
              "      [theme=dark] .colab-df-generate:hover {\n",
              "        background-color: #434B5C;\n",
              "        box-shadow: 0px 1px 3px 1px rgba(0, 0, 0, 0.15);\n",
              "        filter: drop-shadow(0px 1px 2px rgba(0, 0, 0, 0.3));\n",
              "        fill: #FFFFFF;\n",
              "      }\n",
              "    </style>\n",
              "    <button class=\"colab-df-generate\" onclick=\"generateWithVariable('df')\"\n",
              "            title=\"Generate code using this dataframe.\"\n",
              "            style=\"display:none;\">\n",
              "\n",
              "  <svg xmlns=\"http://www.w3.org/2000/svg\" height=\"24px\"viewBox=\"0 0 24 24\"\n",
              "       width=\"24px\">\n",
              "    <path d=\"M7,19H8.4L18.45,9,17,7.55,7,17.6ZM5,21V16.75L18.45,3.32a2,2,0,0,1,2.83,0l1.4,1.43a1.91,1.91,0,0,1,.58,1.4,1.91,1.91,0,0,1-.58,1.4L9.25,21ZM18.45,9,17,7.55Zm-12,3A5.31,5.31,0,0,0,4.9,8.1,5.31,5.31,0,0,0,1,6.5,5.31,5.31,0,0,0,4.9,4.9,5.31,5.31,0,0,0,6.5,1,5.31,5.31,0,0,0,8.1,4.9,5.31,5.31,0,0,0,12,6.5,5.46,5.46,0,0,0,6.5,12Z\"/>\n",
              "  </svg>\n",
              "    </button>\n",
              "    <script>\n",
              "      (() => {\n",
              "      const buttonEl =\n",
              "        document.querySelector('#id_4c678cf2-1bff-4d0a-93bf-b46dc2c0c6c7 button.colab-df-generate');\n",
              "      buttonEl.style.display =\n",
              "        google.colab.kernel.accessAllowed ? 'block' : 'none';\n",
              "\n",
              "      buttonEl.onclick = () => {\n",
              "        google.colab.notebook.generateWithVariable('df');\n",
              "      }\n",
              "      })();\n",
              "    </script>\n",
              "  </div>\n",
              "\n",
              "    </div>\n",
              "  </div>\n"
            ],
            "application/vnd.google.colaboratory.intrinsic+json": {
              "type": "dataframe",
              "variable_name": "df",
              "summary": "{\n  \"name\": \"df\",\n  \"rows\": 9,\n  \"fields\": [\n    {\n      \"column\": \"Inspector\",\n      \"properties\": {\n        \"dtype\": \"category\",\n        \"num_unique_values\": 3,\n        \"samples\": [\n          \"I\",\n          \"II\",\n          \"III\"\n        ],\n        \"semantic_type\": \"\",\n        \"description\": \"\"\n      }\n    },\n    {\n      \"column\": \"Escala\",\n      \"properties\": {\n        \"dtype\": \"category\",\n        \"num_unique_values\": 3,\n        \"samples\": [\n          \"Escala 1\",\n          \"Escala 2\",\n          \"Escala 3\"\n        ],\n        \"semantic_type\": \"\",\n        \"description\": \"\"\n      }\n    },\n    {\n      \"column\": \"Categor\\u00eda\",\n      \"properties\": {\n        \"dtype\": \"category\",\n        \"num_unique_values\": 3,\n        \"samples\": [\n          \"A\",\n          \"B\",\n          \"C\"\n        ],\n        \"semantic_type\": \"\",\n        \"description\": \"\"\n      }\n    },\n    {\n      \"column\": \"Valor\",\n      \"properties\": {\n        \"dtype\": \"number\",\n        \"std\": 2,\n        \"min\": 9,\n        \"max\": 16,\n        \"num_unique_values\": 7,\n        \"samples\": [\n          16,\n          10,\n          14\n        ],\n        \"semantic_type\": \"\",\n        \"description\": \"\"\n      }\n    }\n  ]\n}"
            }
          },
          "metadata": {},
          "execution_count": 106
        }
      ]
    },
    {
      "cell_type": "code",
      "source": [
        "#Joseve Sebastian Lopez Martinez\n",
        "from statsmodels.formula.api import ols\n",
        "import statsmodels.api as sm\n",
        "import pandas as pd\n",
        "\n",
        "# Nivel de significancia\n",
        "nivel_de_significancia = 0.05\n",
        "\n",
        "# Configuración de variables\n",
        "bloque_1 = 'Inspector'   # Primer bloque (factor no principal)\n",
        "bloque_2 = 'Escala'      # Segundo bloque (factor no principal)\n",
        "interes = 'Categoría'       # Variable de interés (tratamiento)\n",
        "respuesta = 'Valor'  # Variable de respuesta (medición) que permite la comparación\n",
        "\n",
        "# De aquí para abajo, no mover\n",
        "# Crear el modelo ANOVA para un cuadro latino\n",
        "modelo = ols(f'{respuesta} ~ C({interes}) + C({bloque_1}) + C({bloque_2})', data=df).fit()\n",
        "tabla_anova = sm.stats.anova_lm(modelo, typ=2)\n",
        "\n",
        "# Mostrar resultados\n",
        "print(\"Resultados del ANOVA para el Cuadro Latino:\")\n",
        "print(tabla_anova)\n",
        "\n",
        "# Interpretar resultados\n",
        "if tabla_anova[\"PR(>F)\"][f\"C({interes})\"] < nivel_de_significancia:\n",
        "    print(f\"\\nConclusión: Hay diferencias significativas: {interes}.\")\n",
        "else:\n",
        "    print(f\"\\nConclusión: No hay diferencias significativas: {interes}.\")\n",
        "\n",
        "if tabla_anova[\"PR(>F)\"][f\"C({bloque_1})\"] < nivel_de_significancia:\n",
        "    print(f\"Conclusión: Hay diferencias significativas: {bloque_1}.\")\n",
        "else:\n",
        "    print(f\"Conclusión: No hay diferencias significativas: {bloque_1}.\")\n",
        "\n",
        "if tabla_anova[\"PR(>F)\"][f\"C({bloque_2})\"] < nivel_de_significancia:\n",
        "    print(f\"Conclusión: Hay diferencias significativas: {bloque_2}.\")\n",
        "else:\n",
        "    print(f\"Conclusión: No hay diferencias significativas: {bloque_2}.\")\n"
      ],
      "metadata": {
        "colab": {
          "base_uri": "https://localhost:8080/"
        },
        "id": "2NFn0yg3BVjM",
        "outputId": "7504678b-df97-4fd6-bfa4-534605e6d04a"
      },
      "execution_count": 107,
      "outputs": [
        {
          "output_type": "stream",
          "name": "stdout",
          "text": [
            "Resultados del ANOVA para el Cuadro Latino:\n",
            "                 sum_sq   df      F    PR(>F)\n",
            "C(Categoría)  10.888889  2.0   49.0  0.020000\n",
            "C(Inspector)   0.222222  2.0    1.0  0.500000\n",
            "C(Escala)     32.888889  2.0  148.0  0.006711\n",
            "Residual       0.222222  2.0    NaN       NaN\n",
            "\n",
            "Conclusión: Hay diferencias significativas: Categoría.\n",
            "Conclusión: No hay diferencias significativas: Inspector.\n",
            "Conclusión: Hay diferencias significativas: Escala.\n"
          ]
        }
      ]
    },
    {
      "cell_type": "markdown",
      "source": [
        "### a) ¿Hay diferencias entre los proveedores?"
      ],
      "metadata": {
        "id": "Lao3OJHRAu6T"
      }
    },
    {
      "cell_type": "markdown",
      "source": [
        "Si hay diferencia significativa"
      ],
      "metadata": {
        "id": "4p1uBZsfC_ar"
      }
    },
    {
      "cell_type": "markdown",
      "source": [
        "### b) ¿Hay diferencias entre los inspectores y entre las escalas?"
      ],
      "metadata": {
        "id": "P_6Tl1pTDPbY"
      }
    },
    {
      "cell_type": "markdown",
      "source": [
        "<h2>¿Hay diferencias entre los inspectores?</h2>\n",
        "\n",
        "No hay diferencias significativas entre los inspectores, lo que indica que su desempeño no influye significativamente en los resultados.\n",
        "\n",
        "<br>\n",
        "\n",
        "<h2>¿Hay diferencias entre las escalas?</h2>\n",
        "\n",
        "Sí hay diferencias significativas entre las escalas, lo que significa que el tipo de escala utilizado tiene un impacto importante en los resultados de las mediciones de peso del material."
      ],
      "metadata": {
        "id": "uhWiMHqYDR40"
      }
    },
    {
      "cell_type": "markdown",
      "source": [
        "### c) Si el peso debe ser 15 g, ¿cuál proveedor es mejor?"
      ],
      "metadata": {
        "id": "_2XZT_NgDcpg"
      }
    },
    {
      "cell_type": "markdown",
      "source": [
        "Aunque ninguno de los proveedores tiene un peso promedio exactamente igual a 15 g, el proveedor A es el más cercano al objetivo de 15 g, con un promedio de 13.67 g.\n",
        "\n",
        "Por lo tanto, el proveedor A sería el mejor en cuanto a acercarse al peso objetivo de 15 g."
      ],
      "metadata": {
        "id": "aXja25hrDfqE"
      }
    },
    {
      "cell_type": "markdown",
      "source": [
        "### d) Si algún factor de bloque es no significativo, elimínelo y haga el análisis adecuado."
      ],
      "metadata": {
        "id": "XKSr5IhoD4S0"
      }
    },
    {
      "cell_type": "code",
      "source": [
        "#Joseve Sebastian Lopez Martinez\n",
        "# Nivel de significancia\n",
        "nivel_de_significancia = 0.05\n",
        "\n",
        "# Configuración de variables\n",
        "\n",
        "bloque_1 = 'Escala'      # Segundo bloque (factor no principal)\n",
        "interes = 'Categoría'       # Variable de interés (tratamiento)\n",
        "respuesta = 'Valor'  # Variable de respuesta (medición) que permite la comparación\n",
        "\n",
        "# De aquí para abajo, no mover\n",
        "# Crear el modelo ANOVA para un cuadro latino\n",
        "modelo = ols(f'{respuesta} ~ C({interes}) + C({bloque_1}) + C({bloque_2})', data=df).fit()\n",
        "tabla_anova = sm.stats.anova_lm(modelo, typ=2)\n",
        "\n",
        "# Mostrar resultados\n",
        "print(\"Resultados del ANOVA para el Cuadro Latino:\")\n",
        "print(tabla_anova)\n",
        "\n",
        "# Interpretar resultados\n",
        "if tabla_anova[\"PR(>F)\"][f\"C({interes})\"] < nivel_de_significancia:\n",
        "    print(f\"\\nConclusión: Hay diferencias significativas: {interes}.\")\n",
        "else:\n",
        "    print(f\"\\nConclusión: No hay diferencias significativas: {interes}.\")\n",
        "\n",
        "if tabla_anova[\"PR(>F)\"][f\"C({bloque_1})\"] < nivel_de_significancia:\n",
        "    print(f\"Conclusión: Hay diferencias significativas: {bloque_1}.\")\n",
        "else:\n",
        "    print(f\"Conclusión: No hay diferencias significativas: {bloque_1}.\")\n",
        "\n",
        "\n"
      ],
      "metadata": {
        "colab": {
          "base_uri": "https://localhost:8080/"
        },
        "id": "AaepOfWdD6BE",
        "outputId": "b6a01bd8-2012-4dc0-c451-e997eeab471e"
      },
      "execution_count": 108,
      "outputs": [
        {
          "output_type": "stream",
          "name": "stdout",
          "text": [
            "Resultados del ANOVA para el Cuadro Latino:\n",
            "                 sum_sq   df      F    PR(>F)\n",
            "C(Categoría)  10.888889  2.0   49.0  0.001538\n",
            "C(Escala)     32.888889  2.0  148.0  0.000178\n",
            "Residual       0.444444  4.0    NaN       NaN\n",
            "\n",
            "Conclusión: Hay diferencias significativas: Categoría.\n",
            "Conclusión: Hay diferencias significativas: Escala.\n"
          ]
        }
      ]
    },
    {
      "cell_type": "markdown",
      "source": [
        "#### análisis"
      ],
      "metadata": {
        "id": "LNnJtHiXhluO"
      }
    },
    {
      "cell_type": "markdown",
      "source": [
        "<h1><b>Diferencias significativas en los proveedores (Categoría):</b></h1>\n",
        "\n",
        "El análisis muestra que sí hay diferencias entre los proveedores. Esto implica que la calidad o el peso de los materiales de los proveedores A, B y C no son iguales. Por lo tanto, se podría investigar más a fondo para identificar qué proveedor tiene un rendimiento más consistente o cercano al peso deseado (15 g).\n",
        "\n",
        "<br>\n",
        "\n",
        "<h1><b>Diferencias significativas entre las escalas:</b></h1>\n",
        "\n",
        "También se encuentra que la escala utilizada (Escala 1, Escala 2, Escala 3) afecta significativamente las mediciones. Esto sugiere que el tipo de escala tiene un impacto relevante en los resultados y debe ser considerado al tomar decisiones sobre qué escala utilizar para la medición del peso.\n",
        "\n",
        "<br>\n",
        "\n",
        "<h1><b>conclusiones</b></h1>\n",
        "\n",
        "El factor de bloque Inspector se eliminó del análisis debido a que no mostró ser significativo, lo que significa que no tenía un impacto relevante en los resultados.\n",
        "\n",
        "Este análisis permite concluir que tanto los proveedores como las escalas tienen un impacto importante en las mediciones, lo que debe ser considerado en futuras decisiones sobre cuál proveedor elegir y qué escala utilizar para la medición."
      ],
      "metadata": {
        "id": "ZBehu3C2hqtB"
      }
    },
    {
      "cell_type": "markdown",
      "source": [
        "## Problema 11\n",
        "Cuando se comparan varios fertilizantes o diferentes variedades de cierto cultivo, es típico que se deba considerar el gradiente de fertilidad del suelo (factor columna) o los efectos residuales de cultivos previos (factor renglón). Considerando estos factores de bloque, Gomez y Gomez (1984) plantean un experimento en cuadro latino para comparar, en cuanto a rendimiento en toneladas por hectárea, tres variedades de maíz híbrido (**A, B, C**) y una variedad control (**D**). Para ello, se utiliza un campo agrícola cuadrado de 16 hectáreas, dividido en parcelas de una hectárea. Los datos de rendimiento obtenidos en cada parcela se muestran a continuación:\n",
        "\n",
        "| Ren\\Col | 1       | 2       | 3       | 4       |\n",
        "|---------|---------|---------|---------|---------|\n",
        "| 1       | 1.640(B)| 1.210(D)| 1.425(C)| 1.345(A)|\n",
        "| 2       | 1.475(C)| 1.185(A)| 1.400(D)| 1.290(B)|\n",
        "| 3       | 1.670(A)| 0.710(C)| 1.665(B)| 1.180(D)|\n",
        "| 4       | 1.565(D)| 1.290(B)| 1.655(A)| 0.660(C)|\n",
        "\n",
        "**Preguntas y ejercicios:**<br>\n",
        "a) ¿Existen diferencias en los rendimientos de las diferentes variedades de maíz?  \n",
        "b) ¿Cuál de los factores de bloque tuvo efectos?  \n",
        "c) ¿Se habrían detectado las mismas diferencias en los tratamientos con un diseño completamente al azar?  \n",
        "d) ¿Y con un diseño en bloques completos al azar?  \n"
      ],
      "metadata": {
        "id": "ric24LQjNm8O"
      }
    },
    {
      "cell_type": "code",
      "source": [],
      "metadata": {
        "id": "qFAi5Gp8OYy4"
      },
      "execution_count": 108,
      "outputs": []
    },
    {
      "cell_type": "markdown",
      "source": [
        "## Problema 12\n",
        "Se quieren comparar tres dietas (**A, B, C**) a base de proteínas de origen vegetal utilizando 18 ratas de laboratorio de una misma camada. Primero se observa por un tiempo el apetito para formar tres grupos de seis ratas, según su voracidad; y cada uno de estos grupos se clasifica a su vez en tres grupos de dos ratas, de acuerdo a su peso inicial. Se plantea un experimento donde la variable de respuesta es el peso en gramos ganado por las ratas después de cierto periodo, con los siguientes resultados:\n",
        "\n",
        "| Apetito/peso inicial | A1        | A2        | A3        |\n",
        "|-----------------------|-----------|-----------|-----------|\n",
        "| P1                   | 67 (C)    | 105 (A)   | 95 (B)    |\n",
        "|                       | 72        | 112       | 86        |\n",
        "| P2                   | 85 (A)    | 75 (B)    | 88 (C)    |\n",
        "|                       | 98        | 67        | 110       |\n",
        "| P3                   | 66 (B)    | 68 (C)    | 108 (A)   |\n",
        "|                       | 47        | 91        | 120       |\n",
        "\n",
        "### Preguntas:\n",
        "a) Analice los datos. ¿Cuáles de los factores influyen en el peso ganado por las ratas?  \n",
        "b) ¿Cuál dieta es mejor?  \n",
        "c) ¿Alguno de los factores de bloque puede ser ignorado? Argumente su respuesta.  \n",
        "d) Si ese fuera el caso, analice de nuevo el experimento y saque conclusiones.  \n",
        "e) Verifique los supuestos del modelo.  \n"
      ],
      "metadata": {
        "id": "9m4bfFqOObi-"
      }
    },
    {
      "cell_type": "code",
      "source": [],
      "metadata": {
        "id": "yB60kVpLPXUQ"
      },
      "execution_count": 108,
      "outputs": []
    },
    {
      "cell_type": "markdown",
      "source": [
        "## Problema 13\n",
        "Una compañía distribuidora ubicada en los suburbios está interesada en estudiar la diferencia en costos (tiempo y gasolina) entre las cuatro rutas (**A, B, C, D**) que llevan a la zona comercial, más importante para ellos, en el otro extremo de la ciudad. Deciden correr un experimento en cuadro grecolatino controlando los factores de bloque **chofer**, marca de vehículo (**α, β, χ, δ**) y día de la semana. El experimento se repite en dos semanas diferentes, en las cuales no hay días festivos ni quincenas. Los costos observados en pesos se muestran en la siguiente tabla:\n",
        "\n",
        "| Chofer/día | Lunes       | Martes      | Miércoles   | Jueves      |\n",
        "|------------|-------------|-------------|-------------|-------------|\n",
        "| Carlos     | 825(D, α)   | 585(C, χ)   | 550(B, β)   | 580(A, δ)   |\n",
        "|            | 750         | 610         | 580         | 650         |\n",
        "| Enrique    | 650(A, χ)   | 540(B, α)   | 580(C, χ)   | 850(D, β)   |\n",
        "|            | 725         | 560         | 635         | 770         |\n",
        "| Genaro     | 700(C, β)   | 650(D, δ)   | 635(A, α)   | 450(B, χ)   |\n",
        "|            | 675         | 740         | 540         | 550         |\n",
        "| Luis       | 475(B, δ)   | 560(A, β)   | 650(D, α)   | 670(C, α)   |\n",
        "|            | 480         | 615         | 725         | 730         |\n",
        "\n",
        "### Preguntas:\n",
        "a) Haga el análisis de varianza de este experimento.  \n",
        "b) Realice las pruebas de comparaciones múltiples para los factores significativos.  \n",
        "c) Represente los tratamientos y factores de bloque usando gráficas de medias y diagramas de dispersión.  \n",
        "d) ¿Cuál es la mejor ruta? ¿Cuál es la peor?  \n",
        "e) ¿Hay diferencias significativas entre los choferes? ¿Y entre el tipo o marca de unidad?  \n",
        "f) ¿Cuáles factores de bloque valió la pena tomar en cuenta en el experimento?  \n",
        "g) ¿Por qué se evitaron días festivos y quincenas en el experimento? ¿Cuáles otros aspectos se tenían que tomar en cuenta?  \n",
        "h) Verifique los supuestos del modelo.  \n"
      ],
      "metadata": {
        "id": "f_k1qo_IPXjb"
      }
    },
    {
      "cell_type": "code",
      "source": [],
      "metadata": {
        "id": "YPAFKy7DPh8J"
      },
      "execution_count": 108,
      "outputs": []
    },
    {
      "cell_type": "markdown",
      "source": [
        "## Problema 14\n",
        "23. Un investigador está interesado en el efecto del porcentaje de lisina y del porcentaje de proteína en la producción de vacas lecheras. Se consideran siete niveles en cada factor:\n",
        "\n",
        "- **% de lisina**: 0.0 (**A**), 0.1 (**B**), 0.2 (**C**), 0.3 (**D**), 0.4 (**E**), 0.5 (**F**), 0.6 (**G**).  \n",
        "- **% de proteína**: 2 (**α**), 4 (**β**), 6 (**χ**), 8 (**δ**), 10 (**ε**), 12 (**φ**), 14 (**γ**).  \n",
        "\n",
        "Para el estudio, se seleccionaron siete vacas al azar, a las cuales se les da un seguimiento de siete periodos de tres meses. Los datos en galones de leche fueron los siguientes:\n",
        "\n",
        "| Vaca/periodo | 1       | 2       | 3       | 4       | 5       | 6       | 7       |\n",
        "|--------------|---------|---------|---------|---------|---------|---------|---------|\n",
        "| 1            | 304 (Aα)| 436 (Bε)| 350 (Cβ)| 504 (Dφ)| 417 (Eχ)| 519 (Fγ)| 432 (Gδ)|\n",
        "| 2            | 381 (Bβ)| 505 (Cφ)| 425 (Dχ)| 564 (Eγ)| 487 (Fα)| 536 (Gε)| 483 (Aχ)|\n",
        "| 3            | 432 (Cχ)| 566 (Dγ)| 479 (Eε)| 357 (Fα)| 466 (Gβ)| 465 (Aφ)| 507 (Bγ)|\n",
        "| 4            | 442 (Dδ)| 372 (Eχ)| 536 (Fε)| 366 (Gβ)| 495 (Aχ)| 425 (Bφ)| 507 (Cγ)|\n",
        "| 5            | 496 (Eε)| 449 (Fβ)| 493 (Gφ)| 345 (Aχ)| 509 (Bγ)| 481 (Cδ)| 380 (Dα)|\n",
        "| 6            | 534 (Fφ)| 421 (Gχ)| 352 (Aγ)| 427 (Bδ)| 346 (Cχ)| 478 (Dε)| 397 (Eβ)|\n",
        "| 7            | 543 (Gγ)| 386 (Aδ)| 435 (Bα)| 485 (Cε)| 406 (Dφ)| 554 (Eφ)| 410 (Fχ)|\n",
        "\n",
        "### Preguntas y ejercicios:\n",
        "a) Analice este experimento. ¿Qué factores tienen efecto en la producción de leche?  \n",
        "b) Interprete los resultados usando gráficos de medias.  \n",
        "c) ¿Cómo puede explicar la falta de efectos en vacas y periodo?  \n",
        "d) ¿Qué porcentajes de lisina y proteína dan los mejores resultados?  \n",
        "e) Verifique los supuestos del modelo.  \n"
      ],
      "metadata": {
        "id": "MyN6yyI9PXst"
      }
    },
    {
      "cell_type": "code",
      "source": [],
      "metadata": {
        "id": "R5af8UuZP-DV"
      },
      "execution_count": 108,
      "outputs": []
    }
  ]
}