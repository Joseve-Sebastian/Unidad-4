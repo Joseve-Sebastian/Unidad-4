{
  "nbformat": 4,
  "nbformat_minor": 0,
  "metadata": {
    "colab": {
      "provenance": []
    },
    "kernelspec": {
      "name": "python3",
      "display_name": "Python 3"
    },
    "language_info": {
      "name": "python"
    }
  },
  "cells": [
    {
      "cell_type": "markdown",
      "source": [
        "https://colab.research.google.com/drive/1tJRvXcGhvtfb-lJpu6aVCnzBKxQ3CEhs?usp=sharing"
      ],
      "metadata": {
        "id": "crCENUBsGtsC"
      }
    },
    {
      "cell_type": "code",
      "execution_count": 19,
      "metadata": {
        "id": "PDHFi_9i3Q_v"
      },
      "outputs": [],
      "source": [
        "import warnings\n",
        "# Suprimir todos los warnings\n",
        "warnings.filterwarnings('ignore')"
      ]
    },
    {
      "cell_type": "code",
      "source": [
        "# Manipular datos\n",
        "import pandas as pd\n",
        "\n",
        "\n",
        "df = pd.read_csv('https://raw.githubusercontent.com/Joseve-Sebastian/Unidad-4/refs/heads/main/Student_Performance_new.csv')  # en github se sube el .csv y luego le picas y donde dice \"Raw\" le das click y copias el link de ese\n",
        "\n",
        "df.drop(columns=['Unnamed: 0'], inplace=True)\n",
        "\n",
        "df.columns"
      ],
      "metadata": {
        "colab": {
          "base_uri": "https://localhost:8080/"
        },
        "id": "sdAwO1lI3jOu",
        "outputId": "349074c9-1504-4816-f81e-1d43ff4a4695"
      },
      "execution_count": 20,
      "outputs": [
        {
          "output_type": "execute_result",
          "data": {
            "text/plain": [
              "Index(['etnia', 'nivel_educativo_de_los_padres', 'tipo_de_comida',\n",
              "       'curso_de_preparación_para_el_examen', 'porcentaje_de_matematicas',\n",
              "       'porcentaje_de_lectura', 'porcentaje_de_escritura', 'sexo'],\n",
              "      dtype='object')"
            ]
          },
          "metadata": {},
          "execution_count": 20
        }
      ]
    },
    {
      "cell_type": "code",
      "source": [
        "df['promedio'] = (df['porcentaje_de_matematicas'] + df['porcentaje_de_lectura'] + df['porcentaje_de_escritura']) / 3\n",
        "\n",
        "df"
      ],
      "metadata": {
        "colab": {
          "base_uri": "https://localhost:8080/",
          "height": 423
        },
        "id": "3twD5D9N36BG",
        "outputId": "01ebd3d3-bc3f-480f-e310-3c30f499339b"
      },
      "execution_count": 21,
      "outputs": [
        {
          "output_type": "execute_result",
          "data": {
            "text/plain": [
              "       etnia nivel_educativo_de_los_padres tipo_de_comida  \\\n",
              "0    group_B                  licenciatura       estandar   \n",
              "1    group_C           algo_de_universidad       estandar   \n",
              "2    group_B                      maestria       estandar   \n",
              "3    group_A              tecnico_asociado     subsidiado   \n",
              "4    group_C           algo_de_universidad       estandar   \n",
              "..       ...                           ...            ...   \n",
              "995  group_E                      maestria       estandar   \n",
              "996  group_C                  preparatoria     subsidiado   \n",
              "997  group_C                  preparatoria     subsidiado   \n",
              "998  group_D           algo_de_universidad       estandar   \n",
              "999  group_D           algo_de_universidad     subsidiado   \n",
              "\n",
              "    curso_de_preparación_para_el_examen  porcentaje_de_matematicas  \\\n",
              "0                                  nada                       0.72   \n",
              "1                            completado                       0.69   \n",
              "2                                  nada                       0.90   \n",
              "3                                  nada                       0.47   \n",
              "4                                  nada                       0.76   \n",
              "..                                  ...                        ...   \n",
              "995                          completado                       0.88   \n",
              "996                                nada                       0.62   \n",
              "997                          completado                       0.59   \n",
              "998                          completado                       0.68   \n",
              "999                                nada                       0.77   \n",
              "\n",
              "     porcentaje_de_lectura  porcentaje_de_escritura    sexo  promedio  \n",
              "0                     0.72                     0.74   mujer  0.726667  \n",
              "1                     0.90                     0.88   mujer  0.823333  \n",
              "2                     0.95                     0.93   mujer  0.926667  \n",
              "3                     0.57                     0.44  hombre  0.493333  \n",
              "4                     0.78                     0.75  hombre  0.763333  \n",
              "..                     ...                      ...     ...       ...  \n",
              "995                   0.99                     0.95   mujer  0.940000  \n",
              "996                   0.55                     0.55  hombre  0.573333  \n",
              "997                   0.71                     0.65   mujer  0.650000  \n",
              "998                   0.78                     0.77   mujer  0.743333  \n",
              "999                   0.86                     0.86   mujer  0.830000  \n",
              "\n",
              "[1000 rows x 9 columns]"
            ],
            "text/html": [
              "\n",
              "  <div id=\"df-290522aa-86d6-4810-a02f-58a3f026c5d8\" class=\"colab-df-container\">\n",
              "    <div>\n",
              "<style scoped>\n",
              "    .dataframe tbody tr th:only-of-type {\n",
              "        vertical-align: middle;\n",
              "    }\n",
              "\n",
              "    .dataframe tbody tr th {\n",
              "        vertical-align: top;\n",
              "    }\n",
              "\n",
              "    .dataframe thead th {\n",
              "        text-align: right;\n",
              "    }\n",
              "</style>\n",
              "<table border=\"1\" class=\"dataframe\">\n",
              "  <thead>\n",
              "    <tr style=\"text-align: right;\">\n",
              "      <th></th>\n",
              "      <th>etnia</th>\n",
              "      <th>nivel_educativo_de_los_padres</th>\n",
              "      <th>tipo_de_comida</th>\n",
              "      <th>curso_de_preparación_para_el_examen</th>\n",
              "      <th>porcentaje_de_matematicas</th>\n",
              "      <th>porcentaje_de_lectura</th>\n",
              "      <th>porcentaje_de_escritura</th>\n",
              "      <th>sexo</th>\n",
              "      <th>promedio</th>\n",
              "    </tr>\n",
              "  </thead>\n",
              "  <tbody>\n",
              "    <tr>\n",
              "      <th>0</th>\n",
              "      <td>group_B</td>\n",
              "      <td>licenciatura</td>\n",
              "      <td>estandar</td>\n",
              "      <td>nada</td>\n",
              "      <td>0.72</td>\n",
              "      <td>0.72</td>\n",
              "      <td>0.74</td>\n",
              "      <td>mujer</td>\n",
              "      <td>0.726667</td>\n",
              "    </tr>\n",
              "    <tr>\n",
              "      <th>1</th>\n",
              "      <td>group_C</td>\n",
              "      <td>algo_de_universidad</td>\n",
              "      <td>estandar</td>\n",
              "      <td>completado</td>\n",
              "      <td>0.69</td>\n",
              "      <td>0.90</td>\n",
              "      <td>0.88</td>\n",
              "      <td>mujer</td>\n",
              "      <td>0.823333</td>\n",
              "    </tr>\n",
              "    <tr>\n",
              "      <th>2</th>\n",
              "      <td>group_B</td>\n",
              "      <td>maestria</td>\n",
              "      <td>estandar</td>\n",
              "      <td>nada</td>\n",
              "      <td>0.90</td>\n",
              "      <td>0.95</td>\n",
              "      <td>0.93</td>\n",
              "      <td>mujer</td>\n",
              "      <td>0.926667</td>\n",
              "    </tr>\n",
              "    <tr>\n",
              "      <th>3</th>\n",
              "      <td>group_A</td>\n",
              "      <td>tecnico_asociado</td>\n",
              "      <td>subsidiado</td>\n",
              "      <td>nada</td>\n",
              "      <td>0.47</td>\n",
              "      <td>0.57</td>\n",
              "      <td>0.44</td>\n",
              "      <td>hombre</td>\n",
              "      <td>0.493333</td>\n",
              "    </tr>\n",
              "    <tr>\n",
              "      <th>4</th>\n",
              "      <td>group_C</td>\n",
              "      <td>algo_de_universidad</td>\n",
              "      <td>estandar</td>\n",
              "      <td>nada</td>\n",
              "      <td>0.76</td>\n",
              "      <td>0.78</td>\n",
              "      <td>0.75</td>\n",
              "      <td>hombre</td>\n",
              "      <td>0.763333</td>\n",
              "    </tr>\n",
              "    <tr>\n",
              "      <th>...</th>\n",
              "      <td>...</td>\n",
              "      <td>...</td>\n",
              "      <td>...</td>\n",
              "      <td>...</td>\n",
              "      <td>...</td>\n",
              "      <td>...</td>\n",
              "      <td>...</td>\n",
              "      <td>...</td>\n",
              "      <td>...</td>\n",
              "    </tr>\n",
              "    <tr>\n",
              "      <th>995</th>\n",
              "      <td>group_E</td>\n",
              "      <td>maestria</td>\n",
              "      <td>estandar</td>\n",
              "      <td>completado</td>\n",
              "      <td>0.88</td>\n",
              "      <td>0.99</td>\n",
              "      <td>0.95</td>\n",
              "      <td>mujer</td>\n",
              "      <td>0.940000</td>\n",
              "    </tr>\n",
              "    <tr>\n",
              "      <th>996</th>\n",
              "      <td>group_C</td>\n",
              "      <td>preparatoria</td>\n",
              "      <td>subsidiado</td>\n",
              "      <td>nada</td>\n",
              "      <td>0.62</td>\n",
              "      <td>0.55</td>\n",
              "      <td>0.55</td>\n",
              "      <td>hombre</td>\n",
              "      <td>0.573333</td>\n",
              "    </tr>\n",
              "    <tr>\n",
              "      <th>997</th>\n",
              "      <td>group_C</td>\n",
              "      <td>preparatoria</td>\n",
              "      <td>subsidiado</td>\n",
              "      <td>completado</td>\n",
              "      <td>0.59</td>\n",
              "      <td>0.71</td>\n",
              "      <td>0.65</td>\n",
              "      <td>mujer</td>\n",
              "      <td>0.650000</td>\n",
              "    </tr>\n",
              "    <tr>\n",
              "      <th>998</th>\n",
              "      <td>group_D</td>\n",
              "      <td>algo_de_universidad</td>\n",
              "      <td>estandar</td>\n",
              "      <td>completado</td>\n",
              "      <td>0.68</td>\n",
              "      <td>0.78</td>\n",
              "      <td>0.77</td>\n",
              "      <td>mujer</td>\n",
              "      <td>0.743333</td>\n",
              "    </tr>\n",
              "    <tr>\n",
              "      <th>999</th>\n",
              "      <td>group_D</td>\n",
              "      <td>algo_de_universidad</td>\n",
              "      <td>subsidiado</td>\n",
              "      <td>nada</td>\n",
              "      <td>0.77</td>\n",
              "      <td>0.86</td>\n",
              "      <td>0.86</td>\n",
              "      <td>mujer</td>\n",
              "      <td>0.830000</td>\n",
              "    </tr>\n",
              "  </tbody>\n",
              "</table>\n",
              "<p>1000 rows × 9 columns</p>\n",
              "</div>\n",
              "    <div class=\"colab-df-buttons\">\n",
              "\n",
              "  <div class=\"colab-df-container\">\n",
              "    <button class=\"colab-df-convert\" onclick=\"convertToInteractive('df-290522aa-86d6-4810-a02f-58a3f026c5d8')\"\n",
              "            title=\"Convert this dataframe to an interactive table.\"\n",
              "            style=\"display:none;\">\n",
              "\n",
              "  <svg xmlns=\"http://www.w3.org/2000/svg\" height=\"24px\" viewBox=\"0 -960 960 960\">\n",
              "    <path d=\"M120-120v-720h720v720H120Zm60-500h600v-160H180v160Zm220 220h160v-160H400v160Zm0 220h160v-160H400v160ZM180-400h160v-160H180v160Zm440 0h160v-160H620v160ZM180-180h160v-160H180v160Zm440 0h160v-160H620v160Z\"/>\n",
              "  </svg>\n",
              "    </button>\n",
              "\n",
              "  <style>\n",
              "    .colab-df-container {\n",
              "      display:flex;\n",
              "      gap: 12px;\n",
              "    }\n",
              "\n",
              "    .colab-df-convert {\n",
              "      background-color: #E8F0FE;\n",
              "      border: none;\n",
              "      border-radius: 50%;\n",
              "      cursor: pointer;\n",
              "      display: none;\n",
              "      fill: #1967D2;\n",
              "      height: 32px;\n",
              "      padding: 0 0 0 0;\n",
              "      width: 32px;\n",
              "    }\n",
              "\n",
              "    .colab-df-convert:hover {\n",
              "      background-color: #E2EBFA;\n",
              "      box-shadow: 0px 1px 2px rgba(60, 64, 67, 0.3), 0px 1px 3px 1px rgba(60, 64, 67, 0.15);\n",
              "      fill: #174EA6;\n",
              "    }\n",
              "\n",
              "    .colab-df-buttons div {\n",
              "      margin-bottom: 4px;\n",
              "    }\n",
              "\n",
              "    [theme=dark] .colab-df-convert {\n",
              "      background-color: #3B4455;\n",
              "      fill: #D2E3FC;\n",
              "    }\n",
              "\n",
              "    [theme=dark] .colab-df-convert:hover {\n",
              "      background-color: #434B5C;\n",
              "      box-shadow: 0px 1px 3px 1px rgba(0, 0, 0, 0.15);\n",
              "      filter: drop-shadow(0px 1px 2px rgba(0, 0, 0, 0.3));\n",
              "      fill: #FFFFFF;\n",
              "    }\n",
              "  </style>\n",
              "\n",
              "    <script>\n",
              "      const buttonEl =\n",
              "        document.querySelector('#df-290522aa-86d6-4810-a02f-58a3f026c5d8 button.colab-df-convert');\n",
              "      buttonEl.style.display =\n",
              "        google.colab.kernel.accessAllowed ? 'block' : 'none';\n",
              "\n",
              "      async function convertToInteractive(key) {\n",
              "        const element = document.querySelector('#df-290522aa-86d6-4810-a02f-58a3f026c5d8');\n",
              "        const dataTable =\n",
              "          await google.colab.kernel.invokeFunction('convertToInteractive',\n",
              "                                                    [key], {});\n",
              "        if (!dataTable) return;\n",
              "\n",
              "        const docLinkHtml = 'Like what you see? Visit the ' +\n",
              "          '<a target=\"_blank\" href=https://colab.research.google.com/notebooks/data_table.ipynb>data table notebook</a>'\n",
              "          + ' to learn more about interactive tables.';\n",
              "        element.innerHTML = '';\n",
              "        dataTable['output_type'] = 'display_data';\n",
              "        await google.colab.output.renderOutput(dataTable, element);\n",
              "        const docLink = document.createElement('div');\n",
              "        docLink.innerHTML = docLinkHtml;\n",
              "        element.appendChild(docLink);\n",
              "      }\n",
              "    </script>\n",
              "  </div>\n",
              "\n",
              "\n",
              "<div id=\"df-7397610b-d223-4c40-9eab-bd99d758305d\">\n",
              "  <button class=\"colab-df-quickchart\" onclick=\"quickchart('df-7397610b-d223-4c40-9eab-bd99d758305d')\"\n",
              "            title=\"Suggest charts\"\n",
              "            style=\"display:none;\">\n",
              "\n",
              "<svg xmlns=\"http://www.w3.org/2000/svg\" height=\"24px\"viewBox=\"0 0 24 24\"\n",
              "     width=\"24px\">\n",
              "    <g>\n",
              "        <path d=\"M19 3H5c-1.1 0-2 .9-2 2v14c0 1.1.9 2 2 2h14c1.1 0 2-.9 2-2V5c0-1.1-.9-2-2-2zM9 17H7v-7h2v7zm4 0h-2V7h2v10zm4 0h-2v-4h2v4z\"/>\n",
              "    </g>\n",
              "</svg>\n",
              "  </button>\n",
              "\n",
              "<style>\n",
              "  .colab-df-quickchart {\n",
              "      --bg-color: #E8F0FE;\n",
              "      --fill-color: #1967D2;\n",
              "      --hover-bg-color: #E2EBFA;\n",
              "      --hover-fill-color: #174EA6;\n",
              "      --disabled-fill-color: #AAA;\n",
              "      --disabled-bg-color: #DDD;\n",
              "  }\n",
              "\n",
              "  [theme=dark] .colab-df-quickchart {\n",
              "      --bg-color: #3B4455;\n",
              "      --fill-color: #D2E3FC;\n",
              "      --hover-bg-color: #434B5C;\n",
              "      --hover-fill-color: #FFFFFF;\n",
              "      --disabled-bg-color: #3B4455;\n",
              "      --disabled-fill-color: #666;\n",
              "  }\n",
              "\n",
              "  .colab-df-quickchart {\n",
              "    background-color: var(--bg-color);\n",
              "    border: none;\n",
              "    border-radius: 50%;\n",
              "    cursor: pointer;\n",
              "    display: none;\n",
              "    fill: var(--fill-color);\n",
              "    height: 32px;\n",
              "    padding: 0;\n",
              "    width: 32px;\n",
              "  }\n",
              "\n",
              "  .colab-df-quickchart:hover {\n",
              "    background-color: var(--hover-bg-color);\n",
              "    box-shadow: 0 1px 2px rgba(60, 64, 67, 0.3), 0 1px 3px 1px rgba(60, 64, 67, 0.15);\n",
              "    fill: var(--button-hover-fill-color);\n",
              "  }\n",
              "\n",
              "  .colab-df-quickchart-complete:disabled,\n",
              "  .colab-df-quickchart-complete:disabled:hover {\n",
              "    background-color: var(--disabled-bg-color);\n",
              "    fill: var(--disabled-fill-color);\n",
              "    box-shadow: none;\n",
              "  }\n",
              "\n",
              "  .colab-df-spinner {\n",
              "    border: 2px solid var(--fill-color);\n",
              "    border-color: transparent;\n",
              "    border-bottom-color: var(--fill-color);\n",
              "    animation:\n",
              "      spin 1s steps(1) infinite;\n",
              "  }\n",
              "\n",
              "  @keyframes spin {\n",
              "    0% {\n",
              "      border-color: transparent;\n",
              "      border-bottom-color: var(--fill-color);\n",
              "      border-left-color: var(--fill-color);\n",
              "    }\n",
              "    20% {\n",
              "      border-color: transparent;\n",
              "      border-left-color: var(--fill-color);\n",
              "      border-top-color: var(--fill-color);\n",
              "    }\n",
              "    30% {\n",
              "      border-color: transparent;\n",
              "      border-left-color: var(--fill-color);\n",
              "      border-top-color: var(--fill-color);\n",
              "      border-right-color: var(--fill-color);\n",
              "    }\n",
              "    40% {\n",
              "      border-color: transparent;\n",
              "      border-right-color: var(--fill-color);\n",
              "      border-top-color: var(--fill-color);\n",
              "    }\n",
              "    60% {\n",
              "      border-color: transparent;\n",
              "      border-right-color: var(--fill-color);\n",
              "    }\n",
              "    80% {\n",
              "      border-color: transparent;\n",
              "      border-right-color: var(--fill-color);\n",
              "      border-bottom-color: var(--fill-color);\n",
              "    }\n",
              "    90% {\n",
              "      border-color: transparent;\n",
              "      border-bottom-color: var(--fill-color);\n",
              "    }\n",
              "  }\n",
              "</style>\n",
              "\n",
              "  <script>\n",
              "    async function quickchart(key) {\n",
              "      const quickchartButtonEl =\n",
              "        document.querySelector('#' + key + ' button');\n",
              "      quickchartButtonEl.disabled = true;  // To prevent multiple clicks.\n",
              "      quickchartButtonEl.classList.add('colab-df-spinner');\n",
              "      try {\n",
              "        const charts = await google.colab.kernel.invokeFunction(\n",
              "            'suggestCharts', [key], {});\n",
              "      } catch (error) {\n",
              "        console.error('Error during call to suggestCharts:', error);\n",
              "      }\n",
              "      quickchartButtonEl.classList.remove('colab-df-spinner');\n",
              "      quickchartButtonEl.classList.add('colab-df-quickchart-complete');\n",
              "    }\n",
              "    (() => {\n",
              "      let quickchartButtonEl =\n",
              "        document.querySelector('#df-7397610b-d223-4c40-9eab-bd99d758305d button');\n",
              "      quickchartButtonEl.style.display =\n",
              "        google.colab.kernel.accessAllowed ? 'block' : 'none';\n",
              "    })();\n",
              "  </script>\n",
              "</div>\n",
              "\n",
              "  <div id=\"id_333ffef6-b9f6-4fd4-ac60-16aa6c42c933\">\n",
              "    <style>\n",
              "      .colab-df-generate {\n",
              "        background-color: #E8F0FE;\n",
              "        border: none;\n",
              "        border-radius: 50%;\n",
              "        cursor: pointer;\n",
              "        display: none;\n",
              "        fill: #1967D2;\n",
              "        height: 32px;\n",
              "        padding: 0 0 0 0;\n",
              "        width: 32px;\n",
              "      }\n",
              "\n",
              "      .colab-df-generate:hover {\n",
              "        background-color: #E2EBFA;\n",
              "        box-shadow: 0px 1px 2px rgba(60, 64, 67, 0.3), 0px 1px 3px 1px rgba(60, 64, 67, 0.15);\n",
              "        fill: #174EA6;\n",
              "      }\n",
              "\n",
              "      [theme=dark] .colab-df-generate {\n",
              "        background-color: #3B4455;\n",
              "        fill: #D2E3FC;\n",
              "      }\n",
              "\n",
              "      [theme=dark] .colab-df-generate:hover {\n",
              "        background-color: #434B5C;\n",
              "        box-shadow: 0px 1px 3px 1px rgba(0, 0, 0, 0.15);\n",
              "        filter: drop-shadow(0px 1px 2px rgba(0, 0, 0, 0.3));\n",
              "        fill: #FFFFFF;\n",
              "      }\n",
              "    </style>\n",
              "    <button class=\"colab-df-generate\" onclick=\"generateWithVariable('df')\"\n",
              "            title=\"Generate code using this dataframe.\"\n",
              "            style=\"display:none;\">\n",
              "\n",
              "  <svg xmlns=\"http://www.w3.org/2000/svg\" height=\"24px\"viewBox=\"0 0 24 24\"\n",
              "       width=\"24px\">\n",
              "    <path d=\"M7,19H8.4L18.45,9,17,7.55,7,17.6ZM5,21V16.75L18.45,3.32a2,2,0,0,1,2.83,0l1.4,1.43a1.91,1.91,0,0,1,.58,1.4,1.91,1.91,0,0,1-.58,1.4L9.25,21ZM18.45,9,17,7.55Zm-12,3A5.31,5.31,0,0,0,4.9,8.1,5.31,5.31,0,0,0,1,6.5,5.31,5.31,0,0,0,4.9,4.9,5.31,5.31,0,0,0,6.5,1,5.31,5.31,0,0,0,8.1,4.9,5.31,5.31,0,0,0,12,6.5,5.46,5.46,0,0,0,6.5,12Z\"/>\n",
              "  </svg>\n",
              "    </button>\n",
              "    <script>\n",
              "      (() => {\n",
              "      const buttonEl =\n",
              "        document.querySelector('#id_333ffef6-b9f6-4fd4-ac60-16aa6c42c933 button.colab-df-generate');\n",
              "      buttonEl.style.display =\n",
              "        google.colab.kernel.accessAllowed ? 'block' : 'none';\n",
              "\n",
              "      buttonEl.onclick = () => {\n",
              "        google.colab.notebook.generateWithVariable('df');\n",
              "      }\n",
              "      })();\n",
              "    </script>\n",
              "  </div>\n",
              "\n",
              "    </div>\n",
              "  </div>\n"
            ],
            "application/vnd.google.colaboratory.intrinsic+json": {
              "type": "dataframe",
              "variable_name": "df",
              "summary": "{\n  \"name\": \"df\",\n  \"rows\": 1000,\n  \"fields\": [\n    {\n      \"column\": \"etnia\",\n      \"properties\": {\n        \"dtype\": \"category\",\n        \"num_unique_values\": 5,\n        \"samples\": [\n          \"group_C\",\n          \"group_E\",\n          \"group_A\"\n        ],\n        \"semantic_type\": \"\",\n        \"description\": \"\"\n      }\n    },\n    {\n      \"column\": \"nivel_educativo_de_los_padres\",\n      \"properties\": {\n        \"dtype\": \"category\",\n        \"num_unique_values\": 6,\n        \"samples\": [\n          \"licenciatura\",\n          \"algo_de_universidad\",\n          \"algo_de_preparatoria\"\n        ],\n        \"semantic_type\": \"\",\n        \"description\": \"\"\n      }\n    },\n    {\n      \"column\": \"tipo_de_comida\",\n      \"properties\": {\n        \"dtype\": \"category\",\n        \"num_unique_values\": 2,\n        \"samples\": [\n          \"subsidiado\",\n          \"estandar\"\n        ],\n        \"semantic_type\": \"\",\n        \"description\": \"\"\n      }\n    },\n    {\n      \"column\": \"curso_de_preparaci\\u00f3n_para_el_examen\",\n      \"properties\": {\n        \"dtype\": \"category\",\n        \"num_unique_values\": 2,\n        \"samples\": [\n          \"completado\",\n          \"nada\"\n        ],\n        \"semantic_type\": \"\",\n        \"description\": \"\"\n      }\n    },\n    {\n      \"column\": \"porcentaje_de_matematicas\",\n      \"properties\": {\n        \"dtype\": \"number\",\n        \"std\": 0.15163080096009438,\n        \"min\": 0.0,\n        \"max\": 1.0,\n        \"num_unique_values\": 81,\n        \"samples\": [\n          0.55,\n          0.72\n        ],\n        \"semantic_type\": \"\",\n        \"description\": \"\"\n      }\n    },\n    {\n      \"column\": \"porcentaje_de_lectura\",\n      \"properties\": {\n        \"dtype\": \"number\",\n        \"std\": 0.14600191937252227,\n        \"min\": 0.17,\n        \"max\": 1.0,\n        \"num_unique_values\": 72,\n        \"samples\": [\n          0.78,\n          0.23\n        ],\n        \"semantic_type\": \"\",\n        \"description\": \"\"\n      }\n    },\n    {\n      \"column\": \"porcentaje_de_escritura\",\n      \"properties\": {\n        \"dtype\": \"number\",\n        \"std\": 0.15195657010869656,\n        \"min\": 0.1,\n        \"max\": 1.0,\n        \"num_unique_values\": 77,\n        \"samples\": [\n          0.75,\n          0.76\n        ],\n        \"semantic_type\": \"\",\n        \"description\": \"\"\n      }\n    },\n    {\n      \"column\": \"sexo\",\n      \"properties\": {\n        \"dtype\": \"category\",\n        \"num_unique_values\": 2,\n        \"samples\": [\n          \"hombre\",\n          \"mujer\"\n        ],\n        \"semantic_type\": \"\",\n        \"description\": \"\"\n      }\n    },\n    {\n      \"column\": \"promedio\",\n      \"properties\": {\n        \"dtype\": \"number\",\n        \"std\": 0.14257325984669128,\n        \"min\": 0.09000000000000001,\n        \"max\": 1.0,\n        \"num_unique_values\": 256,\n        \"samples\": [\n          0.48,\n          0.9166666666666666\n        ],\n        \"semantic_type\": \"\",\n        \"description\": \"\"\n      }\n    }\n  ]\n}"
            }
          },
          "metadata": {},
          "execution_count": 21
        }
      ]
    },
    {
      "cell_type": "markdown",
      "source": [
        "# nivel_educativo_de_los_padres"
      ],
      "metadata": {
        "id": "6sd7i4XHIcfP"
      }
    },
    {
      "cell_type": "code",
      "source": [
        "df['nivel_educativo_de_los_padres'].unique()"
      ],
      "metadata": {
        "colab": {
          "base_uri": "https://localhost:8080/"
        },
        "id": "0fbjPOCdBDhf",
        "outputId": "5bf22660-4615-4eb0-9e02-c5d409534da3"
      },
      "execution_count": 22,
      "outputs": [
        {
          "output_type": "execute_result",
          "data": {
            "text/plain": [
              "array(['licenciatura', 'algo_de_universidad', 'maestria',\n",
              "       'tecnico_asociado', 'preparatoria', 'algo_de_preparatoria'],\n",
              "      dtype=object)"
            ]
          },
          "metadata": {},
          "execution_count": 22
        }
      ]
    },
    {
      "cell_type": "code",
      "source": [
        "# Si todos los grupos tienen una distribución normal\n",
        "import scipy.stats as stats\n",
        "\n",
        "nivel_de_significancia = 0.05\n",
        "\n",
        "# Realizar ANOVA\n",
        "anova_result = stats.f_oneway(\n",
        "    df[df['nivel_educativo_de_los_padres'] == 'licenciatura']['promedio'],\n",
        "    df[df['nivel_educativo_de_los_padres'] == 'algo_de_universidad']['promedio'],\n",
        "    df[df['nivel_educativo_de_los_padres'] == 'maestria']['promedio'],\n",
        "    df[df['nivel_educativo_de_los_padres'] == 'tecnico_asociado']['promedio'],\n",
        "    df[df['nivel_educativo_de_los_padres'] == 'preparatoria']['promedio'],\n",
        "    df[df['nivel_educativo_de_los_padres'] == 'algo_de_preparatoria']['promedio'],\n",
        ")\n",
        "\n",
        "# Interpretar los resultados\n",
        "print(\"Resultados del ANOVA:\")\n",
        "print(f\"F-Estadístico: {anova_result.statistic:.2f}\")\n",
        "print(f\"Valor p: {anova_result.pvalue:.5f}\\n\")\n",
        "\n",
        "if anova_result.pvalue < nivel_de_significancia:\n",
        "    print(\"Conclusión: Hay diferencias significativas entre al menos dos tratamientos.\")\n",
        "else:\n",
        "    print(\"Conclusión: No hay diferencias significativas entre los tratamientos.\")"
      ],
      "metadata": {
        "colab": {
          "base_uri": "https://localhost:8080/"
        },
        "id": "RLRfPOA3BMTh",
        "outputId": "804765f5-5e7c-4a4f-f90b-78627cdb5645"
      },
      "execution_count": 23,
      "outputs": [
        {
          "output_type": "stream",
          "name": "stdout",
          "text": [
            "Resultados del ANOVA:\n",
            "F-Estadístico: 10.75\n",
            "Valor p: 0.00000\n",
            "\n",
            "Conclusión: Hay diferencias significativas entre al menos dos tratamientos.\n"
          ]
        }
      ]
    },
    {
      "cell_type": "code",
      "source": [
        "from statsmodels.stats.multicomp import pairwise_tukeyhsd\n",
        "import matplotlib.pyplot as plt\n",
        "\n",
        "nivel_de_significancia = 0.05\n",
        "\n",
        "# Prueba de Tukey\n",
        "tukey = pairwise_tukeyhsd(endog=df['promedio'], groups=df['nivel_educativo_de_los_padres'], alpha=nivel_de_significancia)\n",
        "\n",
        "# Mostrar los resultados\n",
        "print(tukey)\n",
        "\n",
        "# Gráfico de las diferencias entre grupos\n",
        "tukey.plot_simultaneous(ylabel=\"Grupos\", xlabel=\"Medias\")\n",
        "\n",
        "plt.gca().spines['right'].set_visible(False) # derecha\n",
        "plt.gca().spines['top'].set_visible(False)   # superior\n",
        "plt.title(\"Múltiples comparaciones entre todos los pares (Tukey)\")\n"
      ],
      "metadata": {
        "colab": {
          "base_uri": "https://localhost:8080/",
          "height": 946
        },
        "id": "idUzQesiFwuE",
        "outputId": "48b6888d-9678-44c8-c754-b3b498f9d2bc"
      },
      "execution_count": 24,
      "outputs": [
        {
          "output_type": "stream",
          "name": "stdout",
          "text": [
            "             Multiple Comparison of Means - Tukey HSD, FWER=0.05              \n",
            "==============================================================================\n",
            "       group1               group2       meandiff p-adj   lower  upper  reject\n",
            "------------------------------------------------------------------------------\n",
            "algo_de_preparatoria algo_de_universidad   0.0337 0.1509 -0.0061 0.0735  False\n",
            "algo_de_preparatoria        licenciatura   0.0682 0.0006   0.021 0.1153   True\n",
            "algo_de_preparatoria            maestria   0.0849 0.0007  0.0252 0.1446   True\n",
            "algo_de_preparatoria        preparatoria  -0.0201 0.7288 -0.0612  0.021  False\n",
            "algo_de_preparatoria    tecnico_asociado   0.0446 0.0183  0.0047 0.0845   True\n",
            " algo_de_universidad        licenciatura   0.0345 0.2479 -0.0107 0.0796  False\n",
            " algo_de_universidad            maestria   0.0512 0.1201 -0.0069 0.1093  False\n",
            " algo_de_universidad        preparatoria  -0.0538 0.0011 -0.0926 -0.015   True\n",
            " algo_de_universidad    tecnico_asociado   0.0109 0.9618 -0.0266 0.0485  False\n",
            "        licenciatura            maestria   0.0168 0.9748 -0.0466 0.0801  False\n",
            "        licenciatura        preparatoria  -0.0883    0.0 -0.1346 -0.042   True\n",
            "        licenciatura    tecnico_asociado  -0.0235 0.6743 -0.0688 0.0217  False\n",
            "            maestria        preparatoria   -0.105    0.0  -0.164 -0.046   True\n",
            "            maestria    tecnico_asociado  -0.0403 0.3567 -0.0985 0.0179  False\n",
            "        preparatoria    tecnico_asociado   0.0647    0.0  0.0258 0.1037   True\n",
            "------------------------------------------------------------------------------\n"
          ]
        },
        {
          "output_type": "execute_result",
          "data": {
            "text/plain": [
              "Text(0.5, 1.0, 'Múltiples comparaciones entre todos los pares (Tukey)')"
            ]
          },
          "metadata": {},
          "execution_count": 24
        },
        {
          "output_type": "display_data",
          "data": {
            "text/plain": [
              "<Figure size 1000x600 with 1 Axes>"
            ],
            "image/png": "[encoded data removed]"
          },
          "metadata": {}
        }
      ]
    },
    {
      "cell_type": "markdown",
      "source": [
        "si hay diferencia significativa ya que las graficas salen algo dispersar, si no hubiera diferencia significativa las lineas saldrian pegadas, ( el nivel de los padres si influye)"
      ],
      "metadata": {
        "id": "o3n58mdfHgF1"
      }
    },
    {
      "cell_type": "markdown",
      "source": [
        "# etnia"
      ],
      "metadata": {
        "id": "p-Aiaqz3IQ89"
      }
    },
    {
      "cell_type": "code",
      "source": [
        "df['etnia'].unique()"
      ],
      "metadata": {
        "colab": {
          "base_uri": "https://localhost:8080/"
        },
        "id": "iQ5gyJUJHAGn",
        "outputId": "45ea2be7-54af-45a4-a0e8-007372e24df4"
      },
      "execution_count": 25,
      "outputs": [
        {
          "output_type": "execute_result",
          "data": {
            "text/plain": [
              "array(['group_B', 'group_C', 'group_A', 'group_D', 'group_E'],\n",
              "      dtype=object)"
            ]
          },
          "metadata": {},
          "execution_count": 25
        }
      ]
    },
    {
      "cell_type": "code",
      "source": [
        "nivel_de_significancia = 0.05\n",
        "\n",
        "# Realizar ANOVA\n",
        "anova_result = stats.f_oneway(\n",
        "    df[df['etnia'] == 'group_B']['promedio'],\n",
        "    df[df['etnia'] == 'group_C']['promedio'],\n",
        "    df[df['etnia'] == 'group_A']['promedio'],\n",
        "    df[df['etnia'] == 'group_D']['promedio'],\n",
        "    df[df['etnia'] == 'group_E']['promedio'],\n",
        "\n",
        ")\n",
        "\n",
        "# Interpretar los resultados\n",
        "print(\"Resultados del ANOVA:\")\n",
        "print(f\"F-Estadístico: {anova_result.statistic:.2f}\")\n",
        "print(f\"Valor p: {anova_result.pvalue:.5f}\\n\")\n",
        "\n",
        "if anova_result.pvalue < nivel_de_significancia:\n",
        "    print(\"Conclusión: Hay diferencias significativas entre al menos dos tratamientos.\")\n",
        "else:\n",
        "    print(\"Conclusión: No hay diferencias significativas entre los tratamientos.\")"
      ],
      "metadata": {
        "colab": {
          "base_uri": "https://localhost:8080/"
        },
        "id": "-k75BIoZIWvF",
        "outputId": "0fc8449f-cada-4472-ed42-5ab21b17a4cd"
      },
      "execution_count": 26,
      "outputs": [
        {
          "output_type": "stream",
          "name": "stdout",
          "text": [
            "Resultados del ANOVA:\n",
            "F-Estadístico: 9.10\n",
            "Valor p: 0.00000\n",
            "\n",
            "Conclusión: Hay diferencias significativas entre al menos dos tratamientos.\n"
          ]
        }
      ]
    },
    {
      "cell_type": "code",
      "source": [
        "nivel_de_significancia = 0.05\n",
        "\n",
        "# Prueba de Tukey\n",
        "tukey = pairwise_tukeyhsd(endog=df['promedio'], groups=df['etnia'], alpha=nivel_de_significancia)\n",
        "\n",
        "# Mostrar los resultados\n",
        "print(tukey)\n",
        "\n",
        "# Gráfico de las diferencias entre grupos\n",
        "tukey.plot_simultaneous(ylabel=\"Grupos\", xlabel=\"Medias\")\n",
        "\n",
        "plt.gca().spines['right'].set_visible(False) # derecha\n",
        "plt.gca().spines['top'].set_visible(False)   # superior\n",
        "plt.title(\"Múltiples comparaciones entre todos los pares (Tukey)\")"
      ],
      "metadata": {
        "colab": {
          "base_uri": "https://localhost:8080/",
          "height": 855
        },
        "id": "_87dYabHIy-P",
        "outputId": "ad87b413-fb56-4b99-8daf-b1e34a78d1a0"
      },
      "execution_count": 27,
      "outputs": [
        {
          "output_type": "stream",
          "name": "stdout",
          "text": [
            " Multiple Comparison of Means - Tukey HSD, FWER=0.05 \n",
            "=====================================================\n",
            " group1  group2 meandiff p-adj   lower  upper  reject\n",
            "-----------------------------------------------------\n",
            "group_A group_B   0.0248 0.6447 -0.0245  0.074  False\n",
            "group_A group_C   0.0414 0.1006 -0.0046 0.0874  False\n",
            "group_A group_D   0.0619 0.0031  0.0148 0.1089   True\n",
            "group_A group_E   0.0976    0.0  0.0456 0.1496   True\n",
            "group_B group_C   0.0166 0.6953 -0.0185 0.0518  False\n",
            "group_B group_D   0.0371 0.0445  0.0006 0.0736   True\n",
            "group_B group_E   0.0728    0.0  0.0301 0.1155   True\n",
            "group_C group_D   0.0205 0.4036 -0.0115 0.0524  False\n",
            "group_C group_E   0.0562 0.0008  0.0173 0.0951   True\n",
            "group_D group_E   0.0357 0.1076 -0.0044 0.0759  False\n",
            "-----------------------------------------------------\n"
          ]
        },
        {
          "output_type": "execute_result",
          "data": {
            "text/plain": [
              "Text(0.5, 1.0, 'Múltiples comparaciones entre todos los pares (Tukey)')"
            ]
          },
          "metadata": {},
          "execution_count": 27
        },
        {
          "output_type": "display_data",
          "data": {
            "text/plain": [
              "<Figure size 1000x600 with 1 Axes>"
            ],
            "image/png": "[encoded data removed]"
          },
          "metadata": {}
        }
      ]
    },
    {
      "cell_type": "markdown",
      "source": [
        "la etnia si influye"
      ],
      "metadata": {
        "id": "BNo3mxTfKUq9"
      }
    },
    {
      "cell_type": "markdown",
      "source": [
        "# curso_de_preparación_para_el_examen"
      ],
      "metadata": {
        "id": "iwNa07NoK1rN"
      }
    },
    {
      "cell_type": "code",
      "source": [
        "df['curso_de_preparación_para_el_examen'].unique()"
      ],
      "metadata": {
        "colab": {
          "base_uri": "https://localhost:8080/"
        },
        "id": "_DA0XZhCK2_-",
        "outputId": "e263d462-028c-402c-d7b2-686d2c5391c7"
      },
      "execution_count": 28,
      "outputs": [
        {
          "output_type": "execute_result",
          "data": {
            "text/plain": [
              "array(['nada', 'completado'], dtype=object)"
            ]
          },
          "metadata": {},
          "execution_count": 28
        }
      ]
    },
    {
      "cell_type": "code",
      "source": [
        "nivel_de_significancia = 0.05\n",
        "\n",
        "# Realizar ANOVA\n",
        "anova_result = stats.f_oneway(\n",
        "    df[df['curso_de_preparación_para_el_examen'] == 'nada']['promedio'],\n",
        "    df[df['curso_de_preparación_para_el_examen'] == 'completado']['promedio'],\n",
        "\n",
        "\n",
        ")\n",
        "\n",
        "# Interpretar los resultados\n",
        "print(\"Resultados del ANOVA:\")\n",
        "print(f\"F-Estadístico: {anova_result.statistic:.2f}\")\n",
        "print(f\"Valor p: {anova_result.pvalue:.5f}\\n\")\n",
        "\n",
        "if anova_result.pvalue < nivel_de_significancia:\n",
        "    print(\"Conclusión: Hay diferencias significativas entre al menos dos tratamientos.\")\n",
        "else:\n",
        "    print(\"Conclusión: No hay diferencias significativas entre los tratamientos.\")"
      ],
      "metadata": {
        "colab": {
          "base_uri": "https://localhost:8080/"
        },
        "id": "DQZ8IWEMK78Z",
        "outputId": "7a637aa4-4fb9-42b2-c23f-a9b933771532"
      },
      "execution_count": 29,
      "outputs": [
        {
          "output_type": "stream",
          "name": "stdout",
          "text": [
            "Resultados del ANOVA:\n",
            "F-Estadístico: 70.41\n",
            "Valor p: 0.00000\n",
            "\n",
            "Conclusión: Hay diferencias significativas entre al menos dos tratamientos.\n"
          ]
        }
      ]
    },
    {
      "cell_type": "code",
      "source": [
        "nivel_de_significancia = 0.05\n",
        "\n",
        "# Prueba de Tukey\n",
        "tukey = pairwise_tukeyhsd(endog=df['promedio'], groups=df['curso_de_preparación_para_el_examen'], alpha=nivel_de_significancia)\n",
        "\n",
        "# Mostrar los resultados\n",
        "print(tukey)\n",
        "\n",
        "# Gráfico de las diferencias entre grupos\n",
        "tukey.plot_simultaneous(ylabel=\"Grupos\", xlabel=\"Medias\")\n",
        "\n",
        "plt.gca().spines['right'].set_visible(False) # derecha\n",
        "plt.gca().spines['top'].set_visible(False)   # superior\n",
        "plt.title(\"Múltiples comparaciones entre todos los pares (Tukey)\")"
      ],
      "metadata": {
        "colab": {
          "base_uri": "https://localhost:8080/",
          "height": 692
        },
        "id": "bZupG8NYLIBk",
        "outputId": "4c816f67-f692-497b-8708-78ffe6f98916"
      },
      "execution_count": 30,
      "outputs": [
        {
          "output_type": "stream",
          "name": "stdout",
          "text": [
            "  Multiple Comparison of Means - Tukey HSD, FWER=0.05  \n",
            "=======================================================\n",
            "  group1   group2 meandiff p-adj  lower   upper  reject\n",
            "-------------------------------------------------------\n",
            "completado   nada  -0.0763   0.0 -0.0942 -0.0585   True\n",
            "-------------------------------------------------------\n"
          ]
        },
        {
          "output_type": "execute_result",
          "data": {
            "text/plain": [
              "Text(0.5, 1.0, 'Múltiples comparaciones entre todos los pares (Tukey)')"
            ]
          },
          "metadata": {},
          "execution_count": 30
        },
        {
          "output_type": "display_data",
          "data": {
            "text/plain": [
              "<Figure size 1000x600 with 1 Axes>"
            ],
            "image/png": "[encoded data removed]"
          },
          "metadata": {}
        }
      ]
    },
    {
      "cell_type": "markdown",
      "source": [
        "el curso_de_preparación_para_el_examen si influye"
      ],
      "metadata": {
        "id": "hGONTP-1LUfw"
      }
    },
    {
      "cell_type": "markdown",
      "source": [
        "# sexo"
      ],
      "metadata": {
        "id": "V73lLnq2LZ4U"
      }
    },
    {
      "cell_type": "code",
      "source": [
        "df['sexo'].unique()"
      ],
      "metadata": {
        "colab": {
          "base_uri": "https://localhost:8080/"
        },
        "id": "87X-_4XoLbCM",
        "outputId": "b1f2f0f9-ac3f-449c-b4a2-6b2c431a6ea2"
      },
      "execution_count": 31,
      "outputs": [
        {
          "output_type": "execute_result",
          "data": {
            "text/plain": [
              "array(['mujer', 'hombre'], dtype=object)"
            ]
          },
          "metadata": {},
          "execution_count": 31
        }
      ]
    },
    {
      "cell_type": "code",
      "source": [
        "nivel_de_significancia = 0.05\n",
        "\n",
        "# Realizar ANOVA\n",
        "anova_result = stats.f_oneway(\n",
        "    df[df['sexo'] == 'mujer']['promedio'],\n",
        "    df[df['sexo'] == 'hombre']['promedio'],\n",
        "\n",
        "\n",
        ")\n",
        "\n",
        "# Interpretar los resultados\n",
        "print(\"Resultados del ANOVA:\")\n",
        "print(f\"F-Estadístico: {anova_result.statistic:.2f}\")\n",
        "print(f\"Valor p: {anova_result.pvalue:.5f}\\n\")\n",
        "\n",
        "if anova_result.pvalue < nivel_de_significancia:\n",
        "    print(\"Conclusión: Hay diferencias significativas entre al menos dos tratamientos.\")\n",
        "else:\n",
        "    print(\"Conclusión: No hay diferencias significativas entre los tratamientos.\")"
      ],
      "metadata": {
        "colab": {
          "base_uri": "https://localhost:8080/"
        },
        "id": "HnmBe2TNLhos",
        "outputId": "16e35cd4-f28e-4d79-b6cd-24db4267213d"
      },
      "execution_count": 32,
      "outputs": [
        {
          "output_type": "stream",
          "name": "stdout",
          "text": [
            "Resultados del ANOVA:\n",
            "F-Estadístico: 17.39\n",
            "Valor p: 0.00003\n",
            "\n",
            "Conclusión: Hay diferencias significativas entre al menos dos tratamientos.\n"
          ]
        }
      ]
    },
    {
      "cell_type": "code",
      "source": [
        "nivel_de_significancia = 0.05\n",
        "\n",
        "# Prueba de Tukey\n",
        "tukey = pairwise_tukeyhsd(endog=df['promedio'], groups=df['sexo'], alpha=nivel_de_significancia)\n",
        "\n",
        "# Mostrar los resultados\n",
        "print(tukey)\n",
        "\n",
        "# Gráfico de las diferencias entre grupos\n",
        "tukey.plot_simultaneous(ylabel=\"Grupos\", xlabel=\"Medias\")\n",
        "\n",
        "plt.gca().spines['right'].set_visible(False) # derecha\n",
        "plt.gca().spines['top'].set_visible(False)   # superior\n",
        "plt.title(\"Múltiples comparaciones entre todos los pares (Tukey)\")"
      ],
      "metadata": {
        "colab": {
          "base_uri": "https://localhost:8080/",
          "height": 692
        },
        "id": "FPHH7sVoLsD8",
        "outputId": "d4fc5fc0-04dd-4052-a8fb-4aecbe132b13"
      },
      "execution_count": 33,
      "outputs": [
        {
          "output_type": "stream",
          "name": "stdout",
          "text": [
            "Multiple Comparison of Means - Tukey HSD, FWER=0.05\n",
            "=================================================\n",
            "group1 group2 meandiff p-adj lower  upper  reject\n",
            "-------------------------------------------------\n",
            "hombre  mujer   0.0373   0.0 0.0198 0.0549   True\n",
            "-------------------------------------------------\n"
          ]
        },
        {
          "output_type": "execute_result",
          "data": {
            "text/plain": [
              "Text(0.5, 1.0, 'Múltiples comparaciones entre todos los pares (Tukey)')"
            ]
          },
          "metadata": {},
          "execution_count": 33
        },
        {
          "output_type": "display_data",
          "data": {
            "text/plain": [
              "<Figure size 1000x600 with 1 Axes>"
            ],
            "image/png": "[encoded data removed]"
          },
          "metadata": {}
        }
      ]
    },
    {
      "cell_type": "markdown",
      "source": [
        "si influye"
      ],
      "metadata": {
        "id": "2VrcmQeuMWmW"
      }
    },
    {
      "cell_type": "markdown",
      "source": [
        "# tipo_de_comida"
      ],
      "metadata": {
        "id": "q1uUEzlpMqB9"
      }
    },
    {
      "cell_type": "code",
      "source": [
        "df['tipo_de_comida'].unique()"
      ],
      "metadata": {
        "colab": {
          "base_uri": "https://localhost:8080/"
        },
        "id": "Yja2eSB7MrRY",
        "outputId": "94f1d873-f645-490f-b6a6-7036243245fd"
      },
      "execution_count": 34,
      "outputs": [
        {
          "output_type": "execute_result",
          "data": {
            "text/plain": [
              "array(['estandar', 'subsidiado'], dtype=object)"
            ]
          },
          "metadata": {},
          "execution_count": 34
        }
      ]
    },
    {
      "cell_type": "code",
      "source": [
        "nivel_de_significancia = 0.05\n",
        "\n",
        "# Realizar ANOVA\n",
        "anova_result = stats.f_oneway(\n",
        "    df[df['tipo_de_comida'] == 'estandar']['promedio'],\n",
        "    df[df['tipo_de_comida'] == 'subsidiado']['promedio'],\n",
        "\n",
        "\n",
        ")\n",
        "\n",
        "# Interpretar los resultados\n",
        "print(\"Resultados del ANOVA:\")\n",
        "print(f\"F-Estadístico: {anova_result.statistic:.2f}\")\n",
        "print(f\"Valor p: {anova_result.pvalue:.5f}\\n\")\n",
        "\n",
        "if anova_result.pvalue < nivel_de_significancia:\n",
        "    print(\"Conclusión: Hay diferencias significativas entre al menos dos tratamientos.\")\n",
        "else:\n",
        "    print(\"Conclusión: No hay diferencias significativas entre los tratamientos.\")"
      ],
      "metadata": {
        "colab": {
          "base_uri": "https://localhost:8080/"
        },
        "id": "IdzAb3FZMzRn",
        "outputId": "5fbe4d1e-8716-400f-cd11-e1c9a4e3696b"
      },
      "execution_count": 35,
      "outputs": [
        {
          "output_type": "stream",
          "name": "stdout",
          "text": [
            "Resultados del ANOVA:\n",
            "F-Estadístico: 91.68\n",
            "Valor p: 0.00000\n",
            "\n",
            "Conclusión: Hay diferencias significativas entre al menos dos tratamientos.\n"
          ]
        }
      ]
    },
    {
      "cell_type": "code",
      "source": [
        "nivel_de_significancia = 0.05\n",
        "\n",
        "# Prueba de Tukey\n",
        "tukey = pairwise_tukeyhsd(endog=df['promedio'], groups=df['tipo_de_comida'], alpha=nivel_de_significancia)\n",
        "\n",
        "# Mostrar los resultados\n",
        "print(tukey)\n",
        "\n",
        "# Gráfico de las diferencias entre grupos\n",
        "tukey.plot_simultaneous(ylabel=\"Grupos\", xlabel=\"Medias\")\n",
        "\n",
        "plt.gca().spines['right'].set_visible(False) # derecha\n",
        "plt.gca().spines['top'].set_visible(False)   # superior\n",
        "plt.title(\"Múltiples comparaciones entre todos los pares (Tukey)\")"
      ],
      "metadata": {
        "colab": {
          "base_uri": "https://localhost:8080/",
          "height": 692
        },
        "id": "1b8YtWRGM6gZ",
        "outputId": "08dce164-e3b3-440e-f431-f28b042f8c8b"
      },
      "execution_count": 36,
      "outputs": [
        {
          "output_type": "stream",
          "name": "stdout",
          "text": [
            "   Multiple Comparison of Means - Tukey HSD, FWER=0.05   \n",
            "=========================================================\n",
            " group1    group2   meandiff p-adj  lower   upper  reject\n",
            "---------------------------------------------------------\n",
            "estandar subsidiado  -0.0864   0.0 -0.1041 -0.0687   True\n",
            "---------------------------------------------------------\n"
          ]
        },
        {
          "output_type": "execute_result",
          "data": {
            "text/plain": [
              "Text(0.5, 1.0, 'Múltiples comparaciones entre todos los pares (Tukey)')"
            ]
          },
          "metadata": {},
          "execution_count": 36
        },
        {
          "output_type": "display_data",
          "data": {
            "text/plain": [
              "<Figure size 1000x600 with 1 Axes>"
            ],
            "image/png": "[encoded data removed]"
          },
          "metadata": {}
        }
      ]
    },
    {
      "cell_type": "markdown",
      "source": [
        "si influye"
      ],
      "metadata": {
        "id": "hQBUPUHBNEkc"
      }
    },
    {
      "cell_type": "markdown",
      "source": [
        "# Conclusion\n",
        "\n",
        "Tomando en cuenta todas las pruebas Tukey realizadas se puede decir que todas las variables analizadas si influyen de una manera significativa en la variable con la que se esta comparando que en este caso es el promedio"
      ],
      "metadata": {
        "id": "WZf2DfRqNIGt"
      }
    }
  ]
}