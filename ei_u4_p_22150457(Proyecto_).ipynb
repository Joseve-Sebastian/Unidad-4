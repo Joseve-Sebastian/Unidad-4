{
  "nbformat": 4,
  "nbformat_minor": 0,
  "metadata": {
    "colab": {
      "provenance": [],
      "collapsed_sections": [
        "4dprrtlA6adX",
        "R86Fjoi97BLm",
        "VX0gV6Py7F1y",
        "hn38gablZd1Z",
        "mdW1VsvRZ3a6",
        "NAhxY9JE8xe2",
        "-x0waUtR9Zab",
        "hOgcruE795a1",
        "98jRSBjH-Vs-",
        "K8_O8AVt-zC4",
        "FCTEhRVE0z8n",
        "g12AKyBg15qY",
        "bcsBgk_s2kMY",
        "YwpNJwXo3McP",
        "GsDamweL328i",
        "wPQidiGK4cRK"
      ]
    },
    "kernelspec": {
      "name": "python3",
      "display_name": "Python 3"
    },
    "language_info": {
      "name": "python"
    }
  },
  "cells": [
    {
      "cell_type": "markdown",
      "source": [
        "![portada_00001 (1).jpg](data:image/jpeg;base64,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)"
      ],
      "metadata": {
        "id": "8duotSIKlrWL"
      }
    },
    {
      "cell_type": "markdown",
      "source": [
        "# Introduccion"
      ],
      "metadata": {
        "id": "4dprrtlA6adX"
      }
    },
    {
      "cell_type": "markdown",
      "source": [
        "En este trabajo se analizara la variable de puntaje de examen utilizando ciertas pruebas como la prueba ANOVA y la prueba Tukey para de esta manera poder analizar si hay algun factor que pueda afectar de manera negativa a los alumnos y que debido a esto se reduzca el puntaje del examen de los mismos."
      ],
      "metadata": {
        "id": "1uViB7YY6ehL"
      }
    },
    {
      "cell_type": "markdown",
      "source": [
        "# Marco Teórico"
      ],
      "metadata": {
        "id": "R86Fjoi97BLm"
      }
    },
    {
      "cell_type": "markdown",
      "source": [
        "\n",
        "\n",
        "<br>\n",
        "\n",
        "<h1><b>Prueba ANOVA:</b></h1>\n",
        "\n",
        "<br>\n",
        "\n",
        "La prueba ANOVA (Análisis de Varianza) es una técnica estadística que se utiliza para determinar si existen diferencias significativas entre las medias de tres o más grupos. Es especialmente útil en situaciones donde se evalúan múltiples factores o niveles de una variable independiente. Su resultado principal es el estadístico F y el valor p, que indican si las diferencias observadas son estadísticamente significativas. En este trabajo, la ANOVA se aplica para analizar la influencia de factores como el nivel de participación parental, acceso a recursos, actividades extracurriculares, entre otros, sobre el puntaje de los exámenes.\n",
        "\n",
        "<br>\n",
        "\n",
        "<h1><b>Prueba de Tukey:</b></h1>\n",
        "\n",
        "<br>\n",
        "\n",
        "Cuando la prueba ANOVA identifica diferencias significativas, se realiza un análisis post hoc, como la prueba de Tukey. Este método permite comparar las medias de todos los pares de grupos, indicando cuáles difieren significativamente. Es particularmente valioso en estudios con múltiples niveles de comparación, como los diferentes niveles de calidad del profesorado o motivación de los estudiantes.\n",
        "\n",
        "<br>\n",
        "\n",
        "<h1><b>Factores evaluados:</b></h1>\n",
        "\n",
        "<br>\n",
        "\n",
        "* <h3>Participación parental:</h3> Influencia de la implicación de los padres en el\n",
        "rendimiento académico de los estudiantes.\n",
        "\n",
        "<br>\n",
        "\n",
        "* <h3>Acceso a recursos:</h3> Impacto de contar con herramientas y materiales adecuados.\n",
        "\n",
        "<br>\n",
        "\n",
        "* <h3>Actividades extracurriculares:</h3> Relación entre actividades complementarias y el desempeño académico.\n",
        "\n",
        "<br>\n",
        "\n",
        "* <h3>Calidad del profesorado y tipo de escuela:</h3> Variables relacionadas con el entorno educativo.\n",
        "\n",
        "<br>\n",
        "\n",
        "* <h3>Factores personales y del hogar:</h3> Nivel de motivación, ingreso familiar, acceso a internet, entre otros."
      ],
      "metadata": {
        "id": "3-nyav8b7Idv"
      }
    },
    {
      "cell_type": "markdown",
      "source": [
        "# Metodología"
      ],
      "metadata": {
        "id": "VX0gV6Py7F1y"
      }
    },
    {
      "cell_type": "markdown",
      "source": [
        "En este trabajo se realizaran diversas pruebas para poder analizar las variables que se van a emplear y de esta manera poder comparar estas bariables con el puntaje de examen que en este caso es la variable en la que hay interes.\n",
        "\n",
        "<br>\n",
        "\n",
        "En este caso se realizara la prueba de ANOVA para poder verificar si hay alguna diferencia significativa entre las variables comparadas, tambien se empleara la prueba de Tukey para poder comparar las variables de estudio, a demas de poder ver de una manera mas grafica los resultados del problema.\n",
        "\n",
        "<br>\n",
        "\n",
        "Lo primero que se hara es una preparación de los datos, para esto se realizara una limpieza y preparación de los datos, que incluye:\n",
        "\n",
        "* Eliminación de valores faltantes (NaN) en variables clave.\n",
        "* Codificación de variables categóricas para su análisis.\n",
        "* Verificación de la normalidad de las distribuciones y la homogeneidad de varianzas como requisitos para la ANOVA.\n",
        "\n",
        "<br>\n",
        "\n",
        "Lo siguiente que se realizara es un análisis estadístico, para esto se empleara lo siguiente.\n",
        "\n",
        "* ANOVA: Se aplica para cada variable independiente categórica contra la variable dependiente (puntaje_examen).\n",
        "* Prueba de Tukey: Se realiza únicamente cuando ANOVA detecta diferencias significativas (valor p < 0.05).\n",
        "* Visualización: Los resultados se representan mediante gráficos que ilustran las diferencias entre grupos.\n",
        "\n",
        "<br>\n",
        "\n",
        "Finalmente se realizara una interpretación de resultados para cada una de las variables que se va a comparar, en este caso cada análisis incluye:\n",
        "\n",
        "* Estadístico F y valor p para la ANOVA.\n",
        "* Comparaciones específicas entre pares de grupos mediante la prueba de Tukey.\n",
        "* Identificación de los factores que influyen significativamente en el puntaje de los exámenes y aquellos que no.\n",
        "\n"
      ],
      "metadata": {
        "id": "V8hwfPAY7MeM"
      }
    },
    {
      "cell_type": "markdown",
      "source": [
        "# Resultados"
      ],
      "metadata": {
        "id": "02JxvBbJ73Xx"
      }
    },
    {
      "cell_type": "code",
      "source": [
        "import warnings\n",
        "# Suprimir todos los warnings\n",
        "warnings.filterwarnings('ignore')"
      ],
      "metadata": {
        "id": "uPBLU05o7_1G"
      },
      "execution_count": 81,
      "outputs": []
    },
    {
      "cell_type": "code",
      "source": [
        "# Manipular datos\n",
        "import pandas as pd\n",
        "\n",
        "\n",
        "df = pd.read_csv('https://raw.githubusercontent.com/Joseve-Sebastian/Unidad-4/refs/heads/main/dataset.csv')  # en github se sube el .csv y luego le picas y donde dice \"Raw\" le das click y copias el link de ese\n",
        "\n",
        "\n",
        "df.columns"
      ],
      "metadata": {
        "colab": {
          "base_uri": "https://localhost:8080/"
        },
        "id": "I6ZqDW0t8CKo",
        "outputId": "4e2fd515-8494-40bf-d1d0-460837a99f3e"
      },
      "execution_count": 82,
      "outputs": [
        {
          "output_type": "execute_result",
          "data": {
            "text/plain": [
              "Index(['horas_estudio', 'asistencia', 'participacion_parental',\n",
              "       'acceso_a_recursos', 'actividades_extracurriculares', 'horas_suenio',\n",
              "       'calificaciones_previas', 'nivel_motivacion', 'acceso_internet',\n",
              "       'sesiones_tutoria', 'ingreso_familiar', 'calidad_profesorado',\n",
              "       'tipo_escuela', 'influencia_companieros', 'actividad_fisica',\n",
              "       'discapacidad_aprendizaje', 'nivel_estudio_padres', 'distancia',\n",
              "       'genero', 'puntaje_examen'],\n",
              "      dtype='object')"
            ]
          },
          "metadata": {},
          "execution_count": 82
        }
      ]
    },
    {
      "cell_type": "code",
      "source": [
        "df"
      ],
      "metadata": {
        "colab": {
          "base_uri": "https://localhost:8080/",
          "height": 444
        },
        "id": "1Y4HcYJo8YpW",
        "outputId": "e6232237-6ee3-4a3c-d5ae-778143f79574"
      },
      "execution_count": 83,
      "outputs": [
        {
          "output_type": "execute_result",
          "data": {
            "text/plain": [
              "      horas_estudio  asistencia participacion_parental acceso_a_recursos  \\\n",
              "0                23          84                   bajo           elevado   \n",
              "1                19          64                   bajo             medio   \n",
              "2                24          98                  medio              bajo   \n",
              "3                29          89                   bajo             medio   \n",
              "4                19          92                  medio              bajo   \n",
              "...             ...         ...                    ...               ...   \n",
              "6602             25          69                elevado             medio   \n",
              "6603             23          76                elevado             medio   \n",
              "6604             20          90                  medio              bajo   \n",
              "6605             10          86                elevado           elevado   \n",
              "6606             15          67                  medio              bajo   \n",
              "\n",
              "     actividades_extracurriculares  horas_suenio  calificaciones_previas  \\\n",
              "0                               no             7                      73   \n",
              "1                               no             8                      59   \n",
              "2                               si             7                      91   \n",
              "3                               si             8                      98   \n",
              "4                               si             6                      65   \n",
              "...                            ...           ...                     ...   \n",
              "6602                            no             7                      76   \n",
              "6603                            no             8                      81   \n",
              "6604                            si             6                      65   \n",
              "6605                            si             6                      91   \n",
              "6606                            si             9                      94   \n",
              "\n",
              "     nivel_motivacion acceso_internet  sesiones_tutoria ingreso_familiar  \\\n",
              "0                bajo              si                 0             bajo   \n",
              "1                bajo              si                 2            medio   \n",
              "2               medio              si                 2            medio   \n",
              "3               medio              si                 1            medio   \n",
              "4               medio              si                 3            medio   \n",
              "...               ...             ...               ...              ...   \n",
              "6602            medio              si                 1          elevado   \n",
              "6603            medio              si                 3             bajo   \n",
              "6604             bajo              si                 3             bajo   \n",
              "6605          elevado              si                 2             bajo   \n",
              "6606            medio              si                 0            medio   \n",
              "\n",
              "     calidad_profesorado tipo_escuela influencia_companieros  \\\n",
              "0                  medio      publico               positivo   \n",
              "1                   bajo      publico               negativo   \n",
              "2                   bajo      publico                neutral   \n",
              "3                   bajo      publico               negativo   \n",
              "4                elevado      publico                neutral   \n",
              "...                  ...          ...                    ...   \n",
              "6602               medio      publico               positivo   \n",
              "6603             elevado      publico               positivo   \n",
              "6604               medio      publico               negativo   \n",
              "6605               medio      privado               positivo   \n",
              "6606                bajo      publico               positivo   \n",
              "\n",
              "      actividad_fisica discapacidad_aprendizaje nivel_estudio_padres  \\\n",
              "0                    3                       no         preparatoria   \n",
              "1                    4                       no          universidad   \n",
              "2                    4                       no             posgrado   \n",
              "3                    4                       no         preparatoria   \n",
              "4                    4                       no          universidad   \n",
              "...                ...                      ...                  ...   \n",
              "6602                 2                       no         preparatoria   \n",
              "6603                 2                       no         preparatoria   \n",
              "6604                 2                       no             posgrado   \n",
              "6605                 3                       no         preparatoria   \n",
              "6606                 4                       no             posgrado   \n",
              "\n",
              "     distancia  genero  puntaje_examen  \n",
              "0      cercano  hombre              67  \n",
              "1     moderado   mujer              61  \n",
              "2      cercano  hombre              74  \n",
              "3     moderado  hombre              71  \n",
              "4      cercano   mujer              70  \n",
              "...        ...     ...             ...  \n",
              "6602   cercano   mujer              68  \n",
              "6603   cercano   mujer              69  \n",
              "6604   cercano   mujer              68  \n",
              "6605    lejano   mujer              68  \n",
              "6606   cercano  hombre              64  \n",
              "\n",
              "[6607 rows x 20 columns]"
            ],
            "text/html": [
              "\n",
              "  <div id=\"df-1e5c36f1-07c5-4793-8d8f-74ff809fc073\" class=\"colab-df-container\">\n",
              "    <div>\n",
              "<style scoped>\n",
              "    .dataframe tbody tr th:only-of-type {\n",
              "        vertical-align: middle;\n",
              "    }\n",
              "\n",
              "    .dataframe tbody tr th {\n",
              "        vertical-align: top;\n",
              "    }\n",
              "\n",
              "    .dataframe thead th {\n",
              "        text-align: right;\n",
              "    }\n",
              "</style>\n",
              "<table border=\"1\" class=\"dataframe\">\n",
              "  <thead>\n",
              "    <tr style=\"text-align: right;\">\n",
              "      <th></th>\n",
              "      <th>horas_estudio</th>\n",
              "      <th>asistencia</th>\n",
              "      <th>participacion_parental</th>\n",
              "      <th>acceso_a_recursos</th>\n",
              "      <th>actividades_extracurriculares</th>\n",
              "      <th>horas_suenio</th>\n",
              "      <th>calificaciones_previas</th>\n",
              "      <th>nivel_motivacion</th>\n",
              "      <th>acceso_internet</th>\n",
              "      <th>sesiones_tutoria</th>\n",
              "      <th>ingreso_familiar</th>\n",
              "      <th>calidad_profesorado</th>\n",
              "      <th>tipo_escuela</th>\n",
              "      <th>influencia_companieros</th>\n",
              "      <th>actividad_fisica</th>\n",
              "      <th>discapacidad_aprendizaje</th>\n",
              "      <th>nivel_estudio_padres</th>\n",
              "      <th>distancia</th>\n",
              "      <th>genero</th>\n",
              "      <th>puntaje_examen</th>\n",
              "    </tr>\n",
              "  </thead>\n",
              "  <tbody>\n",
              "    <tr>\n",
              "      <th>0</th>\n",
              "      <td>23</td>\n",
              "      <td>84</td>\n",
              "      <td>bajo</td>\n",
              "      <td>elevado</td>\n",
              "      <td>no</td>\n",
              "      <td>7</td>\n",
              "      <td>73</td>\n",
              "      <td>bajo</td>\n",
              "      <td>si</td>\n",
              "      <td>0</td>\n",
              "      <td>bajo</td>\n",
              "      <td>medio</td>\n",
              "      <td>publico</td>\n",
              "      <td>positivo</td>\n",
              "      <td>3</td>\n",
              "      <td>no</td>\n",
              "      <td>preparatoria</td>\n",
              "      <td>cercano</td>\n",
              "      <td>hombre</td>\n",
              "      <td>67</td>\n",
              "    </tr>\n",
              "    <tr>\n",
              "      <th>1</th>\n",
              "      <td>19</td>\n",
              "      <td>64</td>\n",
              "      <td>bajo</td>\n",
              "      <td>medio</td>\n",
              "      <td>no</td>\n",
              "      <td>8</td>\n",
              "      <td>59</td>\n",
              "      <td>bajo</td>\n",
              "      <td>si</td>\n",
              "      <td>2</td>\n",
              "      <td>medio</td>\n",
              "      <td>bajo</td>\n",
              "      <td>publico</td>\n",
              "      <td>negativo</td>\n",
              "      <td>4</td>\n",
              "      <td>no</td>\n",
              "      <td>universidad</td>\n",
              "      <td>moderado</td>\n",
              "      <td>mujer</td>\n",
              "      <td>61</td>\n",
              "    </tr>\n",
              "    <tr>\n",
              "      <th>2</th>\n",
              "      <td>24</td>\n",
              "      <td>98</td>\n",
              "      <td>medio</td>\n",
              "      <td>bajo</td>\n",
              "      <td>si</td>\n",
              "      <td>7</td>\n",
              "      <td>91</td>\n",
              "      <td>medio</td>\n",
              "      <td>si</td>\n",
              "      <td>2</td>\n",
              "      <td>medio</td>\n",
              "      <td>bajo</td>\n",
              "      <td>publico</td>\n",
              "      <td>neutral</td>\n",
              "      <td>4</td>\n",
              "      <td>no</td>\n",
              "      <td>posgrado</td>\n",
              "      <td>cercano</td>\n",
              "      <td>hombre</td>\n",
              "      <td>74</td>\n",
              "    </tr>\n",
              "    <tr>\n",
              "      <th>3</th>\n",
              "      <td>29</td>\n",
              "      <td>89</td>\n",
              "      <td>bajo</td>\n",
              "      <td>medio</td>\n",
              "      <td>si</td>\n",
              "      <td>8</td>\n",
              "      <td>98</td>\n",
              "      <td>medio</td>\n",
              "      <td>si</td>\n",
              "      <td>1</td>\n",
              "      <td>medio</td>\n",
              "      <td>bajo</td>\n",
              "      <td>publico</td>\n",
              "      <td>negativo</td>\n",
              "      <td>4</td>\n",
              "      <td>no</td>\n",
              "      <td>preparatoria</td>\n",
              "      <td>moderado</td>\n",
              "      <td>hombre</td>\n",
              "      <td>71</td>\n",
              "    </tr>\n",
              "    <tr>\n",
              "      <th>4</th>\n",
              "      <td>19</td>\n",
              "      <td>92</td>\n",
              "      <td>medio</td>\n",
              "      <td>bajo</td>\n",
              "      <td>si</td>\n",
              "      <td>6</td>\n",
              "      <td>65</td>\n",
              "      <td>medio</td>\n",
              "      <td>si</td>\n",
              "      <td>3</td>\n",
              "      <td>medio</td>\n",
              "      <td>elevado</td>\n",
              "      <td>publico</td>\n",
              "      <td>neutral</td>\n",
              "      <td>4</td>\n",
              "      <td>no</td>\n",
              "      <td>universidad</td>\n",
              "      <td>cercano</td>\n",
              "      <td>mujer</td>\n",
              "      <td>70</td>\n",
              "    </tr>\n",
              "    <tr>\n",
              "      <th>...</th>\n",
              "      <td>...</td>\n",
              "      <td>...</td>\n",
              "      <td>...</td>\n",
              "      <td>...</td>\n",
              "      <td>...</td>\n",
              "      <td>...</td>\n",
              "      <td>...</td>\n",
              "      <td>...</td>\n",
              "      <td>...</td>\n",
              "      <td>...</td>\n",
              "      <td>...</td>\n",
              "      <td>...</td>\n",
              "      <td>...</td>\n",
              "      <td>...</td>\n",
              "      <td>...</td>\n",
              "      <td>...</td>\n",
              "      <td>...</td>\n",
              "      <td>...</td>\n",
              "      <td>...</td>\n",
              "      <td>...</td>\n",
              "    </tr>\n",
              "    <tr>\n",
              "      <th>6602</th>\n",
              "      <td>25</td>\n",
              "      <td>69</td>\n",
              "      <td>elevado</td>\n",
              "      <td>medio</td>\n",
              "      <td>no</td>\n",
              "      <td>7</td>\n",
              "      <td>76</td>\n",
              "      <td>medio</td>\n",
              "      <td>si</td>\n",
              "      <td>1</td>\n",
              "      <td>elevado</td>\n",
              "      <td>medio</td>\n",
              "      <td>publico</td>\n",
              "      <td>positivo</td>\n",
              "      <td>2</td>\n",
              "      <td>no</td>\n",
              "      <td>preparatoria</td>\n",
              "      <td>cercano</td>\n",
              "      <td>mujer</td>\n",
              "      <td>68</td>\n",
              "    </tr>\n",
              "    <tr>\n",
              "      <th>6603</th>\n",
              "      <td>23</td>\n",
              "      <td>76</td>\n",
              "      <td>elevado</td>\n",
              "      <td>medio</td>\n",
              "      <td>no</td>\n",
              "      <td>8</td>\n",
              "      <td>81</td>\n",
              "      <td>medio</td>\n",
              "      <td>si</td>\n",
              "      <td>3</td>\n",
              "      <td>bajo</td>\n",
              "      <td>elevado</td>\n",
              "      <td>publico</td>\n",
              "      <td>positivo</td>\n",
              "      <td>2</td>\n",
              "      <td>no</td>\n",
              "      <td>preparatoria</td>\n",
              "      <td>cercano</td>\n",
              "      <td>mujer</td>\n",
              "      <td>69</td>\n",
              "    </tr>\n",
              "    <tr>\n",
              "      <th>6604</th>\n",
              "      <td>20</td>\n",
              "      <td>90</td>\n",
              "      <td>medio</td>\n",
              "      <td>bajo</td>\n",
              "      <td>si</td>\n",
              "      <td>6</td>\n",
              "      <td>65</td>\n",
              "      <td>bajo</td>\n",
              "      <td>si</td>\n",
              "      <td>3</td>\n",
              "      <td>bajo</td>\n",
              "      <td>medio</td>\n",
              "      <td>publico</td>\n",
              "      <td>negativo</td>\n",
              "      <td>2</td>\n",
              "      <td>no</td>\n",
              "      <td>posgrado</td>\n",
              "      <td>cercano</td>\n",
              "      <td>mujer</td>\n",
              "      <td>68</td>\n",
              "    </tr>\n",
              "    <tr>\n",
              "      <th>6605</th>\n",
              "      <td>10</td>\n",
              "      <td>86</td>\n",
              "      <td>elevado</td>\n",
              "      <td>elevado</td>\n",
              "      <td>si</td>\n",
              "      <td>6</td>\n",
              "      <td>91</td>\n",
              "      <td>elevado</td>\n",
              "      <td>si</td>\n",
              "      <td>2</td>\n",
              "      <td>bajo</td>\n",
              "      <td>medio</td>\n",
              "      <td>privado</td>\n",
              "      <td>positivo</td>\n",
              "      <td>3</td>\n",
              "      <td>no</td>\n",
              "      <td>preparatoria</td>\n",
              "      <td>lejano</td>\n",
              "      <td>mujer</td>\n",
              "      <td>68</td>\n",
              "    </tr>\n",
              "    <tr>\n",
              "      <th>6606</th>\n",
              "      <td>15</td>\n",
              "      <td>67</td>\n",
              "      <td>medio</td>\n",
              "      <td>bajo</td>\n",
              "      <td>si</td>\n",
              "      <td>9</td>\n",
              "      <td>94</td>\n",
              "      <td>medio</td>\n",
              "      <td>si</td>\n",
              "      <td>0</td>\n",
              "      <td>medio</td>\n",
              "      <td>bajo</td>\n",
              "      <td>publico</td>\n",
              "      <td>positivo</td>\n",
              "      <td>4</td>\n",
              "      <td>no</td>\n",
              "      <td>posgrado</td>\n",
              "      <td>cercano</td>\n",
              "      <td>hombre</td>\n",
              "      <td>64</td>\n",
              "    </tr>\n",
              "  </tbody>\n",
              "</table>\n",
              "<p>6607 rows × 20 columns</p>\n",
              "</div>\n",
              "    <div class=\"colab-df-buttons\">\n",
              "\n",
              "  <div class=\"colab-df-container\">\n",
              "    <button class=\"colab-df-convert\" onclick=\"convertToInteractive('df-1e5c36f1-07c5-4793-8d8f-74ff809fc073')\"\n",
              "            title=\"Convert this dataframe to an interactive table.\"\n",
              "            style=\"display:none;\">\n",
              "\n",
              "  <svg xmlns=\"http://www.w3.org/2000/svg\" height=\"24px\" viewBox=\"0 -960 960 960\">\n",
              "    <path d=\"M120-120v-720h720v720H120Zm60-500h600v-160H180v160Zm220 220h160v-160H400v160Zm0 220h160v-160H400v160ZM180-400h160v-160H180v160Zm440 0h160v-160H620v160ZM180-180h160v-160H180v160Zm440 0h160v-160H620v160Z\"/>\n",
              "  </svg>\n",
              "    </button>\n",
              "\n",
              "  <style>\n",
              "    .colab-df-container {\n",
              "      display:flex;\n",
              "      gap: 12px;\n",
              "    }\n",
              "\n",
              "    .colab-df-convert {\n",
              "      background-color: #E8F0FE;\n",
              "      border: none;\n",
              "      border-radius: 50%;\n",
              "      cursor: pointer;\n",
              "      display: none;\n",
              "      fill: #1967D2;\n",
              "      height: 32px;\n",
              "      padding: 0 0 0 0;\n",
              "      width: 32px;\n",
              "    }\n",
              "\n",
              "    .colab-df-convert:hover {\n",
              "      background-color: #E2EBFA;\n",
              "      box-shadow: 0px 1px 2px rgba(60, 64, 67, 0.3), 0px 1px 3px 1px rgba(60, 64, 67, 0.15);\n",
              "      fill: #174EA6;\n",
              "    }\n",
              "\n",
              "    .colab-df-buttons div {\n",
              "      margin-bottom: 4px;\n",
              "    }\n",
              "\n",
              "    [theme=dark] .colab-df-convert {\n",
              "      background-color: #3B4455;\n",
              "      fill: #D2E3FC;\n",
              "    }\n",
              "\n",
              "    [theme=dark] .colab-df-convert:hover {\n",
              "      background-color: #434B5C;\n",
              "      box-shadow: 0px 1px 3px 1px rgba(0, 0, 0, 0.15);\n",
              "      filter: drop-shadow(0px 1px 2px rgba(0, 0, 0, 0.3));\n",
              "      fill: #FFFFFF;\n",
              "    }\n",
              "  </style>\n",
              "\n",
              "    <script>\n",
              "      const buttonEl =\n",
              "        document.querySelector('#df-1e5c36f1-07c5-4793-8d8f-74ff809fc073 button.colab-df-convert');\n",
              "      buttonEl.style.display =\n",
              "        google.colab.kernel.accessAllowed ? 'block' : 'none';\n",
              "\n",
              "      async function convertToInteractive(key) {\n",
              "        const element = document.querySelector('#df-1e5c36f1-07c5-4793-8d8f-74ff809fc073');\n",
              "        const dataTable =\n",
              "          await google.colab.kernel.invokeFunction('convertToInteractive',\n",
              "                                                    [key], {});\n",
              "        if (!dataTable) return;\n",
              "\n",
              "        const docLinkHtml = 'Like what you see? Visit the ' +\n",
              "          '<a target=\"_blank\" href=https://colab.research.google.com/notebooks/data_table.ipynb>data table notebook</a>'\n",
              "          + ' to learn more about interactive tables.';\n",
              "        element.innerHTML = '';\n",
              "        dataTable['output_type'] = 'display_data';\n",
              "        await google.colab.output.renderOutput(dataTable, element);\n",
              "        const docLink = document.createElement('div');\n",
              "        docLink.innerHTML = docLinkHtml;\n",
              "        element.appendChild(docLink);\n",
              "      }\n",
              "    </script>\n",
              "  </div>\n",
              "\n",
              "\n",
              "<div id=\"df-1a69ccec-566d-43fd-bf45-f76adb3caa84\">\n",
              "  <button class=\"colab-df-quickchart\" onclick=\"quickchart('df-1a69ccec-566d-43fd-bf45-f76adb3caa84')\"\n",
              "            title=\"Suggest charts\"\n",
              "            style=\"display:none;\">\n",
              "\n",
              "<svg xmlns=\"http://www.w3.org/2000/svg\" height=\"24px\"viewBox=\"0 0 24 24\"\n",
              "     width=\"24px\">\n",
              "    <g>\n",
              "        <path d=\"M19 3H5c-1.1 0-2 .9-2 2v14c0 1.1.9 2 2 2h14c1.1 0 2-.9 2-2V5c0-1.1-.9-2-2-2zM9 17H7v-7h2v7zm4 0h-2V7h2v10zm4 0h-2v-4h2v4z\"/>\n",
              "    </g>\n",
              "</svg>\n",
              "  </button>\n",
              "\n",
              "<style>\n",
              "  .colab-df-quickchart {\n",
              "      --bg-color: #E8F0FE;\n",
              "      --fill-color: #1967D2;\n",
              "      --hover-bg-color: #E2EBFA;\n",
              "      --hover-fill-color: #174EA6;\n",
              "      --disabled-fill-color: #AAA;\n",
              "      --disabled-bg-color: #DDD;\n",
              "  }\n",
              "\n",
              "  [theme=dark] .colab-df-quickchart {\n",
              "      --bg-color: #3B4455;\n",
              "      --fill-color: #D2E3FC;\n",
              "      --hover-bg-color: #434B5C;\n",
              "      --hover-fill-color: #FFFFFF;\n",
              "      --disabled-bg-color: #3B4455;\n",
              "      --disabled-fill-color: #666;\n",
              "  }\n",
              "\n",
              "  .colab-df-quickchart {\n",
              "    background-color: var(--bg-color);\n",
              "    border: none;\n",
              "    border-radius: 50%;\n",
              "    cursor: pointer;\n",
              "    display: none;\n",
              "    fill: var(--fill-color);\n",
              "    height: 32px;\n",
              "    padding: 0;\n",
              "    width: 32px;\n",
              "  }\n",
              "\n",
              "  .colab-df-quickchart:hover {\n",
              "    background-color: var(--hover-bg-color);\n",
              "    box-shadow: 0 1px 2px rgba(60, 64, 67, 0.3), 0 1px 3px 1px rgba(60, 64, 67, 0.15);\n",
              "    fill: var(--button-hover-fill-color);\n",
              "  }\n",
              "\n",
              "  .colab-df-quickchart-complete:disabled,\n",
              "  .colab-df-quickchart-complete:disabled:hover {\n",
              "    background-color: var(--disabled-bg-color);\n",
              "    fill: var(--disabled-fill-color);\n",
              "    box-shadow: none;\n",
              "  }\n",
              "\n",
              "  .colab-df-spinner {\n",
              "    border: 2px solid var(--fill-color);\n",
              "    border-color: transparent;\n",
              "    border-bottom-color: var(--fill-color);\n",
              "    animation:\n",
              "      spin 1s steps(1) infinite;\n",
              "  }\n",
              "\n",
              "  @keyframes spin {\n",
              "    0% {\n",
              "      border-color: transparent;\n",
              "      border-bottom-color: var(--fill-color);\n",
              "      border-left-color: var(--fill-color);\n",
              "    }\n",
              "    20% {\n",
              "      border-color: transparent;\n",
              "      border-left-color: var(--fill-color);\n",
              "      border-top-color: var(--fill-color);\n",
              "    }\n",
              "    30% {\n",
              "      border-color: transparent;\n",
              "      border-left-color: var(--fill-color);\n",
              "      border-top-color: var(--fill-color);\n",
              "      border-right-color: var(--fill-color);\n",
              "    }\n",
              "    40% {\n",
              "      border-color: transparent;\n",
              "      border-right-color: var(--fill-color);\n",
              "      border-top-color: var(--fill-color);\n",
              "    }\n",
              "    60% {\n",
              "      border-color: transparent;\n",
              "      border-right-color: var(--fill-color);\n",
              "    }\n",
              "    80% {\n",
              "      border-color: transparent;\n",
              "      border-right-color: var(--fill-color);\n",
              "      border-bottom-color: var(--fill-color);\n",
              "    }\n",
              "    90% {\n",
              "      border-color: transparent;\n",
              "      border-bottom-color: var(--fill-color);\n",
              "    }\n",
              "  }\n",
              "</style>\n",
              "\n",
              "  <script>\n",
              "    async function quickchart(key) {\n",
              "      const quickchartButtonEl =\n",
              "        document.querySelector('#' + key + ' button');\n",
              "      quickchartButtonEl.disabled = true;  // To prevent multiple clicks.\n",
              "      quickchartButtonEl.classList.add('colab-df-spinner');\n",
              "      try {\n",
              "        const charts = await google.colab.kernel.invokeFunction(\n",
              "            'suggestCharts', [key], {});\n",
              "      } catch (error) {\n",
              "        console.error('Error during call to suggestCharts:', error);\n",
              "      }\n",
              "      quickchartButtonEl.classList.remove('colab-df-spinner');\n",
              "      quickchartButtonEl.classList.add('colab-df-quickchart-complete');\n",
              "    }\n",
              "    (() => {\n",
              "      let quickchartButtonEl =\n",
              "        document.querySelector('#df-1a69ccec-566d-43fd-bf45-f76adb3caa84 button');\n",
              "      quickchartButtonEl.style.display =\n",
              "        google.colab.kernel.accessAllowed ? 'block' : 'none';\n",
              "    })();\n",
              "  </script>\n",
              "</div>\n",
              "\n",
              "  <div id=\"id_62d0deaf-c041-4605-ba25-ca59c10b4815\">\n",
              "    <style>\n",
              "      .colab-df-generate {\n",
              "        background-color: #E8F0FE;\n",
              "        border: none;\n",
              "        border-radius: 50%;\n",
              "        cursor: pointer;\n",
              "        display: none;\n",
              "        fill: #1967D2;\n",
              "        height: 32px;\n",
              "        padding: 0 0 0 0;\n",
              "        width: 32px;\n",
              "      }\n",
              "\n",
              "      .colab-df-generate:hover {\n",
              "        background-color: #E2EBFA;\n",
              "        box-shadow: 0px 1px 2px rgba(60, 64, 67, 0.3), 0px 1px 3px 1px rgba(60, 64, 67, 0.15);\n",
              "        fill: #174EA6;\n",
              "      }\n",
              "\n",
              "      [theme=dark] .colab-df-generate {\n",
              "        background-color: #3B4455;\n",
              "        fill: #D2E3FC;\n",
              "      }\n",
              "\n",
              "      [theme=dark] .colab-df-generate:hover {\n",
              "        background-color: #434B5C;\n",
              "        box-shadow: 0px 1px 3px 1px rgba(0, 0, 0, 0.15);\n",
              "        filter: drop-shadow(0px 1px 2px rgba(0, 0, 0, 0.3));\n",
              "        fill: #FFFFFF;\n",
              "      }\n",
              "    </style>\n",
              "    <button class=\"colab-df-generate\" onclick=\"generateWithVariable('df')\"\n",
              "            title=\"Generate code using this dataframe.\"\n",
              "            style=\"display:none;\">\n",
              "\n",
              "  <svg xmlns=\"http://www.w3.org/2000/svg\" height=\"24px\"viewBox=\"0 0 24 24\"\n",
              "       width=\"24px\">\n",
              "    <path d=\"M7,19H8.4L18.45,9,17,7.55,7,17.6ZM5,21V16.75L18.45,3.32a2,2,0,0,1,2.83,0l1.4,1.43a1.91,1.91,0,0,1,.58,1.4,1.91,1.91,0,0,1-.58,1.4L9.25,21ZM18.45,9,17,7.55Zm-12,3A5.31,5.31,0,0,0,4.9,8.1,5.31,5.31,0,0,0,1,6.5,5.31,5.31,0,0,0,4.9,4.9,5.31,5.31,0,0,0,6.5,1,5.31,5.31,0,0,0,8.1,4.9,5.31,5.31,0,0,0,12,6.5,5.46,5.46,0,0,0,6.5,12Z\"/>\n",
              "  </svg>\n",
              "    </button>\n",
              "    <script>\n",
              "      (() => {\n",
              "      const buttonEl =\n",
              "        document.querySelector('#id_62d0deaf-c041-4605-ba25-ca59c10b4815 button.colab-df-generate');\n",
              "      buttonEl.style.display =\n",
              "        google.colab.kernel.accessAllowed ? 'block' : 'none';\n",
              "\n",
              "      buttonEl.onclick = () => {\n",
              "        google.colab.notebook.generateWithVariable('df');\n",
              "      }\n",
              "      })();\n",
              "    </script>\n",
              "  </div>\n",
              "\n",
              "    </div>\n",
              "  </div>\n"
            ],
            "application/vnd.google.colaboratory.intrinsic+json": {
              "type": "dataframe",
              "variable_name": "df",
              "summary": "{\n  \"name\": \"df\",\n  \"rows\": 6607,\n  \"fields\": [\n    {\n      \"column\": \"horas_estudio\",\n      \"properties\": {\n        \"dtype\": \"number\",\n        \"std\": 5,\n        \"min\": 1,\n        \"max\": 44,\n        \"num_unique_values\": 41,\n        \"samples\": [\n          27,\n          20,\n          10\n        ],\n        \"semantic_type\": \"\",\n        \"description\": \"\"\n      }\n    },\n    {\n      \"column\": \"asistencia\",\n      \"properties\": {\n        \"dtype\": \"number\",\n        \"std\": 11,\n        \"min\": 60,\n        \"max\": 100,\n        \"num_unique_values\": 41,\n        \"samples\": [\n          72,\n          60,\n          80\n        ],\n        \"semantic_type\": \"\",\n        \"description\": \"\"\n      }\n    },\n    {\n      \"column\": \"participacion_parental\",\n      \"properties\": {\n        \"dtype\": \"category\",\n        \"num_unique_values\": 3,\n        \"samples\": [\n          \"bajo\",\n          \"medio\",\n          \"elevado\"\n        ],\n        \"semantic_type\": \"\",\n        \"description\": \"\"\n      }\n    },\n    {\n      \"column\": \"acceso_a_recursos\",\n      \"properties\": {\n        \"dtype\": \"category\",\n        \"num_unique_values\": 3,\n        \"samples\": [\n          \"elevado\",\n          \"medio\",\n          \"bajo\"\n        ],\n        \"semantic_type\": \"\",\n        \"description\": \"\"\n      }\n    },\n    {\n      \"column\": \"actividades_extracurriculares\",\n      \"properties\": {\n        \"dtype\": \"category\",\n        \"num_unique_values\": 2,\n        \"samples\": [\n          \"si\",\n          \"no\"\n        ],\n        \"semantic_type\": \"\",\n        \"description\": \"\"\n      }\n    },\n    {\n      \"column\": \"horas_suenio\",\n      \"properties\": {\n        \"dtype\": \"number\",\n        \"std\": 1,\n        \"min\": 4,\n        \"max\": 10,\n        \"num_unique_values\": 7,\n        \"samples\": [\n          7,\n          8\n        ],\n        \"semantic_type\": \"\",\n        \"description\": \"\"\n      }\n    },\n    {\n      \"column\": \"calificaciones_previas\",\n      \"properties\": {\n        \"dtype\": \"number\",\n        \"std\": 14,\n        \"min\": 50,\n        \"max\": 100,\n        \"num_unique_values\": 51,\n        \"samples\": [\n          64,\n          62\n        ],\n        \"semantic_type\": \"\",\n        \"description\": \"\"\n      }\n    },\n    {\n      \"column\": \"nivel_motivacion\",\n      \"properties\": {\n        \"dtype\": \"category\",\n        \"num_unique_values\": 3,\n        \"samples\": [\n          \"bajo\",\n          \"medio\"\n        ],\n        \"semantic_type\": \"\",\n        \"description\": \"\"\n      }\n    },\n    {\n      \"column\": \"acceso_internet\",\n      \"properties\": {\n        \"dtype\": \"category\",\n        \"num_unique_values\": 2,\n        \"samples\": [\n          \"no\",\n          \"si\"\n        ],\n        \"semantic_type\": \"\",\n        \"description\": \"\"\n      }\n    },\n    {\n      \"column\": \"sesiones_tutoria\",\n      \"properties\": {\n        \"dtype\": \"number\",\n        \"std\": 1,\n        \"min\": 0,\n        \"max\": 8,\n        \"num_unique_values\": 9,\n        \"samples\": [\n          7,\n          2\n        ],\n        \"semantic_type\": \"\",\n        \"description\": \"\"\n      }\n    },\n    {\n      \"column\": \"ingreso_familiar\",\n      \"properties\": {\n        \"dtype\": \"category\",\n        \"num_unique_values\": 3,\n        \"samples\": [\n          \"bajo\",\n          \"medio\"\n        ],\n        \"semantic_type\": \"\",\n        \"description\": \"\"\n      }\n    },\n    {\n      \"column\": \"calidad_profesorado\",\n      \"properties\": {\n        \"dtype\": \"category\",\n        \"num_unique_values\": 3,\n        \"samples\": [\n          \"medio\",\n          \"bajo\"\n        ],\n        \"semantic_type\": \"\",\n        \"description\": \"\"\n      }\n    },\n    {\n      \"column\": \"tipo_escuela\",\n      \"properties\": {\n        \"dtype\": \"category\",\n        \"num_unique_values\": 2,\n        \"samples\": [\n          \"privado\",\n          \"publico\"\n        ],\n        \"semantic_type\": \"\",\n        \"description\": \"\"\n      }\n    },\n    {\n      \"column\": \"influencia_companieros\",\n      \"properties\": {\n        \"dtype\": \"category\",\n        \"num_unique_values\": 3,\n        \"samples\": [\n          \"positivo\",\n          \"negativo\"\n        ],\n        \"semantic_type\": \"\",\n        \"description\": \"\"\n      }\n    },\n    {\n      \"column\": \"actividad_fisica\",\n      \"properties\": {\n        \"dtype\": \"number\",\n        \"std\": 1,\n        \"min\": 0,\n        \"max\": 6,\n        \"num_unique_values\": 7,\n        \"samples\": [\n          3,\n          4\n        ],\n        \"semantic_type\": \"\",\n        \"description\": \"\"\n      }\n    },\n    {\n      \"column\": \"discapacidad_aprendizaje\",\n      \"properties\": {\n        \"dtype\": \"category\",\n        \"num_unique_values\": 2,\n        \"samples\": [\n          \"si\",\n          \"no\"\n        ],\n        \"semantic_type\": \"\",\n        \"description\": \"\"\n      }\n    },\n    {\n      \"column\": \"nivel_estudio_padres\",\n      \"properties\": {\n        \"dtype\": \"category\",\n        \"num_unique_values\": 3,\n        \"samples\": [\n          \"preparatoria\",\n          \"universidad\"\n        ],\n        \"semantic_type\": \"\",\n        \"description\": \"\"\n      }\n    },\n    {\n      \"column\": \"distancia\",\n      \"properties\": {\n        \"dtype\": \"category\",\n        \"num_unique_values\": 3,\n        \"samples\": [\n          \"cercano\",\n          \"moderado\"\n        ],\n        \"semantic_type\": \"\",\n        \"description\": \"\"\n      }\n    },\n    {\n      \"column\": \"genero\",\n      \"properties\": {\n        \"dtype\": \"category\",\n        \"num_unique_values\": 2,\n        \"samples\": [\n          \"mujer\",\n          \"hombre\"\n        ],\n        \"semantic_type\": \"\",\n        \"description\": \"\"\n      }\n    },\n    {\n      \"column\": \"puntaje_examen\",\n      \"properties\": {\n        \"dtype\": \"number\",\n        \"std\": 3,\n        \"min\": 55,\n        \"max\": 101,\n        \"num_unique_values\": 45,\n        \"samples\": [\n          96,\n          84\n        ],\n        \"semantic_type\": \"\",\n        \"description\": \"\"\n      }\n    }\n  ]\n}"
            }
          },
          "metadata": {},
          "execution_count": 83
        }
      ]
    },
    {
      "cell_type": "markdown",
      "source": [
        "## participacion_parental"
      ],
      "metadata": {
        "id": "hn38gablZd1Z"
      }
    },
    {
      "cell_type": "code",
      "source": [
        "df['participacion_parental'].unique()"
      ],
      "metadata": {
        "colab": {
          "base_uri": "https://localhost:8080/"
        },
        "id": "EcwrKJoXW9Uo",
        "outputId": "32af84ed-d53d-49de-c1bd-0553a4a4835a"
      },
      "execution_count": 84,
      "outputs": [
        {
          "output_type": "execute_result",
          "data": {
            "text/plain": [
              "array(['bajo', 'medio', 'elevado'], dtype=object)"
            ]
          },
          "metadata": {},
          "execution_count": 84
        }
      ]
    },
    {
      "cell_type": "code",
      "source": [
        "# Si todos los grupos tienen una distribución normal\n",
        "import scipy.stats as stats\n",
        "\n",
        "nivel_de_significancia = 0.05\n",
        "\n",
        "# Realizar ANOVA\n",
        "anova_result = stats.f_oneway(\n",
        "    df[df['participacion_parental'] == 'bajo']['puntaje_examen'],\n",
        "    df[df['participacion_parental'] == 'medio']['puntaje_examen'],\n",
        "    df[df['participacion_parental'] == 'elevado']['puntaje_examen'],\n",
        "\n",
        ")\n",
        "\n",
        "# Interpretar los resultados\n",
        "print(\"Resultados del ANOVA:\")\n",
        "print(f\"F-Estadístico: {anova_result.statistic:.2f}\")\n",
        "print(f\"Valor p: {anova_result.pvalue:.5f}\\n\")\n",
        "\n",
        "if anova_result.pvalue < nivel_de_significancia:\n",
        "    print(\"Conclusión: Hay diferencias significativas entre al menos dos tratamientos.\")\n",
        "else:\n",
        "    print(\"Conclusión: No hay diferencias significativas entre los tratamientos.\")"
      ],
      "metadata": {
        "colab": {
          "base_uri": "https://localhost:8080/"
        },
        "id": "vEIvFzS6W6ug",
        "outputId": "fc8085d9-5cde-4fa9-f56a-5aeced6335ab"
      },
      "execution_count": 85,
      "outputs": [
        {
          "output_type": "stream",
          "name": "stdout",
          "text": [
            "Resultados del ANOVA:\n",
            "F-Estadístico: 84.49\n",
            "Valor p: 0.00000\n",
            "\n",
            "Conclusión: Hay diferencias significativas entre al menos dos tratamientos.\n"
          ]
        }
      ]
    },
    {
      "cell_type": "code",
      "source": [
        "from statsmodels.stats.multicomp import pairwise_tukeyhsd\n",
        "import matplotlib.pyplot as plt\n",
        "\n",
        "nivel_de_significancia = 0.05\n",
        "\n",
        "# Prueba de Tukey\n",
        "tukey = pairwise_tukeyhsd(endog=df['puntaje_examen'], groups=df['participacion_parental'], alpha=nivel_de_significancia)\n",
        "\n",
        "# Mostrar los resultados\n",
        "print(tukey)\n",
        "\n",
        "# Gráfico de las diferencias entre grupos\n",
        "tukey.plot_simultaneous(ylabel=\"Grupos\", xlabel=\"Medias\")\n",
        "\n",
        "plt.gca().spines['right'].set_visible(False) # derecha\n",
        "plt.gca().spines['top'].set_visible(False)   # superior\n",
        "plt.title(\"Múltiples comparaciones entre todos los pares (Tukey)\")"
      ],
      "metadata": {
        "colab": {
          "base_uri": "https://localhost:8080/",
          "height": 0
        },
        "id": "pG3A1G-oZpOx",
        "outputId": "2a4651d9-ca0b-48d9-bda5-ee8490faa336"
      },
      "execution_count": 86,
      "outputs": [
        {
          "output_type": "stream",
          "name": "stdout",
          "text": [
            " Multiple Comparison of Means - Tukey HSD, FWER=0.05 \n",
            "=====================================================\n",
            " group1  group2 meandiff p-adj  lower   upper  reject\n",
            "-----------------------------------------------------\n",
            "   bajo elevado   1.7345   0.0  1.4133  2.0557   True\n",
            "   bajo   medio   0.7399   0.0  0.4487  1.0311   True\n",
            "elevado   medio  -0.9946   0.0 -1.2528 -0.7364   True\n",
            "-----------------------------------------------------\n"
          ]
        },
        {
          "output_type": "execute_result",
          "data": {
            "text/plain": [
              "Text(0.5, 1.0, 'Múltiples comparaciones entre todos los pares (Tukey)')"
            ]
          },
          "metadata": {},
          "execution_count": 86
        },
        {
          "output_type": "display_data",
          "data": {
            "text/plain": [
              "<Figure size 1000x600 with 1 Axes>"
            ],
            "image/png": "[encoded data removed]"
          },
          "metadata": {}
        }
      ]
    },
    {
      "cell_type": "markdown",
      "source": [
        "## acceso_a_recursos"
      ],
      "metadata": {
        "id": "mdW1VsvRZ3a6"
      }
    },
    {
      "cell_type": "code",
      "source": [
        "df['acceso_a_recursos'].unique()"
      ],
      "metadata": {
        "colab": {
          "base_uri": "https://localhost:8080/"
        },
        "id": "7HX2Ktv7742U",
        "outputId": "731b4312-84e1-4543-9db9-5a795f8c0b2f"
      },
      "execution_count": 87,
      "outputs": [
        {
          "output_type": "execute_result",
          "data": {
            "text/plain": [
              "array(['elevado', 'medio', 'bajo'], dtype=object)"
            ]
          },
          "metadata": {},
          "execution_count": 87
        }
      ]
    },
    {
      "cell_type": "code",
      "source": [
        "# Si todos los grupos tienen una distribución normal\n",
        "import scipy.stats as stats\n",
        "\n",
        "nivel_de_significancia = 0.05\n",
        "\n",
        "# Realizar ANOVA\n",
        "anova_result = stats.f_oneway(\n",
        "    df[df['acceso_a_recursos'] == 'elevado']['puntaje_examen'],\n",
        "    df[df['acceso_a_recursos'] == 'medio']['puntaje_examen'],\n",
        "    df[df['acceso_a_recursos'] == 'bajo']['puntaje_examen'],\n",
        "\n",
        ")\n",
        "\n",
        "# Interpretar los resultados\n",
        "print(\"Resultados del ANOVA:\")\n",
        "print(f\"F-Estadístico: {anova_result.statistic:.2f}\")\n",
        "print(f\"Valor p: {anova_result.pvalue:.5f}\\n\")\n",
        "\n",
        "if anova_result.pvalue < nivel_de_significancia:\n",
        "    print(\"Conclusión: Hay diferencias significativas entre al menos dos tratamientos.\")\n",
        "else:\n",
        "    print(\"Conclusión: No hay diferencias significativas entre los tratamientos.\")"
      ],
      "metadata": {
        "colab": {
          "base_uri": "https://localhost:8080/"
        },
        "id": "k8YsimHv8E5X",
        "outputId": "464e32d7-12a3-4e0d-8537-61e9cc7fd1fd"
      },
      "execution_count": 88,
      "outputs": [
        {
          "output_type": "stream",
          "name": "stdout",
          "text": [
            "Resultados del ANOVA:\n",
            "F-Estadístico: 83.50\n",
            "Valor p: 0.00000\n",
            "\n",
            "Conclusión: Hay diferencias significativas entre al menos dos tratamientos.\n"
          ]
        }
      ]
    },
    {
      "cell_type": "code",
      "source": [
        "\n",
        "nivel_de_significancia = 0.05\n",
        "\n",
        "# Prueba de Tukey\n",
        "tukey = pairwise_tukeyhsd(endog=df['puntaje_examen'], groups=df['acceso_a_recursos'], alpha=nivel_de_significancia)\n",
        "\n",
        "# Mostrar los resultados\n",
        "print(tukey)\n",
        "\n",
        "# Gráfico de las diferencias entre grupos\n",
        "tukey.plot_simultaneous(ylabel=\"Grupos\", xlabel=\"Medias\")\n",
        "\n",
        "plt.gca().spines['right'].set_visible(False) # derecha\n",
        "plt.gca().spines['top'].set_visible(False)   # superior\n",
        "plt.title(\"Múltiples comparaciones entre todos los pares (Tukey)\")"
      ],
      "metadata": {
        "colab": {
          "base_uri": "https://localhost:8080/",
          "height": 0
        },
        "id": "tHh436588ZZe",
        "outputId": "53607899-3266-403f-bab0-1790cffd3628"
      },
      "execution_count": 89,
      "outputs": [
        {
          "output_type": "stream",
          "name": "stdout",
          "text": [
            "Multiple Comparison of Means - Tukey HSD, FWER=0.05\n",
            "===================================================\n",
            " group1  group2 meandiff p-adj lower  upper  reject\n",
            "---------------------------------------------------\n",
            "   bajo elevado    1.437   0.0 1.1762 1.6978   True\n",
            "   bajo   medio    0.616   0.0 0.3384 0.8936   True\n",
            "elevado   medio   -0.821   0.0 -1.123 -0.519   True\n",
            "---------------------------------------------------\n"
          ]
        },
        {
          "output_type": "execute_result",
          "data": {
            "text/plain": [
              "Text(0.5, 1.0, 'Múltiples comparaciones entre todos los pares (Tukey)')"
            ]
          },
          "metadata": {},
          "execution_count": 89
        },
        {
          "output_type": "display_data",
          "data": {
            "text/plain": [
              "<Figure size 1000x600 with 1 Axes>"
            ],
            "image/png": "[encoded data removed]"
          },
          "metadata": {}
        }
      ]
    },
    {
      "cell_type": "markdown",
      "source": [
        "## actividades_extracurriculares"
      ],
      "metadata": {
        "id": "NAhxY9JE8xe2"
      }
    },
    {
      "cell_type": "code",
      "source": [
        "df['actividades_extracurriculares'].unique()"
      ],
      "metadata": {
        "colab": {
          "base_uri": "https://localhost:8080/"
        },
        "id": "qy0-VkJt8ynG",
        "outputId": "a5c5bfec-4f6f-49ef-8692-745aabf65f47"
      },
      "execution_count": 90,
      "outputs": [
        {
          "output_type": "execute_result",
          "data": {
            "text/plain": [
              "array(['no', 'si'], dtype=object)"
            ]
          },
          "metadata": {},
          "execution_count": 90
        }
      ]
    },
    {
      "cell_type": "code",
      "source": [
        "nivel_de_significancia = 0.05\n",
        "\n",
        "# Realizar ANOVA\n",
        "anova_result = stats.f_oneway(\n",
        "    df[df['actividades_extracurriculares'] == 'no']['puntaje_examen'],\n",
        "    df[df['actividades_extracurriculares'] == 'si']['puntaje_examen'],\n",
        "\n",
        ")\n",
        "\n",
        "# Interpretar los resultados\n",
        "print(\"Resultados del ANOVA:\")\n",
        "print(f\"F-Estadístico: {anova_result.statistic:.2f}\")\n",
        "print(f\"Valor p: {anova_result.pvalue:.5f}\\n\")\n",
        "\n",
        "if anova_result.pvalue < nivel_de_significancia:\n",
        "    print(\"Conclusión: Hay diferencias significativas entre al menos dos tratamientos.\")\n",
        "else:\n",
        "    print(\"Conclusión: No hay diferencias significativas entre los tratamientos.\")"
      ],
      "metadata": {
        "colab": {
          "base_uri": "https://localhost:8080/"
        },
        "id": "pCpFBf0r86Pw",
        "outputId": "fd48e4f2-81f2-4ae5-f575-c6fee2dd50d6"
      },
      "execution_count": 91,
      "outputs": [
        {
          "output_type": "stream",
          "name": "stdout",
          "text": [
            "Resultados del ANOVA:\n",
            "F-Estadístico: 27.49\n",
            "Valor p: 0.00000\n",
            "\n",
            "Conclusión: Hay diferencias significativas entre al menos dos tratamientos.\n"
          ]
        }
      ]
    },
    {
      "cell_type": "code",
      "source": [
        "nivel_de_significancia = 0.05\n",
        "\n",
        "# Prueba de Tukey\n",
        "tukey = pairwise_tukeyhsd(endog=df['puntaje_examen'], groups=df['actividades_extracurriculares'], alpha=nivel_de_significancia)\n",
        "\n",
        "# Mostrar los resultados\n",
        "print(tukey)\n",
        "\n",
        "# Gráfico de las diferencias entre grupos\n",
        "tukey.plot_simultaneous(ylabel=\"Grupos\", xlabel=\"Medias\")\n",
        "\n",
        "plt.gca().spines['right'].set_visible(False) # derecha\n",
        "plt.gca().spines['top'].set_visible(False)   # superior\n",
        "plt.title(\"Múltiples comparaciones entre todos los pares (Tukey)\")"
      ],
      "metadata": {
        "colab": {
          "base_uri": "https://localhost:8080/",
          "height": 0
        },
        "id": "3d2wK5eb9JdG",
        "outputId": "c0d63513-0db6-4bd7-c453-9889f9c06be8"
      },
      "execution_count": 92,
      "outputs": [
        {
          "output_type": "stream",
          "name": "stdout",
          "text": [
            "Multiple Comparison of Means - Tukey HSD, FWER=0.05\n",
            "=================================================\n",
            "group1 group2 meandiff p-adj lower  upper  reject\n",
            "-------------------------------------------------\n",
            "    no     si   0.5104   0.0 0.3196 0.7012   True\n",
            "-------------------------------------------------\n"
          ]
        },
        {
          "output_type": "execute_result",
          "data": {
            "text/plain": [
              "Text(0.5, 1.0, 'Múltiples comparaciones entre todos los pares (Tukey)')"
            ]
          },
          "metadata": {},
          "execution_count": 92
        },
        {
          "output_type": "display_data",
          "data": {
            "text/plain": [
              "<Figure size 1000x600 with 1 Axes>"
            ],
            "image/png": "[encoded data removed]"
          },
          "metadata": {}
        }
      ]
    },
    {
      "cell_type": "markdown",
      "source": [
        "## nivel_motivacion"
      ],
      "metadata": {
        "id": "-x0waUtR9Zab"
      }
    },
    {
      "cell_type": "code",
      "source": [
        "df['nivel_motivacion'].unique()"
      ],
      "metadata": {
        "colab": {
          "base_uri": "https://localhost:8080/"
        },
        "id": "VxpzLUMz9eG8",
        "outputId": "70f7427b-4f12-4292-f996-23cbcb510f0d"
      },
      "execution_count": 93,
      "outputs": [
        {
          "output_type": "execute_result",
          "data": {
            "text/plain": [
              "array(['bajo', 'medio', 'elevado'], dtype=object)"
            ]
          },
          "metadata": {},
          "execution_count": 93
        }
      ]
    },
    {
      "cell_type": "code",
      "source": [
        "nivel_de_significancia = 0.05\n",
        "\n",
        "# Realizar ANOVA\n",
        "anova_result = stats.f_oneway(\n",
        "    df[df['nivel_motivacion'] == 'bajo']['puntaje_examen'],\n",
        "    df[df['nivel_motivacion'] == 'medio']['puntaje_examen'],\n",
        "    df[df['nivel_motivacion'] == 'elevado']['puntaje_examen'],\n",
        "\n",
        ")\n",
        "\n",
        "# Interpretar los resultados\n",
        "print(\"Resultados del ANOVA:\")\n",
        "print(f\"F-Estadístico: {anova_result.statistic:.2f}\")\n",
        "print(f\"Valor p: {anova_result.pvalue:.5f}\\n\")\n",
        "\n",
        "if anova_result.pvalue < nivel_de_significancia:\n",
        "    print(\"Conclusión: Hay diferencias significativas entre al menos dos tratamientos.\")\n",
        "else:\n",
        "    print(\"Conclusión: No hay diferencias significativas entre los tratamientos.\")"
      ],
      "metadata": {
        "colab": {
          "base_uri": "https://localhost:8080/"
        },
        "id": "T00YQGF39lz3",
        "outputId": "4c3327f7-1bf8-47e4-c1e4-610521e5b5a9"
      },
      "execution_count": 94,
      "outputs": [
        {
          "output_type": "stream",
          "name": "stdout",
          "text": [
            "Resultados del ANOVA:\n",
            "F-Estadístico: 25.72\n",
            "Valor p: 0.00000\n",
            "\n",
            "Conclusión: Hay diferencias significativas entre al menos dos tratamientos.\n"
          ]
        }
      ]
    },
    {
      "cell_type": "code",
      "source": [
        "nivel_de_significancia = 0.05\n",
        "\n",
        "# Prueba de Tukey\n",
        "tukey = pairwise_tukeyhsd(endog=df['puntaje_examen'], groups=df['nivel_motivacion'], alpha=nivel_de_significancia)\n",
        "\n",
        "# Mostrar los resultados\n",
        "print(tukey)\n",
        "\n",
        "# Gráfico de las diferencias entre grupos\n",
        "tukey.plot_simultaneous(ylabel=\"Grupos\", xlabel=\"Medias\")\n",
        "\n",
        "plt.gca().spines['right'].set_visible(False) # derecha\n",
        "plt.gca().spines['top'].set_visible(False)   # superior\n",
        "plt.title(\"Múltiples comparaciones entre todos los pares (Tukey)\")"
      ],
      "metadata": {
        "colab": {
          "base_uri": "https://localhost:8080/",
          "height": 0
        },
        "id": "pLePX2Ke9y4b",
        "outputId": "1c404327-2d1d-4ad8-8194-8e2a4f099429"
      },
      "execution_count": 95,
      "outputs": [
        {
          "output_type": "stream",
          "name": "stdout",
          "text": [
            " Multiple Comparison of Means - Tukey HSD, FWER=0.05 \n",
            "=====================================================\n",
            " group1  group2 meandiff p-adj  lower   upper  reject\n",
            "-----------------------------------------------------\n",
            "   bajo elevado   0.9521    0.0 0.6278  1.2765   True\n",
            "   bajo   medio   0.5785    0.0 0.3191  0.8378   True\n",
            "elevado   medio  -0.3737 0.0085 -0.669 -0.0783   True\n",
            "-----------------------------------------------------\n"
          ]
        },
        {
          "output_type": "execute_result",
          "data": {
            "text/plain": [
              "Text(0.5, 1.0, 'Múltiples comparaciones entre todos los pares (Tukey)')"
            ]
          },
          "metadata": {},
          "execution_count": 95
        },
        {
          "output_type": "display_data",
          "data": {
            "text/plain": [
              "<Figure size 1000x600 with 1 Axes>"
            ],
            "image/png": "[encoded data removed]"
          },
          "metadata": {}
        }
      ]
    },
    {
      "cell_type": "markdown",
      "source": [
        "## acceso_internet"
      ],
      "metadata": {
        "id": "hOgcruE795a1"
      }
    },
    {
      "cell_type": "code",
      "source": [
        "df['acceso_internet'].unique()"
      ],
      "metadata": {
        "colab": {
          "base_uri": "https://localhost:8080/"
        },
        "id": "aG_BC1YR98G2",
        "outputId": "f08bb8e9-62c3-405b-bc04-1df57e2e7cca"
      },
      "execution_count": 96,
      "outputs": [
        {
          "output_type": "execute_result",
          "data": {
            "text/plain": [
              "array(['si', 'no'], dtype=object)"
            ]
          },
          "metadata": {},
          "execution_count": 96
        }
      ]
    },
    {
      "cell_type": "code",
      "source": [
        "nivel_de_significancia = 0.05\n",
        "\n",
        "# Realizar ANOVA\n",
        "anova_result = stats.f_oneway(\n",
        "    df[df['acceso_internet'] == 'si']['puntaje_examen'],\n",
        "    df[df['acceso_internet'] == 'no']['puntaje_examen'],\n",
        "\n",
        ")\n",
        "\n",
        "# Interpretar los resultados\n",
        "print(\"Resultados del ANOVA:\")\n",
        "print(f\"F-Estadístico: {anova_result.statistic:.2f}\")\n",
        "print(f\"Valor p: {anova_result.pvalue:.5f}\\n\")\n",
        "\n",
        "if anova_result.pvalue < nivel_de_significancia:\n",
        "    print(\"Conclusión: Hay diferencias significativas entre al menos dos tratamientos.\")\n",
        "else:\n",
        "    print(\"Conclusión: No hay diferencias significativas entre los tratamientos.\")"
      ],
      "metadata": {
        "colab": {
          "base_uri": "https://localhost:8080/"
        },
        "id": "SsCCUAnR-ArP",
        "outputId": "322fd16b-7e9f-4bfb-89fe-930597507b7d"
      },
      "execution_count": 97,
      "outputs": [
        {
          "output_type": "stream",
          "name": "stdout",
          "text": [
            "Resultados del ANOVA:\n",
            "F-Estadístico: 17.55\n",
            "Valor p: 0.00003\n",
            "\n",
            "Conclusión: Hay diferencias significativas entre al menos dos tratamientos.\n"
          ]
        }
      ]
    },
    {
      "cell_type": "code",
      "source": [
        "nivel_de_significancia = 0.05\n",
        "\n",
        "# Prueba de Tukey\n",
        "tukey = pairwise_tukeyhsd(endog=df['puntaje_examen'], groups=df['acceso_internet'], alpha=nivel_de_significancia)\n",
        "\n",
        "# Mostrar los resultados\n",
        "print(tukey)\n",
        "\n",
        "# Gráfico de las diferencias entre grupos\n",
        "tukey.plot_simultaneous(ylabel=\"Grupos\", xlabel=\"Medias\")\n",
        "\n",
        "plt.gca().spines['right'].set_visible(False) # derecha\n",
        "plt.gca().spines['top'].set_visible(False)   # superior\n",
        "plt.title(\"Múltiples comparaciones entre todos los pares (Tukey)\")"
      ],
      "metadata": {
        "colab": {
          "base_uri": "https://localhost:8080/",
          "height": 0
        },
        "id": "WYc3r5sk-MNr",
        "outputId": "5a883e6c-ba5b-4216-f044-632b339adc87"
      },
      "execution_count": 98,
      "outputs": [
        {
          "output_type": "stream",
          "name": "stdout",
          "text": [
            "Multiple Comparison of Means - Tukey HSD, FWER=0.05\n",
            "=================================================\n",
            "group1 group2 meandiff p-adj lower  upper  reject\n",
            "-------------------------------------------------\n",
            "    no     si   0.7578   0.0 0.4032 1.1125   True\n",
            "-------------------------------------------------\n"
          ]
        },
        {
          "output_type": "execute_result",
          "data": {
            "text/plain": [
              "Text(0.5, 1.0, 'Múltiples comparaciones entre todos los pares (Tukey)')"
            ]
          },
          "metadata": {},
          "execution_count": 98
        },
        {
          "output_type": "display_data",
          "data": {
            "text/plain": [
              "<Figure size 1000x600 with 1 Axes>"
            ],
            "image/png": "[encoded data removed]"
          },
          "metadata": {}
        }
      ]
    },
    {
      "cell_type": "markdown",
      "source": [
        "## ingreso_familiar"
      ],
      "metadata": {
        "id": "98jRSBjH-Vs-"
      }
    },
    {
      "cell_type": "code",
      "source": [
        "df['ingreso_familiar'].unique()"
      ],
      "metadata": {
        "colab": {
          "base_uri": "https://localhost:8080/"
        },
        "id": "23eRmdDP-Wn3",
        "outputId": "961111af-7d08-4578-de42-74c7c9567df8"
      },
      "execution_count": 99,
      "outputs": [
        {
          "output_type": "execute_result",
          "data": {
            "text/plain": [
              "array(['bajo', 'medio', 'elevado'], dtype=object)"
            ]
          },
          "metadata": {},
          "execution_count": 99
        }
      ]
    },
    {
      "cell_type": "code",
      "source": [
        "nivel_de_significancia = 0.05\n",
        "\n",
        "# Realizar ANOVA\n",
        "anova_result = stats.f_oneway(\n",
        "    df[df['ingreso_familiar'] == 'bajo']['puntaje_examen'],\n",
        "    df[df['ingreso_familiar'] == 'medio']['puntaje_examen'],\n",
        "    df[df['ingreso_familiar'] == 'elevado']['puntaje_examen'],\n",
        "\n",
        ")\n",
        "\n",
        "# Interpretar los resultados\n",
        "print(\"Resultados del ANOVA:\")\n",
        "print(f\"F-Estadístico: {anova_result.statistic:.2f}\")\n",
        "print(f\"Valor p: {anova_result.pvalue:.5f}\\n\")\n",
        "\n",
        "if anova_result.pvalue < nivel_de_significancia:\n",
        "    print(\"Conclusión: Hay diferencias significativas entre al menos dos tratamientos.\")\n",
        "else:\n",
        "    print(\"Conclusión: No hay diferencias significativas entre los tratamientos.\")"
      ],
      "metadata": {
        "colab": {
          "base_uri": "https://localhost:8080/"
        },
        "id": "-zNyOlXH-cPo",
        "outputId": "d6dd0437-2b96-44d6-99f1-6be87714af93"
      },
      "execution_count": 100,
      "outputs": [
        {
          "output_type": "stream",
          "name": "stdout",
          "text": [
            "Resultados del ANOVA:\n",
            "F-Estadístico: 29.79\n",
            "Valor p: 0.00000\n",
            "\n",
            "Conclusión: Hay diferencias significativas entre al menos dos tratamientos.\n"
          ]
        }
      ]
    },
    {
      "cell_type": "code",
      "source": [
        "nivel_de_significancia = 0.05\n",
        "\n",
        "# Prueba de Tukey\n",
        "tukey = pairwise_tukeyhsd(endog=df['puntaje_examen'], groups=df['ingreso_familiar'], alpha=nivel_de_significancia)\n",
        "\n",
        "# Mostrar los resultados\n",
        "print(tukey)\n",
        "\n",
        "# Gráfico de las diferencias entre grupos\n",
        "tukey.plot_simultaneous(ylabel=\"Grupos\", xlabel=\"Medias\")\n",
        "\n",
        "plt.gca().spines['right'].set_visible(False) # derecha\n",
        "plt.gca().spines['top'].set_visible(False)   # superior\n",
        "plt.title(\"Múltiples comparaciones entre todos los pares (Tukey)\")"
      ],
      "metadata": {
        "colab": {
          "base_uri": "https://localhost:8080/",
          "height": 0
        },
        "id": "QfhA05LG-ppl",
        "outputId": "4b4ab477-f696-4246-ef6a-102751adda4d"
      },
      "execution_count": 101,
      "outputs": [
        {
          "output_type": "stream",
          "name": "stdout",
          "text": [
            " Multiple Comparison of Means - Tukey HSD, FWER=0.05  \n",
            "======================================================\n",
            " group1  group2 meandiff p-adj   lower   upper  reject\n",
            "------------------------------------------------------\n",
            "   bajo elevado    0.994    0.0  0.6844  1.3035   True\n",
            "   bajo   medio   0.4865    0.0   0.238  0.7351   True\n",
            "elevado   medio  -0.5074 0.0004 -0.8171 -0.1977   True\n",
            "------------------------------------------------------\n"
          ]
        },
        {
          "output_type": "execute_result",
          "data": {
            "text/plain": [
              "Text(0.5, 1.0, 'Múltiples comparaciones entre todos los pares (Tukey)')"
            ]
          },
          "metadata": {},
          "execution_count": 101
        },
        {
          "output_type": "display_data",
          "data": {
            "text/plain": [
              "<Figure size 1000x600 with 1 Axes>"
            ],
            "image/png": "[encoded data removed]"
          },
          "metadata": {}
        }
      ]
    },
    {
      "cell_type": "markdown",
      "source": [
        "## calidad_profesorado\n",
        "\n",
        "\n"
      ],
      "metadata": {
        "id": "K8_O8AVt-zC4"
      }
    },
    {
      "cell_type": "code",
      "source": [
        "#para ver si hay valores nan\n",
        "print(df.isnull().sum())\n"
      ],
      "metadata": {
        "colab": {
          "base_uri": "https://localhost:8080/"
        },
        "id": "NFQ9LWTJx61U",
        "outputId": "b91aeb41-1342-4d93-c4d8-9959bc97b24f"
      },
      "execution_count": 102,
      "outputs": [
        {
          "output_type": "stream",
          "name": "stdout",
          "text": [
            "horas_estudio                     0\n",
            "asistencia                        0\n",
            "participacion_parental            0\n",
            "acceso_a_recursos                 0\n",
            "actividades_extracurriculares     0\n",
            "horas_suenio                      0\n",
            "calificaciones_previas            0\n",
            "nivel_motivacion                  0\n",
            "acceso_internet                   0\n",
            "sesiones_tutoria                  0\n",
            "ingreso_familiar                  0\n",
            "calidad_profesorado              78\n",
            "tipo_escuela                      0\n",
            "influencia_companieros            0\n",
            "actividad_fisica                  0\n",
            "discapacidad_aprendizaje          0\n",
            "nivel_estudio_padres             90\n",
            "distancia                        67\n",
            "genero                            0\n",
            "puntaje_examen                    0\n",
            "dtype: int64\n"
          ]
        }
      ]
    },
    {
      "cell_type": "code",
      "source": [
        "#eliminar los valores nan\n",
        "df = df.dropna(subset=['calidad_profesorado', 'puntaje_examen'])\n",
        "\n",
        "\n",
        "nivel_de_significancia = 0.05\n",
        "\n",
        "# Realizar ANOVA\n",
        "anova_result = stats.f_oneway(\n",
        "    df[df['calidad_profesorado'] == 'medio']['puntaje_examen'],\n",
        "    df[df['calidad_profesorado'] == 'bajo']['puntaje_examen'],\n",
        "    df[df['calidad_profesorado'] == 'elevado']['puntaje_examen'],\n",
        "\n",
        "\n",
        ")\n",
        "\n",
        "# Interpretar los resultados\n",
        "print(\"Resultados del ANOVA:\")\n",
        "print(f\"F-Estadístico: {anova_result.statistic:.2f}\")\n",
        "print(f\"Valor p: {anova_result.pvalue:.5f}\\n\")\n",
        "\n",
        "if anova_result.pvalue < nivel_de_significancia:\n",
        "    print(\"Conclusión: Hay diferencias significativas entre al menos dos tratamientos.\")\n",
        "else:\n",
        "    print(\"Conclusión: No hay diferencias significativas entre los tratamientos.\")"
      ],
      "metadata": {
        "colab": {
          "base_uri": "https://localhost:8080/"
        },
        "id": "oWay8yV4--gE",
        "outputId": "95180767-548d-4ebb-f28f-bab87bb9a438"
      },
      "execution_count": 103,
      "outputs": [
        {
          "output_type": "stream",
          "name": "stdout",
          "text": [
            "Resultados del ANOVA:\n",
            "F-Estadístico: 17.88\n",
            "Valor p: 0.00000\n",
            "\n",
            "Conclusión: Hay diferencias significativas entre al menos dos tratamientos.\n"
          ]
        }
      ]
    },
    {
      "cell_type": "code",
      "source": [
        "nivel_de_significancia = 0.05\n",
        "\n",
        "# Prueba de Tukey\n",
        "tukey = pairwise_tukeyhsd(endog=df['puntaje_examen'], groups=df['calidad_profesorado'], alpha=nivel_de_significancia)\n",
        "\n",
        "# Mostrar los resultados\n",
        "print(tukey)\n",
        "\n",
        "# Gráfico de las diferencias entre grupos\n",
        "tukey.plot_simultaneous(ylabel=\"Grupos\", xlabel=\"Medias\")\n",
        "\n",
        "plt.gca().spines['right'].set_visible(False) # derecha\n",
        "plt.gca().spines['top'].set_visible(False)   # superior\n",
        "plt.title(\"Múltiples comparaciones entre todos los pares (Tukey)\")"
      ],
      "metadata": {
        "colab": {
          "base_uri": "https://localhost:8080/",
          "height": 0
        },
        "id": "wy7wwHHT_MrB",
        "outputId": "65992326-2a4e-49d8-efea-9e0098881eef"
      },
      "execution_count": 64,
      "outputs": [
        {
          "output_type": "stream",
          "name": "stdout",
          "text": [
            " Multiple Comparison of Means - Tukey HSD, FWER=0.05  \n",
            "======================================================\n",
            " group1  group2 meandiff p-adj   lower   upper  reject\n",
            "------------------------------------------------------\n",
            "   bajo elevado   0.5545    0.0  0.2726  0.8365   True\n",
            "   bajo   medio  -0.1267 0.5127 -0.3962  0.1428  False\n",
            "elevado   medio  -0.6813    0.0 -0.9616 -0.4009   True\n",
            "------------------------------------------------------\n"
          ]
        },
        {
          "output_type": "execute_result",
          "data": {
            "text/plain": [
              "Text(0.5, 1.0, 'Múltiples comparaciones entre todos los pares (Tukey)')"
            ]
          },
          "metadata": {},
          "execution_count": 64
        },
        {
          "output_type": "display_data",
          "data": {
            "text/plain": [
              "<Figure size 1000x600 with 1 Axes>"
            ],
            "image/png": "[encoded data removed]"
          },
          "metadata": {}
        }
      ]
    },
    {
      "cell_type": "markdown",
      "source": [
        "## tipo_escuela"
      ],
      "metadata": {
        "id": "FCTEhRVE0z8n"
      }
    },
    {
      "cell_type": "code",
      "source": [
        "df['tipo_escuela'].unique()"
      ],
      "metadata": {
        "colab": {
          "base_uri": "https://localhost:8080/"
        },
        "id": "ixNrDmqt05MO",
        "outputId": "e65d076b-33eb-4db5-83e8-1d682912d1ef"
      },
      "execution_count": 65,
      "outputs": [
        {
          "output_type": "execute_result",
          "data": {
            "text/plain": [
              "array(['publico', 'privado'], dtype=object)"
            ]
          },
          "metadata": {},
          "execution_count": 65
        }
      ]
    },
    {
      "cell_type": "code",
      "source": [
        "nivel_de_significancia = 0.05\n",
        "\n",
        "# Realizar ANOVA\n",
        "anova_result = stats.f_oneway(\n",
        "    df[df['tipo_escuela'] == 'publico']['puntaje_examen'],\n",
        "    df[df['tipo_escuela'] == 'privado']['puntaje_examen'],\n",
        "\n",
        ")\n",
        "\n",
        "# Interpretar los resultados\n",
        "print(\"Resultados del ANOVA:\")\n",
        "print(f\"F-Estadístico: {anova_result.statistic:.2f}\")\n",
        "print(f\"Valor p: {anova_result.pvalue:.5f}\\n\")\n",
        "\n",
        "if anova_result.pvalue < nivel_de_significancia:\n",
        "    print(\"Conclusión: Hay diferencias significativas entre al menos dos tratamientos.\")\n",
        "else:\n",
        "    print(\"Conclusión: No hay diferencias significativas entre los tratamientos.\")"
      ],
      "metadata": {
        "colab": {
          "base_uri": "https://localhost:8080/"
        },
        "id": "6z_h-i-m1aL9",
        "outputId": "3575aa2d-691c-4a7c-9024-93cb317bab43"
      },
      "execution_count": 66,
      "outputs": [
        {
          "output_type": "stream",
          "name": "stdout",
          "text": [
            "Resultados del ANOVA:\n",
            "F-Estadístico: 0.58\n",
            "Valor p: 0.44455\n",
            "\n",
            "Conclusión: No hay diferencias significativas entre los tratamientos.\n"
          ]
        }
      ]
    },
    {
      "cell_type": "markdown",
      "source": [
        "## influencia_companieros"
      ],
      "metadata": {
        "id": "g12AKyBg15qY"
      }
    },
    {
      "cell_type": "code",
      "source": [
        "df['influencia_companieros'].unique()"
      ],
      "metadata": {
        "colab": {
          "base_uri": "https://localhost:8080/"
        },
        "id": "O_UP1L6z17Ed",
        "outputId": "0b6e7ba2-a20a-4f24-cc83-b216ff024704"
      },
      "execution_count": 67,
      "outputs": [
        {
          "output_type": "execute_result",
          "data": {
            "text/plain": [
              "array(['positivo', 'negativo', 'neutral'], dtype=object)"
            ]
          },
          "metadata": {},
          "execution_count": 67
        }
      ]
    },
    {
      "cell_type": "code",
      "source": [
        "nivel_de_significancia = 0.05\n",
        "\n",
        "# Realizar ANOVA\n",
        "anova_result = stats.f_oneway(\n",
        "    df[df['influencia_companieros'] == 'positivo']['puntaje_examen'],\n",
        "    df[df['influencia_companieros'] == 'negativo']['puntaje_examen'],\n",
        "    df[df['influencia_companieros'] == 'neutral']['puntaje_examen'],\n",
        "\n",
        "\n",
        ")\n",
        "\n",
        "# Interpretar los resultados\n",
        "print(\"Resultados del ANOVA:\")\n",
        "print(f\"F-Estadístico: {anova_result.statistic:.2f}\")\n",
        "print(f\"Valor p: {anova_result.pvalue:.5f}\\n\")\n",
        "\n",
        "if anova_result.pvalue < nivel_de_significancia:\n",
        "    print(\"Conclusión: Hay diferencias significativas entre al menos dos tratamientos.\")\n",
        "else:\n",
        "    print(\"Conclusión: No hay diferencias significativas entre los tratamientos.\")"
      ],
      "metadata": {
        "colab": {
          "base_uri": "https://localhost:8080/"
        },
        "id": "NdZKSW432CwG",
        "outputId": "9f3ac2ce-e661-4ac8-f5c5-26c33ff90aa8"
      },
      "execution_count": 68,
      "outputs": [
        {
          "output_type": "stream",
          "name": "stdout",
          "text": [
            "Resultados del ANOVA:\n",
            "F-Estadístico: 33.41\n",
            "Valor p: 0.00000\n",
            "\n",
            "Conclusión: Hay diferencias significativas entre al menos dos tratamientos.\n"
          ]
        }
      ]
    },
    {
      "cell_type": "code",
      "source": [
        "nivel_de_significancia = 0.05\n",
        "\n",
        "# Prueba de Tukey\n",
        "tukey = pairwise_tukeyhsd(endog=df['puntaje_examen'], groups=df['influencia_companieros'], alpha=nivel_de_significancia)\n",
        "\n",
        "# Mostrar los resultados\n",
        "print(tukey)\n",
        "\n",
        "# Gráfico de las diferencias entre grupos\n",
        "tukey.plot_simultaneous(ylabel=\"Grupos\", xlabel=\"Medias\")\n",
        "\n",
        "plt.gca().spines['right'].set_visible(False) # derecha\n",
        "plt.gca().spines['top'].set_visible(False)   # superior\n",
        "plt.title(\"Múltiples comparaciones entre todos los pares (Tukey)\")"
      ],
      "metadata": {
        "colab": {
          "base_uri": "https://localhost:8080/",
          "height": 0
        },
        "id": "TIY3lRJy2V9T",
        "outputId": "4d2f4951-af5e-4b46-c299-de4ff816cf21"
      },
      "execution_count": 69,
      "outputs": [
        {
          "output_type": "stream",
          "name": "stdout",
          "text": [
            " Multiple Comparison of Means - Tukey HSD, FWER=0.05  \n",
            "======================================================\n",
            " group1   group2  meandiff p-adj  lower  upper  reject\n",
            "------------------------------------------------------\n",
            "negativo  neutral   0.6441    0.0 0.3389 0.9492   True\n",
            "negativo positivo   1.0587    0.0 0.7545 1.3629   True\n",
            " neutral positivo   0.4146 0.0004 0.1614 0.6678   True\n",
            "------------------------------------------------------\n"
          ]
        },
        {
          "output_type": "execute_result",
          "data": {
            "text/plain": [
              "Text(0.5, 1.0, 'Múltiples comparaciones entre todos los pares (Tukey)')"
            ]
          },
          "metadata": {},
          "execution_count": 69
        },
        {
          "output_type": "display_data",
          "data": {
            "text/plain": [
              "<Figure size 1000x600 with 1 Axes>"
            ],
            "image/png": "[encoded data removed]"
          },
          "metadata": {}
        }
      ]
    },
    {
      "cell_type": "markdown",
      "source": [
        "## discapacidad_aprendizaje"
      ],
      "metadata": {
        "id": "bcsBgk_s2kMY"
      }
    },
    {
      "cell_type": "code",
      "source": [
        "df['discapacidad_aprendizaje'].unique()"
      ],
      "metadata": {
        "colab": {
          "base_uri": "https://localhost:8080/"
        },
        "id": "Y4K6XX8S2mps",
        "outputId": "ddcc4ecb-cbd3-456c-8728-fd5799d1c5f6"
      },
      "execution_count": 70,
      "outputs": [
        {
          "output_type": "execute_result",
          "data": {
            "text/plain": [
              "array(['no', 'si'], dtype=object)"
            ]
          },
          "metadata": {},
          "execution_count": 70
        }
      ]
    },
    {
      "cell_type": "code",
      "source": [
        "nivel_de_significancia = 0.05\n",
        "\n",
        "# Realizar ANOVA\n",
        "anova_result = stats.f_oneway(\n",
        "    df[df['discapacidad_aprendizaje'] == 'no']['puntaje_examen'],\n",
        "    df[df['discapacidad_aprendizaje'] == 'si']['puntaje_examen'],\n",
        "\n",
        "\n",
        ")\n",
        "\n",
        "# Interpretar los resultados\n",
        "print(\"Resultados del ANOVA:\")\n",
        "print(f\"F-Estadístico: {anova_result.statistic:.2f}\")\n",
        "print(f\"Valor p: {anova_result.pvalue:.5f}\\n\")\n",
        "\n",
        "if anova_result.pvalue < nivel_de_significancia:\n",
        "    print(\"Conclusión: Hay diferencias significativas entre al menos dos tratamientos.\")\n",
        "else:\n",
        "    print(\"Conclusión: No hay diferencias significativas entre los tratamientos.\")"
      ],
      "metadata": {
        "colab": {
          "base_uri": "https://localhost:8080/"
        },
        "id": "6_Hmvs-02sQA",
        "outputId": "6dd802ab-bdb9-4785-f4fa-5374690e9df4"
      },
      "execution_count": 71,
      "outputs": [
        {
          "output_type": "stream",
          "name": "stdout",
          "text": [
            "Resultados del ANOVA:\n",
            "F-Estadístico: 47.10\n",
            "Valor p: 0.00000\n",
            "\n",
            "Conclusión: Hay diferencias significativas entre al menos dos tratamientos.\n"
          ]
        }
      ]
    },
    {
      "cell_type": "code",
      "source": [
        "nivel_de_significancia = 0.05\n",
        "\n",
        "# Prueba de Tukey\n",
        "tukey = pairwise_tukeyhsd(endog=df['puntaje_examen'], groups=df['discapacidad_aprendizaje'], alpha=nivel_de_significancia)\n",
        "\n",
        "# Mostrar los resultados\n",
        "print(tukey)\n",
        "\n",
        "# Gráfico de las diferencias entre grupos\n",
        "tukey.plot_simultaneous(ylabel=\"Grupos\", xlabel=\"Medias\")\n",
        "\n",
        "plt.gca().spines['right'].set_visible(False) # derecha\n",
        "plt.gca().spines['top'].set_visible(False)   # superior\n",
        "plt.title(\"Múltiples comparaciones entre todos los pares (Tukey)\")"
      ],
      "metadata": {
        "colab": {
          "base_uri": "https://localhost:8080/",
          "height": 0
        },
        "id": "sVJuh5NI3Cjo",
        "outputId": "29de80e4-93b9-4f9e-fa43-13db16665b8e"
      },
      "execution_count": 72,
      "outputs": [
        {
          "output_type": "stream",
          "name": "stdout",
          "text": [
            "Multiple Comparison of Means - Tukey HSD, FWER=0.05\n",
            "===================================================\n",
            "group1 group2 meandiff p-adj  lower   upper  reject\n",
            "---------------------------------------------------\n",
            "    no     si  -1.0746   0.0 -1.3815 -0.7677   True\n",
            "---------------------------------------------------\n"
          ]
        },
        {
          "output_type": "execute_result",
          "data": {
            "text/plain": [
              "Text(0.5, 1.0, 'Múltiples comparaciones entre todos los pares (Tukey)')"
            ]
          },
          "metadata": {},
          "execution_count": 72
        },
        {
          "output_type": "display_data",
          "data": {
            "text/plain": [
              "<Figure size 1000x600 with 1 Axes>"
            ],
            "image/png": "[encoded data removed]"
          },
          "metadata": {}
        }
      ]
    },
    {
      "cell_type": "markdown",
      "source": [
        "## nivel_estudio_padres"
      ],
      "metadata": {
        "id": "YwpNJwXo3McP"
      }
    },
    {
      "cell_type": "code",
      "source": [
        "df['nivel_estudio_padres'].unique()"
      ],
      "metadata": {
        "colab": {
          "base_uri": "https://localhost:8080/"
        },
        "id": "f1yGsy4u3OOB",
        "outputId": "59fcfe5b-a2ca-4a39-ed70-659ae79cba62"
      },
      "execution_count": 73,
      "outputs": [
        {
          "output_type": "execute_result",
          "data": {
            "text/plain": [
              "array(['preparatoria', 'universidad', 'posgrado', nan], dtype=object)"
            ]
          },
          "metadata": {},
          "execution_count": 73
        }
      ]
    },
    {
      "cell_type": "code",
      "source": [
        "df = df.dropna(subset=['nivel_estudio_padres', 'puntaje_examen'])\n",
        "\n",
        "\n",
        "nivel_de_significancia = 0.05\n",
        "\n",
        "# Realizar ANOVA\n",
        "anova_result = stats.f_oneway(\n",
        "    df[df['nivel_estudio_padres'] == 'preparatoria']['puntaje_examen'],\n",
        "    df[df['nivel_estudio_padres'] == 'universidad']['puntaje_examen'],\n",
        "    df[df['nivel_estudio_padres'] == 'posgrado']['puntaje_examen'],\n",
        "\n",
        ")\n",
        "\n",
        "# Interpretar los resultados\n",
        "print(\"Resultados del ANOVA:\")\n",
        "print(f\"F-Estadístico: {anova_result.statistic:.2f}\")\n",
        "print(f\"Valor p: {anova_result.pvalue:.5f}\\n\")\n",
        "\n",
        "if anova_result.pvalue < nivel_de_significancia:\n",
        "    print(\"Conclusión: Hay diferencias significativas entre al menos dos tratamientos.\")\n",
        "else:\n",
        "    print(\"Conclusión: No hay diferencias significativas entre los tratamientos.\")"
      ],
      "metadata": {
        "colab": {
          "base_uri": "https://localhost:8080/"
        },
        "id": "M5eD48hL3YUG",
        "outputId": "e7bba8ec-f212-4970-b7fb-210c6ac87a06"
      },
      "execution_count": 74,
      "outputs": [
        {
          "output_type": "stream",
          "name": "stdout",
          "text": [
            "Resultados del ANOVA:\n",
            "F-Estadístico: 36.13\n",
            "Valor p: 0.00000\n",
            "\n",
            "Conclusión: Hay diferencias significativas entre al menos dos tratamientos.\n"
          ]
        }
      ]
    },
    {
      "cell_type": "code",
      "source": [
        "nivel_de_significancia = 0.05\n",
        "\n",
        "# Prueba de Tukey\n",
        "tukey = pairwise_tukeyhsd(endog=df['puntaje_examen'], groups=df['nivel_estudio_padres'], alpha=nivel_de_significancia)\n",
        "\n",
        "# Mostrar los resultados\n",
        "print(tukey)\n",
        "\n",
        "# Gráfico de las diferencias entre grupos\n",
        "tukey.plot_simultaneous(ylabel=\"Grupos\", xlabel=\"Medias\")\n",
        "\n",
        "plt.gca().spines['right'].set_visible(False) # derecha\n",
        "plt.gca().spines['top'].set_visible(False)   # superior\n",
        "plt.title(\"Múltiples comparaciones entre todos los pares (Tukey)\")"
      ],
      "metadata": {
        "colab": {
          "base_uri": "https://localhost:8080/",
          "height": 0
        },
        "id": "199QSQXQ3ocE",
        "outputId": "52222dc8-8bf6-4e2a-bf17-0f42928e4553"
      },
      "execution_count": 75,
      "outputs": [
        {
          "output_type": "stream",
          "name": "stdout",
          "text": [
            "      Multiple Comparison of Means - Tukey HSD, FWER=0.05       \n",
            "================================================================\n",
            "   group1       group2    meandiff p-adj   lower   upper  reject\n",
            "----------------------------------------------------------------\n",
            "    posgrado preparatoria  -1.0792    0.0 -1.3798 -0.7786   True\n",
            "    posgrado  universidad   -0.642    0.0 -0.9684 -0.3155   True\n",
            "preparatoria  universidad   0.4373 0.0003  0.1759  0.6986   True\n",
            "----------------------------------------------------------------\n"
          ]
        },
        {
          "output_type": "execute_result",
          "data": {
            "text/plain": [
              "Text(0.5, 1.0, 'Múltiples comparaciones entre todos los pares (Tukey)')"
            ]
          },
          "metadata": {},
          "execution_count": 75
        },
        {
          "output_type": "display_data",
          "data": {
            "text/plain": [
              "<Figure size 1000x600 with 1 Axes>"
            ],
            "image/png": "[encoded data removed]"
          },
          "metadata": {}
        }
      ]
    },
    {
      "cell_type": "markdown",
      "source": [
        "## distancia"
      ],
      "metadata": {
        "id": "GsDamweL328i"
      }
    },
    {
      "cell_type": "code",
      "source": [
        "df['distancia'].unique()"
      ],
      "metadata": {
        "colab": {
          "base_uri": "https://localhost:8080/"
        },
        "id": "MVsbDlvi34Xh",
        "outputId": "845e250e-0a22-4692-9cc5-2afb53350baf"
      },
      "execution_count": 76,
      "outputs": [
        {
          "output_type": "execute_result",
          "data": {
            "text/plain": [
              "array(['cercano', 'moderado', 'lejano', nan], dtype=object)"
            ]
          },
          "metadata": {},
          "execution_count": 76
        }
      ]
    },
    {
      "cell_type": "code",
      "source": [
        "df = df.dropna(subset=['distancia', 'puntaje_examen'])\n",
        "\n",
        "\n",
        "nivel_de_significancia = 0.05\n",
        "\n",
        "# Realizar ANOVA\n",
        "anova_result = stats.f_oneway(\n",
        "    df[df['distancia'] == 'cercano']['puntaje_examen'],\n",
        "    df[df['distancia'] == 'moderado']['puntaje_examen'],\n",
        "    df[df['distancia'] == 'lejano']['puntaje_examen'],\n",
        "\n",
        ")\n",
        "\n",
        "# Interpretar los resultados\n",
        "print(\"Resultados del ANOVA:\")\n",
        "print(f\"F-Estadístico: {anova_result.statistic:.2f}\")\n",
        "print(f\"Valor p: {anova_result.pvalue:.5f}\\n\")\n",
        "\n",
        "if anova_result.pvalue < nivel_de_significancia:\n",
        "    print(\"Conclusión: Hay diferencias significativas entre al menos dos tratamientos.\")\n",
        "else:\n",
        "    print(\"Conclusión: No hay diferencias significativas entre los tratamientos.\")"
      ],
      "metadata": {
        "colab": {
          "base_uri": "https://localhost:8080/"
        },
        "id": "2REeSBGs4CXn",
        "outputId": "afc02cdd-2a17-490c-b703-e5d49d42d60b"
      },
      "execution_count": 77,
      "outputs": [
        {
          "output_type": "stream",
          "name": "stdout",
          "text": [
            "Resultados del ANOVA:\n",
            "F-Estadístico: 24.94\n",
            "Valor p: 0.00000\n",
            "\n",
            "Conclusión: Hay diferencias significativas entre al menos dos tratamientos.\n"
          ]
        }
      ]
    },
    {
      "cell_type": "code",
      "source": [
        "nivel_de_significancia = 0.05\n",
        "\n",
        "# Prueba de Tukey\n",
        "tukey = pairwise_tukeyhsd(endog=df['puntaje_examen'], groups=df['distancia'], alpha=nivel_de_significancia)\n",
        "\n",
        "# Mostrar los resultados\n",
        "print(tukey)\n",
        "\n",
        "# Gráfico de las diferencias entre grupos\n",
        "tukey.plot_simultaneous(ylabel=\"Grupos\", xlabel=\"Medias\")\n",
        "\n",
        "plt.gca().spines['right'].set_visible(False) # derecha\n",
        "plt.gca().spines['top'].set_visible(False)   # superior\n",
        "plt.title(\"Múltiples comparaciones entre todos los pares (Tukey)\")"
      ],
      "metadata": {
        "colab": {
          "base_uri": "https://localhost:8080/",
          "height": 0
        },
        "id": "nl0Rtwaa4S7X",
        "outputId": "5e03959d-97f4-4c32-add2-235ba9319cd8"
      },
      "execution_count": 78,
      "outputs": [
        {
          "output_type": "stream",
          "name": "stdout",
          "text": [
            " Multiple Comparison of Means - Tukey HSD, FWER=0.05  \n",
            "======================================================\n",
            " group1  group2  meandiff p-adj  lower   upper  reject\n",
            "------------------------------------------------------\n",
            "cercano   lejano  -1.0154   0.0  -1.407 -0.6237   True\n",
            "cercano moderado  -0.5272   0.0 -0.7822 -0.2722   True\n",
            " lejano moderado   0.4882 0.017  0.0705  0.9059   True\n",
            "------------------------------------------------------\n"
          ]
        },
        {
          "output_type": "execute_result",
          "data": {
            "text/plain": [
              "Text(0.5, 1.0, 'Múltiples comparaciones entre todos los pares (Tukey)')"
            ]
          },
          "metadata": {},
          "execution_count": 78
        },
        {
          "output_type": "display_data",
          "data": {
            "text/plain": [
              "<Figure size 1000x600 with 1 Axes>"
            ],
            "image/png": "[encoded data removed]"
          },
          "metadata": {}
        }
      ]
    },
    {
      "cell_type": "markdown",
      "source": [
        "## genero"
      ],
      "metadata": {
        "id": "wPQidiGK4cRK"
      }
    },
    {
      "cell_type": "code",
      "source": [
        "df['genero'].unique()"
      ],
      "metadata": {
        "colab": {
          "base_uri": "https://localhost:8080/"
        },
        "id": "GZ-u4e9s4ddL",
        "outputId": "3c18d4cd-935e-477f-fcd0-762573b5e2b6"
      },
      "execution_count": 79,
      "outputs": [
        {
          "output_type": "execute_result",
          "data": {
            "text/plain": [
              "array(['hombre', 'mujer'], dtype=object)"
            ]
          },
          "metadata": {},
          "execution_count": 79
        }
      ]
    },
    {
      "cell_type": "code",
      "source": [
        "nivel_de_significancia = 0.05\n",
        "\n",
        "# Realizar ANOVA\n",
        "anova_result = stats.f_oneway(\n",
        "    df[df['genero'] == 'hombre']['puntaje_examen'],\n",
        "    df[df['genero'] == 'mujer']['puntaje_examen'],\n",
        "\n",
        ")\n",
        "\n",
        "# Interpretar los resultados\n",
        "print(\"Resultados del ANOVA:\")\n",
        "print(f\"F-Estadístico: {anova_result.statistic:.2f}\")\n",
        "print(f\"Valor p: {anova_result.pvalue:.5f}\\n\")\n",
        "\n",
        "if anova_result.pvalue < nivel_de_significancia:\n",
        "    print(\"Conclusión: Hay diferencias significativas entre al menos dos tratamientos.\")\n",
        "else:\n",
        "    print(\"Conclusión: No hay diferencias significativas entre los tratamientos.\")"
      ],
      "metadata": {
        "colab": {
          "base_uri": "https://localhost:8080/"
        },
        "id": "5MrbXfK54j7D",
        "outputId": "d52e66c6-93cf-4440-852e-41d34ed66b76"
      },
      "execution_count": 80,
      "outputs": [
        {
          "output_type": "stream",
          "name": "stdout",
          "text": [
            "Resultados del ANOVA:\n",
            "F-Estadístico: 0.16\n",
            "Valor p: 0.69370\n",
            "\n",
            "Conclusión: No hay diferencias significativas entre los tratamientos.\n"
          ]
        }
      ]
    },
    {
      "cell_type": "markdown",
      "source": [
        "# Conclusion"
      ],
      "metadata": {
        "id": "Iv0yVnLh5K-1"
      }
    },
    {
      "cell_type": "markdown",
      "source": [
        "Tomando en cuenta todas las variables analizadas se puede concluir que la mayoria de los factores analizados si influyen en la calificacion del examen, pero hay ciertas variables como el genero y el tipo de escuela que no influyen en la variable que se esta analizando que es la calificacion del examen, tomando en cuenta esto seria recomendable revisar los factores que si influyen en la calificacion del examen y tratar de hacer algo para poder solucionar estas problematicas"
      ],
      "metadata": {
        "id": "KeNPwLIj5N8X"
      }
    }
  ]
}